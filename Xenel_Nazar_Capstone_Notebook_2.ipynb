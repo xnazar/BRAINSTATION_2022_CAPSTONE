{
 "cells": [
  {
   "cell_type": "markdown",
   "id": "151f4878",
   "metadata": {},
   "source": [
    "# BrainStation Capstone: Flight Data and CO2 Emissions\n",
    "\n",
    "**Author:** Xenel Nazar\n",
    "\n",
    "**Contact Info:** xenel.nazar@gmail.com\n",
    "\n",
    "**Submission Date:** Sept 26, 2022\n",
    "\n",
    "**Notebook:** 2 of 4"
   ]
  },
  {
   "cell_type": "markdown",
   "id": "c9246987",
   "metadata": {},
   "source": [
    "Table of Contents:\n",
    "\n",
    "[Introduction](#Introduction) \\\n",
    "[Visualizations: Tableau](#Visualizations:-Tableau)\n",
    "\n",
    "<details>\n",
    "    <summary>Figures</summary>\n",
    "    \n",
    "[Figure 1](#Figure-1) \\\n",
    "[Figure 2](#Figure-2) \\\n",
    "[Figure 3](#Figure-3) \\\n",
    "[Figure 4](#Figure-4) \\\n",
    "[Figure 5](#Figure-5) \\\n",
    "[Figure 6](#Figure-6) \\\n",
    "[Figure 7](#Figure-7) \\\n",
    "[Figure 8](#Figure-8) \\\n",
    "[Figure 9](#Figure-9) \\\n",
    "[Figure 10](#Figure-10) \\\n",
    "[Figure 11](#Figure-11) \\\n",
    "[Figure 12](#Figure-12) \\\n",
    "[Figure 13](#Figure-13) \\\n",
    "[Figure 14](#Figure-14) \\\n",
    "[Figure 15](#Figure-15) \\\n",
    " </details>\n",
    " \n",
    " [Sources](#Sources) "
   ]
  },
  {
   "cell_type": "markdown",
   "id": "fea822c1",
   "metadata": {},
   "source": [
    "# Introduction"
   ]
  },
  {
   "cell_type": "markdown",
   "id": "f83511c6",
   "metadata": {},
   "source": [
    "For the following notebook, we will looking at obtaining insights from our data after we have completed our data cleaning in the previous notebook."
   ]
  },
  {
   "cell_type": "markdown",
   "id": "55e4518b",
   "metadata": {},
   "source": [
    "# Visualizations: Tableau "
   ]
  },
  {
   "cell_type": "markdown",
   "id": "3197e8b5",
   "metadata": {},
   "source": [
    "### [Figure 1](https://public.tableau.com/views/BrainStationCapstone-FlightDataCO2Emissions/Fig1?:language=en-US&publish=yes&:display_count=n&:origin=viz_share_link)"
   ]
  },
  {
   "cell_type": "markdown",
   "id": "782354e5",
   "metadata": {},
   "source": [
    "![Fig 1](visualizations/fig_1.jpg \"Figure 1\")"
   ]
  },
  {
   "cell_type": "markdown",
   "id": "92da095b",
   "metadata": {},
   "source": [
    "Based on the routes we have generated, as well coordinate information from each of the origin and destination airports, we were able to generate the above route map for figure 1."
   ]
  },
  {
   "cell_type": "markdown",
   "id": "6eb16e6b",
   "metadata": {},
   "source": [
    "The locations of the airports cover the majority of continents worldwide, with airports located in major city hubs like New York, London, Shanghai, and many others."
   ]
  },
  {
   "cell_type": "markdown",
   "id": "df3a5816",
   "metadata": {},
   "source": [
    "### [Figure 2](https://public.tableau.com/views/BrainStationCapstone-FlightDataCO2Emissions/Fig2?:language=en-US&:display_count=n&:origin=viz_share_link)"
   ]
  },
  {
   "cell_type": "markdown",
   "id": "3dc8d2f2",
   "metadata": {},
   "source": [
    "![Fig 2](visualizations/fig_2.jpg \"Figure 2\")"
   ]
  },
  {
   "cell_type": "markdown",
   "id": "2ea0d0e3",
   "metadata": {},
   "source": [
    "In figure 2, we can see there is a positive correlation between CO2 emissions and Price. "
   ]
  },
  {
   "cell_type": "markdown",
   "id": "11ca4c0b",
   "metadata": {},
   "source": [
    "### [Figure 3](https://public.tableau.com/app/profile/xenel.nazar/viz/BrainStationCapstone-FlightDataCO2Emissions/Fig3)"
   ]
  },
  {
   "cell_type": "markdown",
   "id": "33b7b8ab",
   "metadata": {},
   "source": [
    "![Fig 3](visualizations/fig_3.jpg \"Figure 3\")"
   ]
  },
  {
   "cell_type": "markdown",
   "id": "dc3314ce",
   "metadata": {},
   "source": [
    "In figure 3, we also see a positive correlation between CO2 Emisssions and Distance Flown. "
   ]
  },
  {
   "cell_type": "markdown",
   "id": "c8b2b82f",
   "metadata": {},
   "source": [
    "### [Figure 4](https://public.tableau.com/app/profile/xenel.nazar/viz/BrainStationCapstone-FlightDataCO2Emissions/Fig4)"
   ]
  },
  {
   "cell_type": "markdown",
   "id": "6d91a083",
   "metadata": {},
   "source": [
    "![Fig 4](visualizations/fig_4.jpg \"Figure 4\")"
   ]
  },
  {
   "cell_type": "markdown",
   "id": "b2b843e4",
   "metadata": {},
   "source": [
    "For figure 4, we can see the routes with the highest amount of CO2 emissions generated. We can note that these routes are all cross-continent flights that span large average distances, which likely explains the high CO2 emissions."
   ]
  },
  {
   "cell_type": "markdown",
   "id": "42f0dbf1",
   "metadata": {},
   "source": [
    "### [Figure 5](https://public.tableau.com/app/profile/xenel.nazar/viz/BrainStationCapstone-FlightDataCO2Emissions/Fig5)"
   ]
  },
  {
   "cell_type": "markdown",
   "id": "bc1c206c",
   "metadata": {},
   "source": [
    "![Fig 5](visualizations/fig_5_revb.jpg \"Figure 5\")"
   ]
  },
  {
   "cell_type": "markdown",
   "id": "80fc5b93",
   "metadata": {},
   "source": [
    "Figure 5 lists the routes with the lowest average CO2 emissions. The routes shown are all short distances, and for the most part, are intra-country flights. "
   ]
  },
  {
   "cell_type": "markdown",
   "id": "8838f955",
   "metadata": {},
   "source": [
    "### [Figure 6](https://public.tableau.com/app/profile/xenel.nazar/viz/BrainStationCapstone-FlightDataCO2Emissions/Fig6)"
   ]
  },
  {
   "cell_type": "markdown",
   "id": "e993db5c",
   "metadata": {},
   "source": [
    "![Fig 6](visualizations/fig_6.jpg \"Figure 6\")"
   ]
  },
  {
   "cell_type": "markdown",
   "id": "1a8d6fe0",
   "metadata": {},
   "source": [
    "Figure 6 shows routes with the best efficiency based on the distance covered per lb of CO2 generated. We can see that cross-continent flights are in fact efficient forms of travel. However, we need to take into account that the average number of stops are between 1-2 stops for each route. So while longer distance routes result in better efficiency, stops needs to limit 1-2 stops maximum. "
   ]
  },
  {
   "cell_type": "markdown",
   "id": "7ecec520",
   "metadata": {},
   "source": [
    "### [Figure 7](https://public.tableau.com/app/profile/xenel.nazar/viz/BrainStationCapstone-FlightDataCO2Emissions/Fig7)"
   ]
  },
  {
   "cell_type": "markdown",
   "id": "ff19ffa3",
   "metadata": {},
   "source": [
    "![Fig 7](visualizations/fig_7.jpg \"Figure 7\")"
   ]
  },
  {
   "cell_type": "markdown",
   "id": "32af1a34",
   "metadata": {},
   "source": [
    "Figure 7 lists the 15 routes that are the least efficient. Majority of the trips are intra-country trips with an average number of stops between 1-2 stops. While short intra-country flights may result in less overall CO2 emissions, the fact is these flights would not be the most efficient way to travel. Flyers may look to other modes of transportation that have less of an environmental impact. "
   ]
  },
  {
   "cell_type": "markdown",
   "id": "f1d55409",
   "metadata": {},
   "source": [
    "### [Figure 8](https://public.tableau.com/app/profile/xenel.nazar/viz/BrainStationCapstone-FlightDataCO2Emissions/Fig8)"
   ]
  },
  {
   "cell_type": "markdown",
   "id": "2247ddf6",
   "metadata": {},
   "source": [
    "![Fig 8](visualizations/fig_8.jpg \"Figure 8\")"
   ]
  },
  {
   "cell_type": "markdown",
   "id": "59122852",
   "metadata": {},
   "source": [
    "Figure 8 details the most efficient aircraft in regards to distance flown per lb of CO2 generated. We can see that the majority of the planes listed are all modern releases, including the various families of the Boeing 787 Dreamliner (Produced 2007-Present) as well as the Boeing 737 Max (produced 2014-Present), which is a modern revision to the successful Boeing 737 line ([1](https://www.boeing.com/company/about-bca/washington/production-begins-on-1st-boeing-737-max-parts-10-13-2014.page)). Both for example are capable of flying long distances: 11,000-14,000kms for the Boeing 787 line and ~6,000kms for the Boeing 737 Max line ([2](https://www.boeing.com/commercial/787/) & [3](https://www.boeing.com/commercial/737max#/overview)). \n",
    "Potential operators, such as Airlines, can use efficiency information to optimize their route planning. For instance, Airline operators have a business case to alter routes, which require a stop due to range limitations on their current fleet to a non-stop flight based on how efficient modern aircraft are. \n",
    "\n",
    "\n"
   ]
  },
  {
   "cell_type": "markdown",
   "id": "0a96bf59",
   "metadata": {},
   "source": [
    "### [Figure 9](https://public.tableau.com/app/profile/xenel.nazar/viz/BrainStationCapstone-FlightDataCO2Emissions/Fig9)"
   ]
  },
  {
   "cell_type": "markdown",
   "id": "836779df",
   "metadata": {},
   "source": [
    "![Fig 9](visualizations/fig_9.jpg \"Figure 9\")"
   ]
  },
  {
   "cell_type": "markdown",
   "id": "d1e7d758",
   "metadata": {},
   "source": [
    "However, Figure 9 details the least effficient aircraft in the dataset. Aircraft, such as the SAAB SF 340, ATR 42, and ATR 72, are all turboprop aircraft with limited range. For instance, the SAAB SF 340 has a range of 800-1200km, while the ATR 42 and ATR 72 have a max range of 1300km ([4](https://www.saab.com/globalassets/products/support-and-services/saab-3402000-support/saab-regional-aircraft.pdf), [5](https://www.atr-aircraft.com/our-aircraft/atr-42-600/), and [6](https://www.atr-aircraft.com/our-aircraft/atr-72-600/)).\n",
    "\n",
    "Operators can review their aircraft fleet for inefficient aircraft, such as the SAAB SF 340, ATR 42, and ATR 72, and have plans in place to either upgrade to the latest offerings from manufacturers, such as Boeing.\n",
    "\n",
    "Flyers can look at Airlines with more modern fleets to ensure they are flying more efficiently for their trip."
   ]
  },
  {
   "cell_type": "markdown",
   "id": "4086acba",
   "metadata": {},
   "source": [
    "### [Figure 10](https://public.tableau.com/app/profile/xenel.nazar/viz/BrainStationCapstone-FlightDataCO2Emissions/Fig10)"
   ]
  },
  {
   "cell_type": "markdown",
   "id": "92bf9011",
   "metadata": {},
   "source": [
    "![Fig 10](visualizations/fig_10.jpg \"Figure 10\")"
   ]
  },
  {
   "cell_type": "markdown",
   "id": "15cca308",
   "metadata": {},
   "source": [
    "Figure 11 shows the first leg airlines with the best efficiency. We can also note that these airlines have an average of 0-1 stops. In addition, most on the list are \"Low-Cost-Carrier\" (LCC) operators, that are known for their low ticket prices but also for drive to maximize efficiency overall ([7](https://www.icao.int/sustainability/Pages/Low-Cost-Carriers.aspx)). \n",
    "\n",
    "Potential flyers can use this information to ensure that they book with LCC airlines on trips that are non-stop flights."
   ]
  },
  {
   "cell_type": "markdown",
   "id": "12e1cd6c",
   "metadata": {},
   "source": [
    "### [Figure 11](https://public.tableau.com/app/profile/xenel.nazar/viz/BrainStationCapstone-FlightDataCO2Emissions/Fig11)"
   ]
  },
  {
   "cell_type": "markdown",
   "id": "44ec2612",
   "metadata": {},
   "source": [
    "![Fig 11](visualizations/fig_11.jpg \"Figure 11\")"
   ]
  },
  {
   "cell_type": "markdown",
   "id": "efd7c85f",
   "metadata": {},
   "source": [
    "Figure 11 shows the least efficient airlines. Majority of the operators are national carriers, such as Nepal Airlines, Air Malta, Air Serbia, and others. These carriers are based in countries that do not have the same capital backing that would result in having an efficient aircraft fleet. In addition, the average number of stops range from 0-3 stops, this points to the likelihood that flyers are connecting at major hub airports, such as London Heathrow to get to their end destination. "
   ]
  },
  {
   "cell_type": "markdown",
   "id": "349a8c74",
   "metadata": {},
   "source": [
    "### [Figure 12](https://public.tableau.com/app/profile/xenel.nazar/viz/BrainStationCapstone-FlightDataCO2Emissions/Fig12)"
   ]
  },
  {
   "cell_type": "markdown",
   "id": "a3996297",
   "metadata": {},
   "source": [
    "![Fig 12](visualizations/fig_12.jpg \"Figure 12\")"
   ]
  },
  {
   "cell_type": "markdown",
   "id": "fbe54872",
   "metadata": {},
   "source": [
    "Figure 12 looks at the number of stops and how the average distance and average emissions increase as the number of stops increases. One notable point is that at six stops, the average emissions decreases. At stops 3-5 we can see somewhat of a plateau for the distance covered. This is helpful for operators to optimize their routes to see if they can use the same aircraft for different route combinations to help get customers to their destination."
   ]
  },
  {
   "cell_type": "markdown",
   "id": "58f6287f",
   "metadata": {},
   "source": [
    "### [Figure 13](https://public.tableau.com/app/profile/xenel.nazar/viz/BrainStationCapstone-FlightDataCO2Emissions/Fig13)"
   ]
  },
  {
   "cell_type": "markdown",
   "id": "a5ba2735",
   "metadata": {},
   "source": [
    "![Fig 13](visualizations/fig_13.jpg \"Figure 13\")"
   ]
  },
  {
   "cell_type": "markdown",
   "id": "ba065be0",
   "metadata": {},
   "source": [
    "Figure 13 on the other hand, details the number of stops versus overall efficiency (km/lbs). We can see that non-stop or 0 stop flights, 2 stops, and 6 stops are the most efficient stops. While trips with 1, 3, 4, and 5 stops are the most inefficient. \n",
    "\n",
    "Operators can use this information to optimize routes and connections for their customers. While flyers can use this information when booking to aim for trips with efficient stops, such as non-stop flights. "
   ]
  },
  {
   "cell_type": "markdown",
   "id": "d7cb3ae2",
   "metadata": {},
   "source": [
    "### [Figure 14](https://public.tableau.com/app/profile/xenel.nazar/viz/BrainStationCapstone-FlightDataCO2Emissions/Fig14)"
   ]
  },
  {
   "cell_type": "markdown",
   "id": "78bd5462",
   "metadata": {},
   "source": [
    "![Fig 14](visualizations/fig_14_revb.jpg \"Figure 14\")"
   ]
  },
  {
   "cell_type": "markdown",
   "id": "7beb3f38",
   "metadata": {},
   "source": [
    "Figure 14 details the most and least efficient departure times. We can see that trips departing at 6AM UTC are the most efficient at ~7.6km/lb, with 2AM and 4AM UTC closely behind. \n",
    "\n",
    "We can also see that from the period from 7AM-11PM UTC, majority of the times are not as efficient. This can likely be due to peak travel times accross the world. \n",
    "\n",
    "Flyers can use this information to ensure they fly during efficient departure times in their timezone."
   ]
  },
  {
   "cell_type": "markdown",
   "id": "88ef07ec",
   "metadata": {},
   "source": [
    "### [Figure 15](https://public.tableau.com/app/profile/xenel.nazar/viz/BrainStationCapstone-FlightDataCO2Emissions/Fig15)"
   ]
  },
  {
   "cell_type": "markdown",
   "id": "bc324f33",
   "metadata": {},
   "source": [
    "![Fig 15](visualizations/fig_15_revb.jpg \"Figure 15\")"
   ]
  },
  {
   "cell_type": "markdown",
   "id": "75dc535a",
   "metadata": {},
   "source": [
    "Figure 15 details the most and least efficient arrival times. We can see that at 7.7km/lb, the most efficient times are at 3AM, 4AM, and 7AM UTC, while the least efficient arrival times are from 6PM-12AM UTC. \n",
    "\n",
    "Flyers can schedule their departure and arrival times based on this information, to limit their environmental impact. "
   ]
  },
  {
   "cell_type": "markdown",
   "id": "ee4b5aaf",
   "metadata": {},
   "source": [
    "# Sources\n",
    "\n",
    "(1) - https://www.boeing.com/company/about-bca/washington/production-begins-on-1st-boeing-737-max-parts-10-13-2014.page\n",
    "\n",
    "(2) - https://www.boeing.com/commercial/787/\n",
    "\n",
    "(3) - https://www.boeing.com/commercial/737max#/overview\n",
    "\n",
    "(4) - https://www.saab.com/globalassets/products/support-and-services/saab-3402000-support/saab-regional-aircraft.pdf\n",
    "\n",
    "(5) - https://www.atr-aircraft.com/our-aircraft/atr-42-600/\n",
    "\n",
    "(6) - https://www.atr-aircraft.com/our-aircraft/atr-72-600/\n",
    "\n",
    "(7) - https://www.icao.int/sustainability/Pages/Low-Cost-Carriers.aspx"
   ]
  },
  {
   "cell_type": "code",
   "execution_count": null,
   "id": "1a48186c",
   "metadata": {},
   "outputs": [],
   "source": []
  }
 ],
 "metadata": {
  "kernelspec": {
   "display_name": "Python [conda env:capstone]",
   "language": "python",
   "name": "conda-env-capstone-py"
  },
  "language_info": {
   "codemirror_mode": {
    "name": "ipython",
    "version": 3
   },
   "file_extension": ".py",
   "mimetype": "text/x-python",
   "name": "python",
   "nbconvert_exporter": "python",
   "pygments_lexer": "ipython3",
   "version": "3.8.13"
  }
 },
 "nbformat": 4,
 "nbformat_minor": 5
}
