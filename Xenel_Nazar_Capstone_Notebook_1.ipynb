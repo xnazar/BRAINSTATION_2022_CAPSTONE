{
 "cells": [
  {
   "cell_type": "markdown",
   "id": "97eb07aa",
   "metadata": {},
   "source": [
    "# BrainStation Capstone: Flight Data and CO2 Emissions\n",
    "\n",
    "**Author:** Xenel Nazar\n",
    "\n",
    "**Contact Info:** xenel.nazar@gmail.com\n",
    "\n",
    "**Submission Date:** Sept 26, 2022\n",
    "\n",
    "**Notebook:** 1 of 4"
   ]
  },
  {
   "cell_type": "markdown",
   "id": "63b88988",
   "metadata": {},
   "source": [
    "Table of Contents:\n",
    "\n",
    "[Introduction](#Introduction) \\\n",
    "[Data Overview](#Data-Overview) \\\n",
    "[Data Dictionary](#Data-Dictionary) \\\n",
    "[Data Wrangling/Cleaning](#Data-Wrangling/Cleaning) \\\n",
    "[Sources](#Sources) "
   ]
  },
  {
   "cell_type": "markdown",
   "id": "1ea6aa7f",
   "metadata": {},
   "source": [
    "# Introduction"
   ]
  },
  {
   "cell_type": "markdown",
   "id": "0e9f46a9",
   "metadata": {},
   "source": [
    "Climate change is widely considered as a major concern for many in our generation. The aviation industry accounts for 2.5% of total carbon emissions, and the emissions from the industry have doubled since the mid-1980s ([1](https://ourworldindata.org/co2-emissions-from-aviation)). Recent celebrity scrutiny of utilizing their private jets inefficiently has generated more interest into how everyday people can do their part to limit their CO2 emissions and overall impact to the environment ([2](https://www.buzzfeednews.com/article/lesliefinlay/how-celebrity-private-jet-emissions-affect-environment) & [3](https://www.washingtonpost.com/climate-environment/2022/08/02/taylor-swift-kylie-jenner-private-jet-emissions/)). "
   ]
  },
  {
   "cell_type": "markdown",
   "id": "9014cd67",
   "metadata": {},
   "source": [
    "The following capstone project, including all pertinent notebooks, visualizations, and report, will look to generate insights on CO2 emissions generated from commercial flights around the world, and how flyers can ensure that if they do need to fly, they conduct it efficiently."
   ]
  },
  {
   "cell_type": "markdown",
   "id": "a6082270",
   "metadata": {},
   "source": [
    "The plan for the capstone project is to gather our data, execute all required cleaning of the data, run EDA on the data, pre-process the data, and conduct all required modeling and optimization steps to generate key takeaways."
   ]
  },
  {
   "cell_type": "markdown",
   "id": "2ac4849f",
   "metadata": {},
   "source": [
    "### Import Libraries"
   ]
  },
  {
   "cell_type": "markdown",
   "id": "27f4e70d",
   "metadata": {},
   "source": [
    "We will first load the libraries needed to assist with Data Wrangling and Data Cleaning to help prepare for the next steps in EDA, as well as Modeling. "
   ]
  },
  {
   "cell_type": "code",
   "execution_count": null,
   "id": "6c88951a",
   "metadata": {},
   "outputs": [],
   "source": [
    "# import libraries\n",
    "import numpy as np\n",
    "import pandas as pd\n",
    "pd.options.display.max_columns = 999\n",
    "import matplotlib.pyplot as plt\n",
    "import plotly.express as px\n",
    "from geopy import distance\n",
    "from geopy import Point\n",
    "from datetime import timedelta"
   ]
  },
  {
   "cell_type": "markdown",
   "id": "803e2034",
   "metadata": {},
   "source": [
    "# Data Overview"
   ]
  },
  {
   "cell_type": "markdown",
   "id": "f65e7b72",
   "metadata": {},
   "source": [
    "The data we will use was scraped Barking Data, a web data miner ([4](https://www.barkingdata.com/)). Barking Data utilized flight data scrapped from Google Flights, which provides key details including CO2 Emissions per trip ([5](https://www.google.com/flights/)). Barking Data hosted a sample of their data containing close to a million rows in Kaggle ([6](https://www.kaggle.com/datasets/polartech/flight-data-with-1-million-or-more-records)). "
   ]
  },
  {
   "cell_type": "markdown",
   "id": "2e6c2310",
   "metadata": {},
   "source": [
    "We will now load the data, which is currently stored in a Google Drive instead of directly from Kaggle, to help eliminate Kaggle authentication requirements."
   ]
  },
  {
   "cell_type": "code",
   "execution_count": null,
   "id": "a883ecd9",
   "metadata": {},
   "outputs": [],
   "source": [
    "# import zip file from google drive into dataframe\n",
    "url = 'https://drive.google.com/file/d/1d988nLtyFEEba6ksIm7islAgI-bQ9DXj/view?usp=sharing'\n",
    "file_id=url.split('/')[-2]\n",
    "dwn_url='https://drive.google.com/uc?id=' + file_id\n",
    "df = pd.read_csv(dwn_url, compression='zip')"
   ]
  },
  {
   "cell_type": "code",
   "execution_count": null,
   "id": "0a4efc64",
   "metadata": {},
   "outputs": [],
   "source": [
    "# verify dataframe\n",
    "df.head()"
   ]
  },
  {
   "cell_type": "code",
   "execution_count": null,
   "id": "2c07c7e1",
   "metadata": {},
   "outputs": [],
   "source": [
    "print('\\Data Shape:', df.shape)\n",
    "print('\\nNumber of rows:', df.shape[0])\n",
    "print('\\nNumber of columns:', df.shape[1])"
   ]
  },
  {
   "cell_type": "markdown",
   "id": "9d3d3553",
   "metadata": {},
   "source": [
    "The dataset contains 998,866 rows and 18 columns."
   ]
  },
  {
   "cell_type": "markdown",
   "id": "23ef55b1",
   "metadata": {},
   "source": [
    "# Data Dictionary"
   ]
  },
  {
   "cell_type": "code",
   "execution_count": null,
   "id": "a58d01b6",
   "metadata": {},
   "outputs": [],
   "source": [
    "# info on dataset\n",
    "df.info()"
   ]
  },
  {
   "cell_type": "markdown",
   "id": "fe6191fd",
   "metadata": {},
   "source": [
    "Barking Data did not include a data dictionary for us to utilize, but from the columns and viewing the contents of the data, we can see that the data contains the following:\n",
    "\n",
    "\n",
    "Origin Airport Information:\n",
    "- `from_airport_code` - Origin Airport Code\n",
    "- `from_country` - Origin Airport Country\n",
    "\n",
    "\n",
    "Destination Airport Information:\n",
    "- `dest_airport_code` - Destination Airport Code\n",
    "- `dest_airport_country` - Destination Airport Country\n",
    "\n",
    "\n",
    "Aircraft Information:\n",
    "- `aircraft_type` - Aircraft Type(s)\n",
    "\n",
    "\n",
    "Airline Information:\n",
    "- `airline_number` - Airline Number\n",
    "- `airline_name` - Airline Name(s)\n",
    "\n",
    "\n",
    "Flight/Trip Information:\n",
    "- `flight_number` - Flight Number\n",
    "- `departure_time` - Departure Time\n",
    "- `arrival_time` - Arrival Time\n",
    "- `duration` - Duration of Flight/Trip\n",
    "- `stops` - Number of stops to Destination\n",
    "- `price` - Price of Flight/Trip\n",
    "- `currency` - Currency of Price (USD)\n",
    "- `co2_emissions` - CO2 Emissions generated for Flight/Trip\n",
    "\n",
    "\n",
    "CO2 Emissions Comparison Metrics:\n",
    "- `avg_co2_emission_for_this_route` - Average CO2 Emission for the Flight/Trip\n",
    "- `co2_percentage` - Calculation based on CO2 Emissions and Average CO2 Emissions\n",
    "\n",
    "\n",
    "Web Scrape Info:\n",
    "- `scan_date` - Web Scrape Date\n"
   ]
  },
  {
   "cell_type": "markdown",
   "id": "9b4c1ddf",
   "metadata": {},
   "source": [
    "# Data Wrangling/Cleaning"
   ]
  },
  {
   "cell_type": "markdown",
   "id": "1894ce01",
   "metadata": {},
   "source": [
    "We will now review the data in the dataset and perform any necessary cleaning prior to data pre-processing and modeling."
   ]
  },
  {
   "cell_type": "markdown",
   "id": "e480c428",
   "metadata": {},
   "source": [
    "### Review Date Columns"
   ]
  },
  {
   "cell_type": "code",
   "execution_count": null,
   "id": "917c6d4b",
   "metadata": {},
   "outputs": [],
   "source": [
    "df.info()"
   ]
  },
  {
   "cell_type": "markdown",
   "id": "1c0db005",
   "metadata": {},
   "source": [
    "We can see that the data is not in the proper datetime data type. We will need to change all date columns to datetime data type. "
   ]
  },
  {
   "cell_type": "code",
   "execution_count": null,
   "id": "b7109184",
   "metadata": {},
   "outputs": [],
   "source": [
    "# change date columns to datetime format.\n",
    "df['departure_time'] = pd.to_datetime(df['departure_time'])\n",
    "df['arrival_time'] = pd.to_datetime(df['arrival_time'])\n",
    "df['scan_date'] = pd.to_datetime(df['scan_date'])"
   ]
  },
  {
   "cell_type": "code",
   "execution_count": null,
   "id": "f4f5f09e",
   "metadata": {},
   "outputs": [],
   "source": [
    "# verify\n",
    "df.info()"
   ]
  },
  {
   "cell_type": "markdown",
   "id": "5f506f93",
   "metadata": {},
   "source": [
    "#### Verify Earliest and Latest Date Info"
   ]
  },
  {
   "cell_type": "code",
   "execution_count": null,
   "id": "e0265b31",
   "metadata": {},
   "outputs": [],
   "source": [
    "# Review Departure Date Info\n",
    "print('The earliest Departure Date is: ',df['departure_time'].min())\n",
    "print('The latest Departime Date is: ',df['departure_time'].max())"
   ]
  },
  {
   "cell_type": "markdown",
   "id": "4e1f3f1a",
   "metadata": {},
   "source": [
    "The departure dates are from the period of April 30,2022 to August 28, 2022. "
   ]
  },
  {
   "cell_type": "code",
   "execution_count": null,
   "id": "3a9ce2b7",
   "metadata": {},
   "outputs": [],
   "source": [
    "# Review Arrival Date Info\n",
    "print('The earliest Arrival Date is: ',df['arrival_time'].min())\n",
    "print('The latest Arrival Date is: ',df['arrival_time'].max())"
   ]
  },
  {
   "cell_type": "markdown",
   "id": "212158d0",
   "metadata": {},
   "source": [
    "The arrival dates are from the period of April 30,2022 to September 2, 2022."
   ]
  },
  {
   "cell_type": "code",
   "execution_count": null,
   "id": "8cb30bfe",
   "metadata": {},
   "outputs": [],
   "source": [
    "# Review Scan Date Info\n",
    "print('The earliest Scan Date is: ',df['scan_date'].min())\n",
    "print('The latest Scan Date is: ',df['scan_date'].max())"
   ]
  },
  {
   "cell_type": "markdown",
   "id": "7160be62",
   "metadata": {},
   "source": [
    "Scan date only lists one value, the date the web scrape/mine was done on April 29th, 2022. We can disregard this column as it will not be a factor for EDA and modelling."
   ]
  },
  {
   "cell_type": "code",
   "execution_count": null,
   "id": "4a31917c",
   "metadata": {},
   "outputs": [],
   "source": [
    "# drop scan_date column\n",
    "df =df.drop(['scan_date'], axis = 1)"
   ]
  },
  {
   "cell_type": "code",
   "execution_count": null,
   "id": "d66b7b36",
   "metadata": {},
   "outputs": [],
   "source": [
    "# verify\n",
    "df.info()"
   ]
  },
  {
   "cell_type": "markdown",
   "id": "37eb2f84",
   "metadata": {},
   "source": [
    "One factor we have to keep in mind is that the dates listed to do not account for timezones at the destination and arrival destinations. We will account for this later in the notebook to standardize to the UTC/GMT timezone for all locations."
   ]
  },
  {
   "cell_type": "markdown",
   "id": "82d8d2cb",
   "metadata": {},
   "source": [
    "### Verify Duplicates"
   ]
  },
  {
   "cell_type": "markdown",
   "id": "512bba36",
   "metadata": {},
   "source": [
    "We can now look at the duplicates in the dataset."
   ]
  },
  {
   "cell_type": "code",
   "execution_count": null,
   "id": "14e5f807",
   "metadata": {},
   "outputs": [],
   "source": [
    "x = df.duplicated().sum()\n",
    "y = round((x/df.shape[0])*100,2)\n",
    "\n",
    "print(f\"Total number of duplicate rows:\",x)\n",
    "print(f\"The total number of duplicate rows equates to:\", y, \"%\")"
   ]
  },
  {
   "cell_type": "markdown",
   "id": "b59dc547",
   "metadata": {},
   "source": [
    "There are a total of 51,197 rows that are duplicates which equates to 5.13%. Since these are duplicate rows we can remove these from the dataset. "
   ]
  },
  {
   "cell_type": "code",
   "execution_count": null,
   "id": "036f778e",
   "metadata": {},
   "outputs": [],
   "source": [
    "# drop duplicate rows\n",
    "df = df.drop_duplicates().copy()"
   ]
  },
  {
   "cell_type": "code",
   "execution_count": null,
   "id": "2a31b347",
   "metadata": {},
   "outputs": [],
   "source": [
    "# Verify Duplicates\n",
    "x = df.duplicated().sum()\n",
    "y = round((x/df.shape[0])*100,2)\n",
    "\n",
    "print(f\"Total number of duplicate rows:\",x)\n",
    "print(f\"The total number of duplicate rows equates to:\", y, \"%\")"
   ]
  },
  {
   "cell_type": "markdown",
   "id": "ff86a728",
   "metadata": {},
   "source": [
    "### Verify Null Values"
   ]
  },
  {
   "cell_type": "markdown",
   "id": "410c05b2",
   "metadata": {},
   "source": [
    "We can now look at the null values in the dataset."
   ]
  },
  {
   "cell_type": "code",
   "execution_count": null,
   "id": "a3600a7b",
   "metadata": {},
   "outputs": [],
   "source": [
    "df.info()"
   ]
  },
  {
   "cell_type": "markdown",
   "id": "8819bc19",
   "metadata": {},
   "source": [
    "We can see that we are missing info in:\n",
    "- `co2_emissions`\n",
    "- `price`\n",
    "- `aircraft_type`"
   ]
  },
  {
   "cell_type": "code",
   "execution_count": null,
   "id": "e7c3a266",
   "metadata": {},
   "outputs": [],
   "source": [
    "x = df['co2_emissions'].isnull().sum()\n",
    "y = round((x/df.shape[0])*100,2)\n",
    "print(f\"Total number of co2_emissions null values:\",x)\n",
    "print(f\"The total number of null equates to:\", y, \"%\")"
   ]
  },
  {
   "cell_type": "markdown",
   "id": "a5c166dc",
   "metadata": {},
   "source": [
    "We can see that there are 4,671 rows with missing values for CO2 emissions. We can impute the average CO2 emisssions using the `avg_co2_emissions_for_this_route` column. "
   ]
  },
  {
   "cell_type": "code",
   "execution_count": null,
   "id": "cd1916ae",
   "metadata": {},
   "outputs": [],
   "source": [
    "df['co2_emissions'].fillna(df['avg_co2_emission_for_this_route'], inplace=True)"
   ]
  },
  {
   "cell_type": "code",
   "execution_count": null,
   "id": "cfe8b4cd",
   "metadata": {},
   "outputs": [],
   "source": [
    "# verify\n",
    "x = df['co2_emissions'].isnull().sum()\n",
    "y = round((x/df.shape[0])*100,2)\n",
    "print(f\"Total number of co2_emissions null values:\",x)\n",
    "print(f\"The total number of null equates to:\", y, \"%\")"
   ]
  },
  {
   "cell_type": "markdown",
   "id": "a9dd578e",
   "metadata": {},
   "source": [
    "Around 4,145 rows or about 0.43% of the total dataset was able to be filled using the `avg_co2_emission_for_this_route` column."
   ]
  },
  {
   "cell_type": "markdown",
   "id": "26a8e17a",
   "metadata": {},
   "source": [
    "We can now look at the `price` column."
   ]
  },
  {
   "cell_type": "code",
   "execution_count": null,
   "id": "db3f771b",
   "metadata": {},
   "outputs": [],
   "source": [
    "x = df['price'].isnull().sum()\n",
    "y = round((x/df.shape[0])*100,2)\n",
    "print(f\"Total number of price null values:\",x)\n",
    "print(f\"The total number of null equates to:\", y, \"%\")"
   ]
  },
  {
   "cell_type": "markdown",
   "id": "a676419b",
   "metadata": {},
   "source": [
    "There are a total of 1,351 rows with missing values or 0.14% of the dataset.\n",
    "\n",
    "We can not impute the price column based on an average, as prices are based on the time of booking, as well as other factors including pricing for route, pricing from airline, the number of stops, etc. "
   ]
  },
  {
   "cell_type": "markdown",
   "id": "3ab06ed9",
   "metadata": {},
   "source": [
    "We can now also look at the `aircraft_type`. "
   ]
  },
  {
   "cell_type": "code",
   "execution_count": null,
   "id": "94f42c14",
   "metadata": {},
   "outputs": [],
   "source": [
    "x = df['aircraft_type'].isnull().sum()\n",
    "y = round((x/df.shape[0])*100,2)\n",
    "print(f\"Total number of aircraft type null values:\",x)\n",
    "print(f\"The total number of null equates to:\", y, \"%\")"
   ]
  },
  {
   "cell_type": "markdown",
   "id": "5bd402c8",
   "metadata": {},
   "source": [
    "The total number of rows missing `aircraft_type` values is 13,885 rows, which equates to 1.47% of the dataset. \n",
    "\n",
    "Imputing the values will need actual flight records in case there was a change to the aircraft used prior to the flight.\n",
    "\n",
    "Since the missing values equate to a small portion of the dataset, removing the values for `price` and `aircraft_type` will not play a significant factor. "
   ]
  },
  {
   "cell_type": "code",
   "execution_count": null,
   "id": "1a7247e8",
   "metadata": {},
   "outputs": [],
   "source": [
    "# drop null values\n",
    "df.dropna(inplace=True)"
   ]
  },
  {
   "cell_type": "code",
   "execution_count": null,
   "id": "e08de3c1",
   "metadata": {},
   "outputs": [],
   "source": [
    "# reset index\n",
    "df.reset_index(drop = True, inplace = True)"
   ]
  },
  {
   "cell_type": "code",
   "execution_count": null,
   "id": "f6ec4dd0",
   "metadata": {},
   "outputs": [],
   "source": [
    "# verify\n",
    "df.info()"
   ]
  },
  {
   "cell_type": "markdown",
   "id": "e60b29f5",
   "metadata": {},
   "source": [
    "After dropping the null values, we are now left with 850,735 columns in the dataset."
   ]
  },
  {
   "cell_type": "markdown",
   "id": "8d54aedb",
   "metadata": {},
   "source": [
    "### Review Airport Codes"
   ]
  },
  {
   "cell_type": "markdown",
   "id": "60d50fee",
   "metadata": {},
   "source": [
    "We can now review the Airport Codes in the dataset."
   ]
  },
  {
   "cell_type": "code",
   "execution_count": null,
   "id": "4610f0c3",
   "metadata": {},
   "outputs": [],
   "source": [
    "count_unique = df['from_airport_code'].nunique()\n",
    "print('# Number of Origin Airport Codes:', count_unique) \n",
    "print('Origin Airport Codes:')\n",
    "df['from_airport_code'].unique()\n"
   ]
  },
  {
   "cell_type": "markdown",
   "id": "8d2082b1",
   "metadata": {},
   "source": [
    "There are a total of 30 Origin Airport Codes in the dataset. "
   ]
  },
  {
   "cell_type": "code",
   "execution_count": null,
   "id": "1bb318ef",
   "metadata": {},
   "outputs": [],
   "source": [
    "count_unique = df['dest_airport_code'].nunique()\n",
    "print('# Number of Destination Airport Codes:', count_unique) \n",
    "print('Destination Airport Codes:')\n",
    "df['dest_airport_code'].unique()"
   ]
  },
  {
   "cell_type": "markdown",
   "id": "d1cf4fe3",
   "metadata": {},
   "source": [
    "There are a total of 77 Destination airport codes in the dataset. "
   ]
  },
  {
   "cell_type": "markdown",
   "id": "fe4a434e",
   "metadata": {},
   "source": [
    "To help with better interpretation, we can include additional information for each airport based on the aiport code."
   ]
  },
  {
   "cell_type": "markdown",
   "id": "27155c53",
   "metadata": {},
   "source": [
    "#### Add Airport & UTC Timezone Adjustment Information"
   ]
  },
  {
   "cell_type": "markdown",
   "id": "1f843ab2",
   "metadata": {},
   "source": [
    "We can use information pulled from the airportcodes.aero website ([7](https://airportcodes.aero/)) to pull Airport Names, as well as Airport City Information. We will also include timezone information pulled from the timeanddate.com website ([8](https://www.timeanddate.com/)) to help standardize departure and arrival times. "
   ]
  },
  {
   "cell_type": "code",
   "execution_count": null,
   "id": "91242598",
   "metadata": {},
   "outputs": [],
   "source": [
    "# Load Airport Information\n",
    "airport_information = {\n",
    "    'Airport_Code':[ 'AEP', 'CAN', 'MUC', 'HND', 'LIM', 'CPT', 'LGW', 'IAH', 'HGH', 'SYD', 'SZX', 'FRA', 'NBO', 'LIS', 'MAD', 'MAN', 'SEA', 'CTU', 'MEL', 'PVG', 'DEL', 'MEX', 'FCO', 'TPE', 'ATL', 'FLL', 'XIY', 'VIE', 'BOG', 'ATH', 'KUL', 'DOH', 'ARN', 'ORD', 'SFO', 'VCP', 'GRU', 'CPH', 'BOM', 'CMN', 'SVO', 'BKK', 'LAX', 'JFK', 'CGO', 'BRU', 'DUB', 'CGK', 'OSL', 'SIN', 'SAW', 'PHX', 'ZRH', 'PEK', 'YYZ', 'ADD', 'BLR', 'AMS', 'DME', 'IST', 'MCO', 'ALG', 'CNF', 'CAI', 'MXP', 'PTY', 'JNB', 'DXB', 'CLT', 'SGN', 'SCL', 'CDG', 'NRT', 'MNL', 'ICN', 'LHR', 'MIA', \n",
    "                    'SHA'],\n",
    "    'Airport_Name':[\"Aeroparque Internacional Jorge Newbery\",\"Guangzhou Baiyun International Airport\",\"Munich Airport\",\"Tokyo-Haneda International Airport\",\"Jorge Chavez International Airport\",\"Cape Town International Airport\",\"London-Gatwick Airport\",\"George Bush Intercontinental Airport\",\"Hangzhou Xiaoshan International Airport\",\"Sydney Airport\",\"Shenzhen Bao'an International Airport\",\"Frankfurt Airport\",\"Jomo Kenyatta International Airport\",\"Humberto Delgado Airport\",\"Adolfo Suárez Madrid–Barajas Airport\",\"Manchester Airport\",\"Seattle-Tacoma International Airport\",\"Chengdu Shuangliu International Airport\",\"Melbourne Airport\",\"Shanghai Pudong International Airport\",\"Indira Gandhi International Airport\",\"Mexico City International Airport\",\"Leonardo da Vinci–Fiumicino Airport\",\"Taoyuan International Airport\",\"Hartsfield–Jackson Atlanta International Airport\",\"Fort Lauderdale–Hollywood International Airport\",\"Xi'an Xianyang International Airport\",\"Vienna International Airport\",\"El Dorado International Airport\",\"Athens International Airport\",\"Kuala Lumpur International Airport\",\"Hamad International Airport\",\"Stockholm-Arlanda Airport\",\"Chicago O'Hare International Airport\",\"San Francisco International Airport\",\"Viracopos International Airport\",\"São Paulo Guarulhos International Airport\",\"Copenhagen Airport\",\"Chhatrapati Shivaji Maharaj International Airport\",\"Mohammed V International Airport\",\"Sheremetyevo Alexander S. Pushkin International Airport\",\"Suvarnabhumi Airport\",\"Los Angeles International Airport\",\"John F. Kennedy International Airport\",\"Zhengzhou Xinzheng International Airport\",\"Brussels Airport\",\"Dublin Airport\",\"Soekarno–Hatta International Airport\",\"Oslo Airport\",\"Singapore Changi Airport\",\"Sabiha Gokcen International Airport\",\"Phoenix Sky Harbor International Airport\",\"Zurich Airport\",\"Beijing Capital International Airport\",\"Toronto Pearson International Airport\",\"Addis Ababa Bole International Airport\",\"Kempegowda International Airport\",\"Amsterdam Airport Schiphol\",\"Moscow Domodedovo Airport\",\"Ataturk International Airport\",\"Orlando International Airport\",\"Houari Boumediene Airport\",\"Tancredo Neves International Airport\",\"Cairo International Airport\",\"Milan Malpensa International Airport\",\"Tocumen International Airport\",\"O. R. Tambo International Airport\",\"Dubai International Airport\",\"Charlotte Douglas International Airport\",\"Tan Son Nhat International Airport\",\"Arturo Merino Benitez International Airport\",\"Paris Charles de Gaulle Airport\",\"Tokyo-Narita International Airport\",\"Ninoy Aquino International Airport\",\"Incheon International Airport\",\"London-Heathrow Airport\",\"Miami International Airport\",\n",
    "                    \"Shanghai Hongqiao International Airport\"],\n",
    "    'Airport_City':[\"Buenos Aires\",\"Guangzhou\",\"Munich\",\"Tokyo\",\"Lima\",\"Cape Town\",\"London\",\"Houston\",\"Hangzhou\",\"Sydney\",\"Shenzhen\",\"Frankfurt\",\"Nairobi\",\"Lisbon\",\"Madrid\",\"Manchester\",\"Seattle\",\"Chengdu\",\"Melbourne\",\"Shanghai\",\"Delhi\",\"Mexico City\",\"Fiumicino\",\"Taipei\",\"Atlanta\",\"Miami\",\"Xi'an\",\"Vienna\",\"Bogota\",\"Athens\",\"Kuala Lumpur\",\"Doha\",\"Stockholm\",\"Chicago\",\"San Francisco\",\"Sao Paulo\",\"Sao Paulo\",\"Copenhagen\",\"Mumbai\",\"Casablanca\",\"Moscow\",\"Bangkok\",\"Los Angeles\",\"New York\",\"Zhengzhou\",\"Brussels\",\"Dublin\",\"Jakarta\",\"Oslo\",\"Singapore\",\"Istanbul\",\"Phoenix\",\"Zurich\",\"Beijing\",\"Toronto\",\"Addis Ababa\",\"Bangalore\",\"Amsterdam\",\"Moscow\",\"Istanbul\",\"Orlando\",\"Algiers\",\"Confins\",\"Cairo\",\"Milan\",\"Panama City\",\"Johannesburg\",\"Dubai\",\"Charlotte\",\"Ho Chi Minh City\",\"Santiago\",\"Paris\",\"Tokyo\",\"Manila\",\"Seoul\",\"London\",\"Miami\",\n",
    "                    \"Shanghai\"],\n",
    "    'Airport_Timezone_Adj_Hours':[-3,8,1,9,-5,2,0,-6,8,10,8,1,3,0,1,0,-8,8,10,8,5,-6,1,8,-5,-5,8,1,-5,2,8,3,1,-6,-8,-3,-3,1,5,1,3,7,-8,-5,8,1,0,7,1,8,3,\n",
    "                                  -7,1,8,-5,3,5,1,3,3,-5,1,-3,2,1,-5,2,4,-5,7,-4,1,9,8,9,0,-5,8,],\n",
    "    'Airport_Timezone_Adj_Mins' :[0,0,0,0,0,0,0,0,0,0,0,0,0,0,0,0,0,0,0,0,30,0,0,0,0,0,0,0,0,0,0,0,0,0,0,0,0,0,30,0,0,0,0,0,0,0,0,0,0,0,0,0,0,0,0,0,30,0,0,0,0,0,0,0,0,0,0,0,0,0,0,0,0,0,0,0,0,0,],\n",
    "    'Airport_Lat':[-34.5577389000333,23.3961737465643,48.3511109794145,35.5494804083177,-12.0237588747816,-33.9707321566645,51.1537966691745,29.9903964365879,30.2361803134082,-33.9498118844249,22.6370359336888,50.0464385013313,-1.33117001961051,38.7762130903902,40.4984633725195,53.3558534051921,47.4482057538999,30.5476456103965,-33.1651454983468,31.1446043202944,28.5563885500954,19.4363291225696,41.8037152944108,25.0764191795815,33.6422099998983,26.0744078477887,34.4373233461419,48.1128273780094,4.73430379613192,37.9357417891236,2.74306831574282,25.2864324924182,59.6501703931625,41.9805351962813,37.6169339633645,-23.0079482257404,-23.4301793176096,55.617757591627,19.09381604546,33.3700241410235,55.9737862626875,13.6902976061099,33.9502755591614,40.6415799338128,34.5255356432286,50.9016468405679,53.426948602434,-6.11691990670312,60.1980000535908,1.36466689225704,40.9055980244643,33.4354728132571,47.4614632409321,40.0800871350849,43.6778882873949,8.98655469920092,13.1996798857919,52.3131357641106,55.4118246221447,40.9825745365632,28.418020478555,36.6982358241641,-19.6341898897342,30.1121841725708,45.6302725501154,9.063255632165,-26.136354934708,25.2534558849676,35.2144638755156,10.8186527789434,-33.3968058771658,49.0088399679511,35.7723087585301,14.5122946629056,37.4618712161197,51.4700089131301,25.7958143253594,31.1923558264639],\n",
    "    'Airport_Lon':[-58.4166440211707,113.308527797486,11.776874580731,139.779881500914,-77.1116283062124,18.6049811878035,-0.181665934543478,-95.3363750061318,120.439470055245,151.182320094158,113.815078066792,8.55275159050158,36.9240548993851,-9.13382237936812,-3.56679557629829,-2.27798454703279,-122.30797122374,103.92756068242,151.699213085184,121.808747972798,77.1006659010293,-99.0717151831705,12.2523434092231,121.232181901905,-84.4509584649548,-80.1503125235807,108.757876568594,16.5761147130645,-74.0809861417985,23.9485819051683,101.707313313655,51.5931790022843,17.9258703687482,-87.9082146968791,-122.39850911226,-47.1369462295634,-46.4733755958963,12.6763197130793,72.8723824505524,-7.58521884676506,37.4131359997803,100.750506909683,-118.386900678162,-73.7775911312842,113.846703468596,4.48710410752413,-6.24856139829551,106.670661181529,11.1025491719827,103.991884849302,29.3173752822154,-112.011164699045,8.5549777283269,116.603702184045,-79.6243690907351,38.7832924789539,77.7055412975771,4.77616403180424,37.9047240882624,28.8099981343228,-81.3035121008196,3.20805280727182,-43.9654174748631,31.4029415288509,8.72609932649832,-79.3901665795341,28.2414677631063,55.3661555954439,-80.9476042938708,106.659500414364,-70.7931920238099,2.55316806685689,140.393418726289,121.016336336393,126.441974742097,-0.454327688131043,-80.2869650714547,121.334887083881]\n",
    "}"
   ]
  },
  {
   "cell_type": "markdown",
   "id": "c83474cb",
   "metadata": {},
   "source": [
    "We can place the information into a dataframe to review."
   ]
  },
  {
   "cell_type": "code",
   "execution_count": null,
   "id": "b9013b16",
   "metadata": {},
   "outputs": [],
   "source": [
    "# Load Airport Information to a dataframe\n",
    "airport_df = pd.DataFrame(airport_information)\n",
    "#verify\n",
    "airport_df"
   ]
  },
  {
   "cell_type": "markdown",
   "id": "f97507b7",
   "metadata": {},
   "source": [
    "We can merge the data to each of the Origin and Destination Airport Codes."
   ]
  },
  {
   "cell_type": "code",
   "execution_count": null,
   "id": "3d57e1f9",
   "metadata": {},
   "outputs": [],
   "source": [
    "# Merge Airport Information to Origin Airport Codes\n",
    "df = df.merge (airport_df, left_on='from_airport_code', right_on='Airport_Code', how='left')"
   ]
  },
  {
   "cell_type": "code",
   "execution_count": null,
   "id": "c6e4e435",
   "metadata": {},
   "outputs": [],
   "source": [
    "# verify\n",
    "df.head()"
   ]
  },
  {
   "cell_type": "markdown",
   "id": "3de24fb5",
   "metadata": {},
   "source": [
    "We will now rename the columns to identify the Origin Airport Information."
   ]
  },
  {
   "cell_type": "code",
   "execution_count": null,
   "id": "a3d54f74",
   "metadata": {},
   "outputs": [],
   "source": [
    "# rename columns for simplicity\n",
    "df.rename(columns = {'Airport_City':'from_Airport_City',\n",
    "                     'Airport_Name':'from_Airport_Name',\n",
    "                     'Airport_Timezone_Adj_Hours':'from_Airport_Timezone_Adj_Hours',\n",
    "                     'Airport_Timezone_Adj_Mins':'from_Airport_Timezone_Adj_Mins',\n",
    "                     'Airport_Lat':'from_Airport_Lat',\n",
    "                     'Airport_Lon': 'from_Airport_Lon'\n",
    "                    }, inplace = True)"
   ]
  },
  {
   "cell_type": "code",
   "execution_count": null,
   "id": "d6a5c801",
   "metadata": {},
   "outputs": [],
   "source": [
    "# verify\n",
    "df.head()"
   ]
  },
  {
   "cell_type": "markdown",
   "id": "0a29462f",
   "metadata": {},
   "source": [
    "We can drop the duplicate `Airport_Code` column from the dataset."
   ]
  },
  {
   "cell_type": "code",
   "execution_count": null,
   "id": "35e3002a",
   "metadata": {},
   "outputs": [],
   "source": [
    "# drop duplicate Airport_code column\n",
    "df =df.drop(['Airport_Code'], axis = 1)"
   ]
  },
  {
   "cell_type": "code",
   "execution_count": null,
   "id": "4259b421",
   "metadata": {},
   "outputs": [],
   "source": [
    "# verify\n",
    "df.head()"
   ]
  },
  {
   "cell_type": "markdown",
   "id": "8e39b899",
   "metadata": {},
   "source": [
    "We can now do the same process for the Destination Airport Codes."
   ]
  },
  {
   "cell_type": "code",
   "execution_count": null,
   "id": "f6845d61",
   "metadata": {},
   "outputs": [],
   "source": [
    "# Merge Airport Information to Destination Airport Codes\n",
    "df = df.merge (airport_df, left_on='dest_airport_code', right_on='Airport_Code', how='left')"
   ]
  },
  {
   "cell_type": "code",
   "execution_count": null,
   "id": "4c2188b0",
   "metadata": {},
   "outputs": [],
   "source": [
    "# verify\n",
    "df.head()"
   ]
  },
  {
   "cell_type": "markdown",
   "id": "3dc1228a",
   "metadata": {},
   "source": [
    "We will now rename the columns to identify the Destination Airport Information."
   ]
  },
  {
   "cell_type": "code",
   "execution_count": null,
   "id": "da8a2508",
   "metadata": {},
   "outputs": [],
   "source": [
    "# rename columns for simplicity\n",
    "df.rename(columns = {'Airport_City':'dest_Airport_City',\n",
    "                     'Airport_Name':'dest_Airport_Name',\n",
    "                     'Airport_Timezone_Adj_Hours':'dest_Airport_Timezone_Adj_Hours',\n",
    "                     'Airport_Timezone_Adj_Mins':'dest_Airport_Timezone_Adj_Mins',\n",
    "                     'Airport_Lat':'dest_Airport_Lat',\n",
    "                     'Airport_Lon': 'dest_Airport_Lon'\n",
    "                    }, inplace = True)"
   ]
  },
  {
   "cell_type": "code",
   "execution_count": null,
   "id": "5a16993c",
   "metadata": {},
   "outputs": [],
   "source": [
    "# verify\n",
    "df.head()"
   ]
  },
  {
   "cell_type": "markdown",
   "id": "522c6d72",
   "metadata": {},
   "source": [
    "We can drop the duplicate `Airport_Code` column from the dataset."
   ]
  },
  {
   "cell_type": "code",
   "execution_count": null,
   "id": "9dc722a8",
   "metadata": {},
   "outputs": [],
   "source": [
    "# drop duplicate Airport_code column\n",
    "df =df.drop(['Airport_Code'], axis = 1)"
   ]
  },
  {
   "cell_type": "code",
   "execution_count": null,
   "id": "6041fb47",
   "metadata": {},
   "outputs": [],
   "source": [
    "# verify\n",
    "df.head()"
   ]
  },
  {
   "cell_type": "markdown",
   "id": "0be03e4f",
   "metadata": {},
   "source": [
    "To help consolidate the origin and destination columns, we will reorganize the columns into a new dataframe for simplicity. "
   ]
  },
  {
   "cell_type": "code",
   "execution_count": null,
   "id": "5d7bea4c",
   "metadata": {},
   "outputs": [],
   "source": [
    "df2 = df[['from_airport_code','from_Airport_Name','from_Airport_City','from_country'\n",
    "                      ,'from_Airport_Timezone_Adj_Hours','from_Airport_Timezone_Adj_Mins', 'from_Airport_Lat','from_Airport_Lon'\n",
    "                     ,'dest_airport_code','dest_Airport_Name','dest_Airport_City'\n",
    "                     ,'dest_country','dest_Airport_Timezone_Adj_Hours','dest_Airport_Timezone_Adj_Mins'\n",
    "                     ,'dest_Airport_Lat','dest_Airport_Lon'\n",
    "                     ,'aircraft_type','airline_number','airline_name','flight_number'\n",
    "                     ,'departure_time','arrival_time','duration','stops','price','currency'\n",
    "                     ,'co2_emissions','avg_co2_emission_for_this_route','co2_percentage'\n",
    "                    ]]"
   ]
  },
  {
   "cell_type": "code",
   "execution_count": null,
   "id": "45fc1c5f",
   "metadata": {},
   "outputs": [],
   "source": [
    "df2.info()"
   ]
  },
  {
   "cell_type": "markdown",
   "id": "b78358a7",
   "metadata": {},
   "source": [
    "### Calculate Distance"
   ]
  },
  {
   "cell_type": "markdown",
   "id": "31c01c1a",
   "metadata": {},
   "source": [
    "Using the newly added Latitude and Longitude points for each of the airport codes, we can now calculate the distance between them.\n",
    "\n",
    "We will first create a coordinates column for each airport, using their Latitude and Longitude."
   ]
  },
  {
   "cell_type": "code",
   "execution_count": null,
   "id": "72037b8e",
   "metadata": {},
   "outputs": [],
   "source": [
    "# Create Origin Coordinates\n",
    "df2['from_airport_coordinates'] = df2.apply(lambda row: Point(latitude=row['from_Airport_Lat']\n",
    "                                                              , longitude=row['from_Airport_Lon'])\n",
    "                                           , axis=1)"
   ]
  },
  {
   "cell_type": "code",
   "execution_count": null,
   "id": "8b419009",
   "metadata": {},
   "outputs": [],
   "source": [
    "# Create Destination Coordinates\n",
    "df2['dest_airport_coordinates'] = df2.apply(lambda row: Point(latitude=row['dest_Airport_Lat']\n",
    "                                                              , longitude=row['dest_Airport_Lon'])\n",
    "                                           , axis=1)"
   ]
  },
  {
   "cell_type": "code",
   "execution_count": null,
   "id": "46cf4d09",
   "metadata": {},
   "outputs": [],
   "source": [
    "# verify\n",
    "df2.head()"
   ]
  },
  {
   "cell_type": "markdown",
   "id": "1b3329a4",
   "metadata": {},
   "source": [
    "We can calculate the distance between the coordinates by calculating the great circle measurement. The great circle measurement accounts for the spherical shape of the earth and is what is used by ships and aircraft to minimize distance and save time and money ([9](https://transportgeography.org/contents/chapter1/transportation-and-space/great-circle-distance/)). "
   ]
  },
  {
   "cell_type": "code",
   "execution_count": null,
   "id": "532c356a",
   "metadata": {},
   "outputs": [],
   "source": [
    "# Calculate Great Circle Distance in km\n",
    "df2['Distance_km'] = df2.apply(lambda row: \n",
    "                              distance.great_circle(row['from_airport_coordinates']\n",
    "                                , row['dest_airport_coordinates']).km\n",
    "                              , axis=1).round(decimals=2)"
   ]
  },
  {
   "cell_type": "code",
   "execution_count": null,
   "id": "d560bb2c",
   "metadata": {},
   "outputs": [],
   "source": [
    "# verify\n",
    "df2.head()"
   ]
  },
  {
   "cell_type": "markdown",
   "id": "fadbde0f",
   "metadata": {},
   "source": [
    "### Departure & Arrival Time Adjustment"
   ]
  },
  {
   "cell_type": "markdown",
   "id": "b283f65b",
   "metadata": {},
   "source": [
    "We can now standardize the departure and arrival times for each trip, based on the newly imported adjustment columns:\n",
    "- `from_Airport_Timezone_Adj_Hours`\n",
    "- `from_Airport_Timezone_Adj_Mins`\n",
    "- `dest_Airport_Timezone_Adj_Hours`\n",
    "- `dest_Airport_Timezone_Adj_Mins`"
   ]
  },
  {
   "cell_type": "markdown",
   "id": "1b33d65c",
   "metadata": {},
   "source": [
    "We will first standardize the departure time."
   ]
  },
  {
   "cell_type": "code",
   "execution_count": null,
   "id": "99d72178",
   "metadata": {},
   "outputs": [],
   "source": [
    "# Standardize Departure Time to UTC\n",
    "df2['departure_time_utc'] = pd.to_datetime(df2['departure_time'] ) + pd.to_timedelta(df2['from_Airport_Timezone_Adj_Hours'],unit='hours') +pd.to_timedelta(df2['from_Airport_Timezone_Adj_Mins'],unit='minutes')"
   ]
  },
  {
   "cell_type": "code",
   "execution_count": null,
   "id": "ccbeb63b",
   "metadata": {},
   "outputs": [],
   "source": [
    "#verify\n",
    "selection = df2[['departure_time'\n",
    "                 , 'from_Airport_Timezone_Adj_Hours'\n",
    "                 , 'from_Airport_Timezone_Adj_Mins','departure_time_utc' ]]\n",
    "selection"
   ]
  },
  {
   "cell_type": "code",
   "execution_count": null,
   "id": "7a034779",
   "metadata": {},
   "outputs": [],
   "source": [
    "# Standardize Arrival Time to UTC\n",
    "df2['arrival_time_utc'] = pd.to_datetime(df2['arrival_time'] ) + pd.to_timedelta(df2['dest_Airport_Timezone_Adj_Hours'],unit='hours') +pd.to_timedelta(df2['dest_Airport_Timezone_Adj_Mins'],unit='minutes')"
   ]
  },
  {
   "cell_type": "code",
   "execution_count": null,
   "id": "a437c786",
   "metadata": {},
   "outputs": [],
   "source": [
    "#verify\n",
    "selection = df2[['arrival_time'\n",
    "                 , 'dest_Airport_Timezone_Adj_Hours'\n",
    "                 , 'dest_Airport_Timezone_Adj_Mins','arrival_time_utc' ]]\n",
    "selection"
   ]
  },
  {
   "cell_type": "markdown",
   "id": "c04ba557",
   "metadata": {},
   "source": [
    "We can now drop the original departure and arrival times, as well as the adjustment columns."
   ]
  },
  {
   "cell_type": "code",
   "execution_count": null,
   "id": "cbb379da",
   "metadata": {},
   "outputs": [],
   "source": [
    "# drop departure times and adjustment columns\n",
    "df2 =df2.drop(['departure_time','from_Airport_Timezone_Adj_Hours','from_Airport_Timezone_Adj_Mins'], axis = 1)"
   ]
  },
  {
   "cell_type": "code",
   "execution_count": null,
   "id": "feaf8e89",
   "metadata": {},
   "outputs": [],
   "source": [
    "# drop arrival times and adjustment columns\n",
    "df2 =df2.drop(['arrival_time','dest_Airport_Timezone_Adj_Hours','dest_Airport_Timezone_Adj_Mins'], axis = 1)"
   ]
  },
  {
   "cell_type": "code",
   "execution_count": null,
   "id": "f8f28efe",
   "metadata": {},
   "outputs": [],
   "source": [
    "# verify\n",
    "list(df2.columns)"
   ]
  },
  {
   "cell_type": "markdown",
   "id": "0d28f7af",
   "metadata": {},
   "source": [
    "### Review Flight Number"
   ]
  },
  {
   "cell_type": "code",
   "execution_count": null,
   "id": "e9435577",
   "metadata": {},
   "outputs": [],
   "source": [
    "df2['flight_number'].value_counts()"
   ]
  },
  {
   "cell_type": "markdown",
   "id": "46125fb3",
   "metadata": {},
   "source": [
    "We can see that the flight numbers are repeated after each '|', likely based on the number of stops taken on the route (e.g., 2 stops taken *FLIGHT#* | *FLIGHT#* | *FLIGHT#*).\n",
    "\n",
    "We can pull the first flight number to simplify the flight number details."
   ]
  },
  {
   "cell_type": "code",
   "execution_count": null,
   "id": "1f7629b9",
   "metadata": {},
   "outputs": [],
   "source": [
    "# Pull First Flight Number\n",
    "df2['flight_number'] = df2['flight_number'].str.split('|', expand=True)[0]"
   ]
  },
  {
   "cell_type": "code",
   "execution_count": null,
   "id": "869f165a",
   "metadata": {},
   "outputs": [],
   "source": [
    "# Vefify\n",
    "df2['flight_number'].value_counts(normalize=True)"
   ]
  },
  {
   "cell_type": "markdown",
   "id": "c71f411c",
   "metadata": {},
   "source": [
    "The flight numbers now only list a single flight number for each trip/route."
   ]
  },
  {
   "cell_type": "markdown",
   "id": "d13ef1d5",
   "metadata": {},
   "source": [
    "### Review Aircraft Type"
   ]
  },
  {
   "cell_type": "code",
   "execution_count": null,
   "id": "e1519a3a",
   "metadata": {},
   "outputs": [],
   "source": [
    "df2['aircraft_type'].value_counts()"
   ]
  },
  {
   "cell_type": "markdown",
   "id": "10e582fc",
   "metadata": {},
   "source": [
    "Similar to flight numbers, the dataset includes aircraft types to be used for each stop taken (e.g., 1 stop taken *Aircraft 1* | *Aircraft 2*).\n",
    "We will split the column into each respective by the '|' character."
   ]
  },
  {
   "cell_type": "code",
   "execution_count": null,
   "id": "4a18d494",
   "metadata": {},
   "outputs": [],
   "source": [
    "# split aircraft_type column\n",
    "df_aircraft = df2['aircraft_type'].str.split('|',expand=True)\n",
    "# add column names\n",
    "df_aircraft.columns = [ 'aircraft_type_' + str(i + 1) for i in range(len(df_aircraft.columns)) ]"
   ]
  },
  {
   "cell_type": "code",
   "execution_count": null,
   "id": "6ece6469",
   "metadata": {},
   "outputs": [],
   "source": [
    "# verify\n",
    "df_aircraft"
   ]
  },
  {
   "cell_type": "markdown",
   "id": "2ab66b0a",
   "metadata": {},
   "source": [
    "We can see a lot of null values in columns `aircraft_type_3` to `aircraft_type_7` as the trips ended and did not take any further stops to their final destination airport.\n",
    "\n",
    "We can fill in the missing values by the last Aircraft Type listed."
   ]
  },
  {
   "cell_type": "code",
   "execution_count": null,
   "id": "4c763774",
   "metadata": {},
   "outputs": [],
   "source": [
    "# Fill in null values with last Aircraft Type used\n",
    "df_aircraft = df_aircraft.ffill(axis = 1)"
   ]
  },
  {
   "cell_type": "code",
   "execution_count": null,
   "id": "a5af7a4c",
   "metadata": {},
   "outputs": [],
   "source": [
    "# verify\n",
    "df_aircraft"
   ]
  },
  {
   "cell_type": "markdown",
   "id": "0065830c",
   "metadata": {},
   "source": [
    "We will now add the Aircraft data to our dataframe."
   ]
  },
  {
   "cell_type": "code",
   "execution_count": null,
   "id": "8b09ed7b",
   "metadata": {},
   "outputs": [],
   "source": [
    "# Add Aircraft data to dataframe\n",
    "df2 = pd.concat([df2, df_aircraft], axis=1)"
   ]
  },
  {
   "cell_type": "code",
   "execution_count": null,
   "id": "3e2442ca",
   "metadata": {},
   "outputs": [],
   "source": [
    "# verify\n",
    "df2.head()"
   ]
  },
  {
   "cell_type": "markdown",
   "id": "25961ec2",
   "metadata": {},
   "source": [
    "We can now drop the `aircraft_type` column."
   ]
  },
  {
   "cell_type": "code",
   "execution_count": null,
   "id": "94ad5c9d",
   "metadata": {},
   "outputs": [],
   "source": [
    "# drop aircraft_type column\n",
    "df2 =df2.drop(['aircraft_type'], axis = 1)"
   ]
  },
  {
   "cell_type": "code",
   "execution_count": null,
   "id": "7d786ba7",
   "metadata": {},
   "outputs": [],
   "source": [
    "# verify\n",
    "df2.head()"
   ]
  },
  {
   "cell_type": "markdown",
   "id": "7d5ad62a",
   "metadata": {},
   "source": [
    "### Review Airline Name"
   ]
  },
  {
   "cell_type": "markdown",
   "id": "f1384da1",
   "metadata": {},
   "source": [
    "We will now look at the `airline_name` column. "
   ]
  },
  {
   "cell_type": "code",
   "execution_count": null,
   "id": "9622cc80",
   "metadata": {},
   "outputs": [],
   "source": [
    "df2['airline_name'].value_counts()"
   ]
  },
  {
   "cell_type": "markdown",
   "id": "fde24033",
   "metadata": {},
   "source": [
    "We can see that the Airline Names are contained in square brackets, which we can remove."
   ]
  },
  {
   "cell_type": "code",
   "execution_count": null,
   "id": "303ce879",
   "metadata": {},
   "outputs": [],
   "source": [
    "# remove square brackets from airline_name column\n",
    "df2['airline_name'] = df2['airline_name'].str.strip('[]')"
   ]
  },
  {
   "cell_type": "code",
   "execution_count": null,
   "id": "24e904ba",
   "metadata": {},
   "outputs": [],
   "source": [
    "# verify\n",
    "df2['airline_name'].value_counts()"
   ]
  },
  {
   "cell_type": "markdown",
   "id": "7c0164df",
   "metadata": {},
   "source": [
    "We can now conduct the same exercise done in Aircraft Types to split the Airlines listed by the '|' character. "
   ]
  },
  {
   "cell_type": "code",
   "execution_count": null,
   "id": "1ba61d4c",
   "metadata": {},
   "outputs": [],
   "source": [
    "# split airline_name column\n",
    "df_airline = df2['airline_name'].str.split('|',expand=True)\n",
    "# add column names\n",
    "df_airline.columns = [ 'airline_' + str(i + 1) for i in range(len(df_airline.columns)) ]"
   ]
  },
  {
   "cell_type": "code",
   "execution_count": null,
   "id": "0f4fd59c",
   "metadata": {},
   "outputs": [],
   "source": [
    "# verify\n",
    "df_airline"
   ]
  },
  {
   "cell_type": "markdown",
   "id": "b1e230fd",
   "metadata": {},
   "source": [
    "Similar to aircraft types, the subsequent airline columns do not contain values, as the trip to the final destination ended. \n",
    "\n",
    "We can impute the last Airline listed to the subsequent columns."
   ]
  },
  {
   "cell_type": "code",
   "execution_count": null,
   "id": "cb84ce40",
   "metadata": {},
   "outputs": [],
   "source": [
    "# Fill empty airline columns with last Airline listed\n",
    "df_airline = df_airline.ffill(axis = 1)"
   ]
  },
  {
   "cell_type": "code",
   "execution_count": null,
   "id": "0242b5b6",
   "metadata": {},
   "outputs": [],
   "source": [
    "# verify\n",
    "df_airline"
   ]
  },
  {
   "cell_type": "markdown",
   "id": "6ff8515c",
   "metadata": {},
   "source": [
    "We will now add the split airline information to the dataframe."
   ]
  },
  {
   "cell_type": "code",
   "execution_count": null,
   "id": "f70d7567",
   "metadata": {},
   "outputs": [],
   "source": [
    "# Add Airline Info to dataframe\n",
    "df2 = pd.concat([df2, df_airline], axis=1)"
   ]
  },
  {
   "cell_type": "code",
   "execution_count": null,
   "id": "eb6a84ce",
   "metadata": {},
   "outputs": [],
   "source": [
    "# verify\n",
    "df2.head()"
   ]
  },
  {
   "cell_type": "markdown",
   "id": "1d73f302",
   "metadata": {},
   "source": [
    "We can now drop the original `airline_name` column."
   ]
  },
  {
   "cell_type": "code",
   "execution_count": null,
   "id": "164cde8c",
   "metadata": {},
   "outputs": [],
   "source": [
    "# drop airline_name column\n",
    "df2 =df2.drop(['airline_name'], axis = 1)"
   ]
  },
  {
   "cell_type": "code",
   "execution_count": null,
   "id": "457de80b",
   "metadata": {},
   "outputs": [],
   "source": [
    "# verify\n",
    "df2.head()"
   ]
  },
  {
   "cell_type": "markdown",
   "id": "6159e5c8",
   "metadata": {},
   "source": [
    "### Review Currency"
   ]
  },
  {
   "cell_type": "markdown",
   "id": "c10d08a6",
   "metadata": {},
   "source": [
    "We will now review the `currency` column."
   ]
  },
  {
   "cell_type": "code",
   "execution_count": null,
   "id": "3646d3cc",
   "metadata": {},
   "outputs": [],
   "source": [
    "df2['currency'].value_counts(normalize=True)"
   ]
  },
  {
   "cell_type": "markdown",
   "id": "23a6ea14",
   "metadata": {},
   "source": [
    "The only currency listed in the dataset is USD, so we can drop this column from the dataset, as this does not provide any additional information for us."
   ]
  },
  {
   "cell_type": "code",
   "execution_count": null,
   "id": "9b691078",
   "metadata": {},
   "outputs": [],
   "source": [
    "# drop currency column\n",
    "df2 =df2.drop(['currency'], axis = 1)"
   ]
  },
  {
   "cell_type": "code",
   "execution_count": null,
   "id": "742bf99d",
   "metadata": {},
   "outputs": [],
   "source": [
    "# verify\n",
    "df2.head()"
   ]
  },
  {
   "cell_type": "markdown",
   "id": "4c5df3d5",
   "metadata": {},
   "source": [
    "### Review Airline Number"
   ]
  },
  {
   "cell_type": "markdown",
   "id": "1823e0ed",
   "metadata": {},
   "source": [
    "We will now review the `airline_number` column."
   ]
  },
  {
   "cell_type": "code",
   "execution_count": null,
   "id": "c833efc9",
   "metadata": {},
   "outputs": [],
   "source": [
    "df2['airline_number'].value_counts(normalize=True)"
   ]
  },
  {
   "cell_type": "markdown",
   "id": "411e0983",
   "metadata": {},
   "source": [
    "Close to 63% of the rows list 'multi' as the airline number and the balance listing the airline number for the respective Airline (e.g., LH - Lufthansa) ([10](https://www.bts.gov/topics/airlines-and-airports/airline-codes)).\n",
    "\n",
    "As we have more detailed information listed in the airline columns, we can remove the `airline_number` column."
   ]
  },
  {
   "cell_type": "code",
   "execution_count": null,
   "id": "0cae878f",
   "metadata": {},
   "outputs": [],
   "source": [
    "# drop airline_number column\n",
    "df2 =df2.drop(['airline_number'], axis = 1)"
   ]
  },
  {
   "cell_type": "code",
   "execution_count": null,
   "id": "ec8968ff",
   "metadata": {},
   "outputs": [],
   "source": [
    "# verify\n",
    "list(df2.columns)"
   ]
  },
  {
   "cell_type": "markdown",
   "id": "ca6b7ffc",
   "metadata": {},
   "source": [
    "### Review avg_co2_for_this_route"
   ]
  },
  {
   "cell_type": "markdown",
   "id": "a0012e6d",
   "metadata": {},
   "source": [
    "We will now look at the `avg_co2_emission_for_this_route` column."
   ]
  },
  {
   "cell_type": "code",
   "execution_count": null,
   "id": "aae4a2ea",
   "metadata": {},
   "outputs": [],
   "source": [
    "df2['avg_co2_emission_for_this_route'].value_counts(normalize=True)"
   ]
  },
  {
   "cell_type": "markdown",
   "id": "a2869658",
   "metadata": {},
   "source": [
    "As this just details the average CO2 emissions for a route, we can drop the column as it will not provide any other details we can use. "
   ]
  },
  {
   "cell_type": "code",
   "execution_count": null,
   "id": "648590c6",
   "metadata": {},
   "outputs": [],
   "source": [
    "df2 =df2.drop(['avg_co2_emission_for_this_route'], axis = 1)"
   ]
  },
  {
   "cell_type": "code",
   "execution_count": null,
   "id": "4abc3f5f",
   "metadata": {},
   "outputs": [],
   "source": [
    "# verify\n",
    "df2.head()"
   ]
  },
  {
   "cell_type": "markdown",
   "id": "a50e4d18",
   "metadata": {},
   "source": [
    "### Review co2_percentage"
   ]
  },
  {
   "cell_type": "markdown",
   "id": "04ed5fc0",
   "metadata": {},
   "source": [
    "We will now look at the `co2_percentage` column."
   ]
  },
  {
   "cell_type": "code",
   "execution_count": null,
   "id": "521a080c",
   "metadata": {},
   "outputs": [],
   "source": [
    "df2['co2_percentage'].value_counts(normalize=True)"
   ]
  },
  {
   "cell_type": "markdown",
   "id": "0fe8dcc5",
   "metadata": {},
   "source": [
    "As this is just a calculated field between the CO2 emissions, as well as the average for a particular route, we can drop the column."
   ]
  },
  {
   "cell_type": "code",
   "execution_count": null,
   "id": "31356229",
   "metadata": {},
   "outputs": [],
   "source": [
    "df2 =df2.drop(['co2_percentage'], axis = 1)"
   ]
  },
  {
   "cell_type": "code",
   "execution_count": null,
   "id": "20d2c687",
   "metadata": {},
   "outputs": [],
   "source": [
    "# verify\n",
    "list(df2.columns)"
   ]
  },
  {
   "cell_type": "markdown",
   "id": "19c4a266",
   "metadata": {},
   "source": [
    "### Review co2_emissions"
   ]
  },
  {
   "cell_type": "markdown",
   "id": "0c8a7aea",
   "metadata": {},
   "source": [
    "We can now look at the `co2_emissions` for more insight. "
   ]
  },
  {
   "cell_type": "code",
   "execution_count": null,
   "id": "6a63f3a1",
   "metadata": {},
   "outputs": [],
   "source": [
    "df2['co2_emissions'].value_counts(normalize=True)"
   ]
  },
  {
   "cell_type": "markdown",
   "id": "c8ff5879",
   "metadata": {},
   "source": [
    "We can see that for the `co2_emissions` column, it does not detail the units (e.g., lbs, kg) for the particular trip/route. "
   ]
  },
  {
   "cell_type": "markdown",
   "id": "0c1b2140",
   "metadata": {},
   "source": [
    "We will look at a route and verify the actual CO2 emissions to understand what is actually listed in the column. We can look at the Toronto to London Heathrow route (i.e., YYZ-LHR) in a new dataframe."
   ]
  },
  {
   "cell_type": "code",
   "execution_count": null,
   "id": "9782e894",
   "metadata": {},
   "outputs": [],
   "source": [
    "# generate sample dataframe for trips from YYZ to LHR\n",
    "rslts_df = df2[(df2['from_airport_code'] == 'YYZ') \n",
    "               & (df2['dest_airport_code'] == 'LHR') \n",
    "               & (df2['stops'] == 0)]"
   ]
  },
  {
   "cell_type": "markdown",
   "id": "8a13f48f",
   "metadata": {},
   "source": [
    "We can filter on the new dataframe just to see the CO2 emissions."
   ]
  },
  {
   "cell_type": "code",
   "execution_count": null,
   "id": "964288e1",
   "metadata": {},
   "outputs": [],
   "source": [
    "# view origin airport details, destination airport details, and CO2 emissions\n",
    "rslts_df[['from_airport_code','from_Airport_City','dest_airport_code','dest_Airport_City','co2_emissions']]"
   ]
  },
  {
   "cell_type": "markdown",
   "id": "586c6d3a",
   "metadata": {},
   "source": [
    "We can also look at the average CO2 emissions for this route."
   ]
  },
  {
   "cell_type": "code",
   "execution_count": null,
   "id": "83e06af5",
   "metadata": {},
   "outputs": [],
   "source": [
    "# mean of YYZ-LHR route\n",
    "print(\"Average CO2 emissions for YYZ-LHR route\", rslts_df['co2_emissions'].describe()['mean'])"
   ]
  },
  {
   "cell_type": "markdown",
   "id": "8d89b5e0",
   "metadata": {},
   "source": [
    "The average CO2 emissions for the YYZ-LHR route is 570,142.\n",
    "\n",
    "Based on ICAO emissions calculator for YYZ to LHR, average ~670lbs, so we can assume the co2_emissions column is listed in LBS, but will need to correct it by dividing by 1,000 ([11](https://www.icao.int/environmental-protection/Carbonoffset/Pages/default.aspx)). "
   ]
  },
  {
   "cell_type": "code",
   "execution_count": null,
   "id": "e52a0f7d",
   "metadata": {},
   "outputs": [],
   "source": [
    "# correct co2_emissions\n",
    "df2['co2_emissions'] = df2['co2_emissions'].div(1000)"
   ]
  },
  {
   "cell_type": "code",
   "execution_count": null,
   "id": "ea33c197",
   "metadata": {},
   "outputs": [],
   "source": [
    "# verify\n",
    "df2['co2_emissions'].head()"
   ]
  },
  {
   "cell_type": "code",
   "execution_count": null,
   "id": "43438a33",
   "metadata": {},
   "outputs": [],
   "source": [
    "# Emissions\n",
    "fig = px.histogram(df2, x=\"co2_emissions\",\n",
    "                   opacity=0.8,\n",
    "                   color_discrete_sequence=['cornflowerblue']\n",
    "                   )\n",
    "fig.update_layout( title='CO2 Emissions Overview',\n",
    "                  xaxis_title='CO2 Emissions', yaxis_title='Count')\n",
    "fig.show()\n",
    "# export Graph\n",
    "fig.write_html(\"visualizations/CO2_Emissions_Overview.html\")"
   ]
  },
  {
   "cell_type": "markdown",
   "id": "8fb0930a",
   "metadata": {},
   "source": [
    "We can see that CO2 emissions are right skewed, with what looks to be two distibutions, one from 0-500lbs, and another for emissions greater than 500lbs. \n",
    "\n",
    "There likely is an underlying feature which explains this case that would lead to us seeing this in the data."
   ]
  },
  {
   "cell_type": "markdown",
   "id": "7d28d3d0",
   "metadata": {},
   "source": [
    "### Calculated Field KM/LBS"
   ]
  },
  {
   "cell_type": "markdown",
   "id": "7edc84fb",
   "metadata": {},
   "source": [
    "We can also look at the relationship between the distance and CO2 emissions, and use it as a calculated field for later."
   ]
  },
  {
   "cell_type": "code",
   "execution_count": null,
   "id": "5183765b",
   "metadata": {},
   "outputs": [],
   "source": [
    "# Generate KM/LBS\n",
    "df2['KM/LBS'] = df2['Distance_km'] / df2['co2_emissions']"
   ]
  },
  {
   "cell_type": "code",
   "execution_count": null,
   "id": "f14f8da4",
   "metadata": {},
   "outputs": [],
   "source": [
    "# Verify\n",
    "df2.head()"
   ]
  },
  {
   "cell_type": "code",
   "execution_count": null,
   "id": "0f3f65e4",
   "metadata": {},
   "outputs": [],
   "source": [
    "# KM/LBS\n",
    "fig = px.histogram(df2, x=\"KM/LBS\",\n",
    "                   opacity=0.8,\n",
    "                   color_discrete_sequence=['cornflowerblue']\n",
    "                   )\n",
    "fig.update_layout( title='KM/LBS Overview',\n",
    "                  xaxis_title='KM/LBS', yaxis_title='Count')\n",
    "fig.show()\n",
    "# export Graph\n",
    "fig.write_html(\"visualizations/KM-LBS_Overview.html\")"
   ]
  },
  {
   "cell_type": "markdown",
   "id": "0771cfa5",
   "metadata": {},
   "source": [
    "We can see that there is a binormal distribution, with two peaks one from 0 to 4 and another >4. This also implies that for each lb generated flying, one would ideally want to maximize their distance flown to limit their CO2 emissions impact on the environment. We can classify these two by mapping them to Low Utilization or \"0\" (0-4 km/lbs), and High Utilization \"1\" (>4 km/lbs). "
   ]
  },
  {
   "cell_type": "code",
   "execution_count": null,
   "id": "dc05359f",
   "metadata": {},
   "outputs": [],
   "source": [
    "df2['KM/LBS_Classification'] = np.where(df2['KM/LBS'] >4, 1, 0)"
   ]
  },
  {
   "cell_type": "code",
   "execution_count": null,
   "id": "ca602909",
   "metadata": {},
   "outputs": [],
   "source": [
    "# Check distribution of values\n",
    "rvw = df2['KM/LBS_Classification'].value_counts(normalize=True)\n",
    "print(x)"
   ]
  },
  {
   "cell_type": "code",
   "execution_count": null,
   "id": "f7974cba",
   "metadata": {
    "scrolled": true
   },
   "outputs": [],
   "source": [
    "# KM/LBS_Classification\n",
    "fig = px.bar(rvw,\n",
    "                   opacity=0.8,\n",
    "                   color_discrete_sequence=['cornflowerblue']\n",
    "                   )\n",
    "fig.update_layout( title='KM/LBS Classification Breakdown (High Utilization-1 & Low Utilization-0)',\n",
    "                  xaxis_title='KM/LBS Classification', yaxis_title='Value')\n",
    "fig.show()\n",
    "# export Graph\n",
    "fig.write_html(\"visualizations/KM-LBS_Classification_Overview.html\")"
   ]
  },
  {
   "cell_type": "markdown",
   "id": "5c1b67dc",
   "metadata": {},
   "source": [
    "We can see that almost 80% of the classification would be high utilization, but close to 14% of all trips are not efficient in maximizing their KM flown per CO2 lbs generated."
   ]
  },
  {
   "cell_type": "markdown",
   "id": "93384132",
   "metadata": {},
   "source": [
    "### Routes"
   ]
  },
  {
   "cell_type": "markdown",
   "id": "da65ad00",
   "metadata": {},
   "source": [
    "To help with interpretability, we can create routes to understand quickly the Origin and Destination Cities."
   ]
  },
  {
   "cell_type": "code",
   "execution_count": null,
   "id": "3177db6c",
   "metadata": {},
   "outputs": [],
   "source": [
    "# generate routes\n",
    "df2['Route'] = [str(x) + '-' + y for x, y in zip(df2['from_Airport_City']\n",
    "                                                 , df2['dest_Airport_City'])]"
   ]
  },
  {
   "cell_type": "code",
   "execution_count": null,
   "id": "5a620007",
   "metadata": {},
   "outputs": [],
   "source": [
    "# verify\n",
    "df2.head()"
   ]
  },
  {
   "cell_type": "markdown",
   "id": "a74d66d9",
   "metadata": {},
   "source": [
    "We will now reorganize and export the dataframe to assist with generating visualizations."
   ]
  },
  {
   "cell_type": "code",
   "execution_count": null,
   "id": "6c328257",
   "metadata": {},
   "outputs": [],
   "source": [
    "flight_data_edit = df2[[\"Route\",\"from_airport_code\",\"from_Airport_Name\",\"from_Airport_City\",\"from_country\",\"from_Airport_Lat\",\"from_Airport_Lon\",\"from_airport_coordinates\",\"dest_airport_code\",\"dest_Airport_Name\",\"dest_Airport_City\",\"dest_country\",\"dest_Airport_Lat\",\"dest_Airport_Lon\",\"dest_airport_coordinates\",\"flight_number\",\"aircraft_type_1\",\"aircraft_type_2\",\"aircraft_type_3\",\"aircraft_type_4\",\"aircraft_type_5\",\"aircraft_type_6\",\"aircraft_type_7\",\"airline_1\",\"airline_2\",\"airline_3\",\"airline_4\",\"airline_5\",\"departure_time_utc\",\"arrival_time_utc\",\"duration\",\"stops\",\"price\",\"co2_emissions\",\"Distance_km\",\"KM/LBS\",\"KM/LBS_Classification\",\n",
    "                    ]]"
   ]
  },
  {
   "cell_type": "code",
   "execution_count": null,
   "id": "c626b991",
   "metadata": {},
   "outputs": [],
   "source": [
    "# verify\n",
    "print(\"Previous Dataframe Shape\", df2.shape)\n",
    "print(\"New Dataframe Shape\", flight_data_edit.shape)"
   ]
  },
  {
   "cell_type": "markdown",
   "id": "eca810df",
   "metadata": {},
   "source": [
    "We will now export the dataframe as a csv to our data folder for simplicity and use in subsequent notebooks."
   ]
  },
  {
   "cell_type": "code",
   "execution_count": null,
   "id": "362b39a1",
   "metadata": {},
   "outputs": [],
   "source": [
    "flight_data_edit.to_csv('data/flight_data_edit.csv', index=False)"
   ]
  },
  {
   "cell_type": "markdown",
   "id": "0a561395",
   "metadata": {},
   "source": [
    "# Sources"
   ]
  },
  {
   "cell_type": "markdown",
   "id": "4208a59d",
   "metadata": {},
   "source": [
    "(1) - https://ourworldindata.org/co2-emissions-from-aviation\n",
    "\n",
    "(2) - https://www.buzzfeednews.com/article/lesliefinlay/how-celebrity-private-jet-emissions-affect-environment\n",
    "\n",
    "(3) - https://www.washingtonpost.com/climate-environment/2022/08/02/taylor-swift-kylie-jenner-private-jet-emissions/\n",
    "\n",
    "(4) - https://www.barkingdata.com/\n",
    "\n",
    "(5) - https://www.google.com/flights/\n",
    "\n",
    "(6) - https://www.kaggle.com/datasets/polartech/flight-data-with-1-million-or-more-records\n",
    "\n",
    "(7) - https://airportcodes.aero/\n",
    "\n",
    "(8) - https://www.timeanddate.com/\n",
    "\n",
    "(9) - https://www.bts.gov/topics/airlines-and-airports/airline-codes\n",
    "\n",
    "(10) - https://www.icao.int/environmental-protection/Carbonoffset/Pages/default.aspx\n",
    "\n",
    "(11) - https://transportgeography.org/contents/chapter1/transportation-and-space/great-circle-distance/\n"
   ]
  },
  {
   "cell_type": "code",
   "execution_count": null,
   "id": "57109885",
   "metadata": {},
   "outputs": [],
   "source": []
  }
 ],
 "metadata": {
  "kernelspec": {
   "display_name": "Python [conda env:capstone]",
   "language": "python",
   "name": "conda-env-capstone-py"
  },
  "language_info": {
   "codemirror_mode": {
    "name": "ipython",
    "version": 3
   },
   "file_extension": ".py",
   "mimetype": "text/x-python",
   "name": "python",
   "nbconvert_exporter": "python",
   "pygments_lexer": "ipython3",
   "version": "3.8.13"
  }
 },
 "nbformat": 4,
 "nbformat_minor": 5
}
