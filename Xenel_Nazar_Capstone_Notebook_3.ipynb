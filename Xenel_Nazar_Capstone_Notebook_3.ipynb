{
 "cells": [
  {
   "cell_type": "markdown",
   "id": "3c0fe005",
   "metadata": {},
   "source": [
    "# BrainStation Capstone: Flight Data and CO2 Emissions\n",
    "\n",
    "**Author:** Xenel Nazar\n",
    "\n",
    "**Contact Info:** xenel.nazar@gmail.com\n",
    "\n",
    "**Submission Date:** Sept 26, 2022\n",
    "\n",
    "**Notebook:** 3 of 4"
   ]
  },
  {
   "cell_type": "markdown",
   "id": "58e222c8",
   "metadata": {},
   "source": [
    "Table of Contents:\n",
    "\n",
    "[Introduction](#Introduction) \\\n",
    "[Pre-Processing](#Pre-Processing) \\\n",
    "[Dataset for Modeling](#Dataset-for-Modeling) \\\n",
    "[Sources](#Sources)"
   ]
  },
  {
   "cell_type": "markdown",
   "id": "896c93f5",
   "metadata": {},
   "source": [
    "# Introduction"
   ]
  },
  {
   "cell_type": "markdown",
   "id": "f5809cff",
   "metadata": {},
   "source": [
    "For the following notebook, we will be looking at pre-processing the data from the .csv file generated at the end of our first notebook. \n",
    "\n",
    "We will iterate through the numerical and categorical columns and pre-process, as required, to help prepare the data for modeling."
   ]
  },
  {
   "cell_type": "markdown",
   "id": "568c0404",
   "metadata": {},
   "source": [
    "### Import Libraries"
   ]
  },
  {
   "cell_type": "markdown",
   "id": "80d10721",
   "metadata": {},
   "source": [
    "We will first import all necessary libaries to help with pre-processing."
   ]
  },
  {
   "cell_type": "code",
   "execution_count": null,
   "id": "3e7fe35e",
   "metadata": {},
   "outputs": [],
   "source": [
    "# import libraries\n",
    "import numpy as np\n",
    "import pandas as pd\n",
    "pd.options.display.max_columns = 999\n",
    "import matplotlib.pyplot as plt\n",
    "import seaborn as sns\n",
    "import plotly.express as px\n",
    "from sklearn.preprocessing import OneHotEncoder"
   ]
  },
  {
   "cell_type": "markdown",
   "id": "7025af62",
   "metadata": {},
   "source": [
    "### Import Data"
   ]
  },
  {
   "cell_type": "markdown",
   "id": "931e6fcc",
   "metadata": {},
   "source": [
    "We will now import the .csv file that was generated in our first notebook."
   ]
  },
  {
   "cell_type": "code",
   "execution_count": null,
   "id": "23a1cbfa",
   "metadata": {},
   "outputs": [],
   "source": [
    "# Read in the data \n",
    "df = pd.read_csv('data/flight_data_edit.csv')"
   ]
  },
  {
   "cell_type": "code",
   "execution_count": null,
   "id": "3e6de88c",
   "metadata": {},
   "outputs": [],
   "source": [
    "# verify\n",
    "df.info()"
   ]
  },
  {
   "cell_type": "markdown",
   "id": "6b19dd05",
   "metadata": {},
   "source": [
    "# Pre-Processing"
   ]
  },
  {
   "cell_type": "markdown",
   "id": "22679ba8",
   "metadata": {},
   "source": [
    "We will first split the columns into numerical and categorical columns."
   ]
  },
  {
   "cell_type": "code",
   "execution_count": null,
   "id": "62c71161",
   "metadata": {},
   "outputs": [],
   "source": [
    "# Separate Numeric and Categorical Columns\n",
    "\n",
    "# Separate Numeric Columns\n",
    "numeric_col_list = list(df.select_dtypes('number').columns)\n",
    "\n",
    "#Separate Categorical Columns\n",
    "categorical_col_list = list(df.select_dtypes('object').columns)"
   ]
  },
  {
   "cell_type": "code",
   "execution_count": null,
   "id": "54c8f9fd",
   "metadata": {},
   "outputs": [],
   "source": [
    "# verify numerical columns\n",
    "print(\"Numeric Columns:\")\n",
    "numeric_col_list"
   ]
  },
  {
   "cell_type": "code",
   "execution_count": null,
   "id": "08145144",
   "metadata": {},
   "outputs": [],
   "source": [
    "# verify categorical columns\n",
    "print(\"Categorical Columns:\")\n",
    "categorical_col_list"
   ]
  },
  {
   "cell_type": "markdown",
   "id": "f5141fcd",
   "metadata": {},
   "source": [
    "### Pre-Process Numeric Columns"
   ]
  },
  {
   "cell_type": "markdown",
   "id": "66ff2da3",
   "metadata": {},
   "source": [
    "We will first look at tackling the numerical columns."
   ]
  },
  {
   "cell_type": "code",
   "execution_count": null,
   "id": "00d7229f",
   "metadata": {},
   "outputs": [],
   "source": [
    "# verify numerical columns\n",
    "numeric_col_list"
   ]
  },
  {
   "cell_type": "markdown",
   "id": "79b60f2b",
   "metadata": {},
   "source": [
    "We can now transfer the numerical columns to a new dataframe that we will use for modeling."
   ]
  },
  {
   "cell_type": "code",
   "execution_count": null,
   "id": "b70a7be0",
   "metadata": {},
   "outputs": [],
   "source": [
    "# Create new dataframe to store numerical data\n",
    "df_clean = df[numeric_col_list].copy()"
   ]
  },
  {
   "cell_type": "code",
   "execution_count": null,
   "id": "d036aa4e",
   "metadata": {},
   "outputs": [],
   "source": [
    "# Verify new dataframe\n",
    "df_clean.head()"
   ]
  },
  {
   "cell_type": "code",
   "execution_count": null,
   "id": "e773791e",
   "metadata": {},
   "outputs": [],
   "source": [
    "# Describe numerical columns\n",
    "df_clean.describe()"
   ]
  },
  {
   "cell_type": "markdown",
   "id": "98b393a7",
   "metadata": {},
   "source": [
    "As the values in the numerical columns vary, we may look the standard scaler when modeling."
   ]
  },
  {
   "cell_type": "code",
   "execution_count": null,
   "id": "a8cd5006",
   "metadata": {},
   "outputs": [],
   "source": [
    "# Generate histograms for numeric columns\n",
    "i = 1\n",
    "for column in df_clean.columns:\n",
    "    fig = px.histogram(df_clean, x=column,\n",
    "                       opacity=0.8,\n",
    "                       color_discrete_sequence=['cornflowerblue']\n",
    "                       )\n",
    "    fig.update_layout( title=column,\n",
    "                      xaxis_title=column, yaxis_title='Count')\n",
    "    fig.show()\n",
    "    # export Graph\n",
    "    fig.write_html(f\"visualizations/numerical_column_{i}_Overview.html\")\n",
    "    i=i+1"
   ]
  },
  {
   "cell_type": "markdown",
   "id": "8604776e",
   "metadata": {},
   "source": [
    "The Latitude and Longitude coordinates for the Orign and Destination airports do not show any sign of normality in the data.\n",
    "\n",
    "The `duration` column shows a very evident normal distribution, but with a slight right skew. \n",
    "\n",
    "The `stops` columns shows a similar pattern. with a normal distribution around 1 to 3 stops, with a slight right skew. \n",
    "\n",
    "The `price` column does not show a normal distribution, with a majority of the points under the $5,000 USD price range. \n",
    "\n",
    "`co2_emissions` shows a binormal distribution, with a distribution from ~0-500lbs and another from >500lbs, with a right skew. \n",
    "\n",
    "The `Distance_km` column shows some form of a binormal distribution, with a right skewed distribution, from 0-4,000kms and another from 5,000-15,000kms.\n",
    "\n",
    "The calculated field `KM/LBS` column clearly shows a binormal distribution, with a right skewed distribution from 0-4km/lb, which we have classfied in the `KM/LBS_Classification` column as 0 or Low Utilization/Efficiency. While there is another distribution that is normally distributed, from 4-12km/lb, which is classifed as in the `KM/LBS_Classification` as 1 or High Utilization/Efficiency. \n",
    "\n",
    "In regards to the `KM/LBS_Classification`, we do not see a normal distribution, but a clear imbalanced classification, with a majority classified as 1 or High-Utilization/Efficiency.\n",
    "\n",
    "The imbalance can result in difficulties in modeling if we need to over/under sample to help enhance the model's performance. We have noted that oversampling could pose to overfitting issues. Potential use of tree-based models, like Decision Trees and Random Forest models, could help tackle the imbalanced data.\n"
   ]
  },
  {
   "cell_type": "code",
   "execution_count": null,
   "id": "39cd7655",
   "metadata": {},
   "outputs": [],
   "source": [
    "# Review Correlation \n",
    "sns.heatmap(df_clean.corr().round(2), vmin=-1, vmax=1, cmap='coolwarm', annot=True)\n",
    "plt.show()"
   ]
  },
  {
   "cell_type": "markdown",
   "id": "cffe85da",
   "metadata": {},
   "source": [
    "Looking at the correlation plot for the columns, we can see various positive and negative correlations.\n",
    "\n",
    "A number of positive correlations are seen with the relationship between the `duration`, `stops`, `price`, `co2_emissions`, and `Distance_km` columns.\n",
    "\n",
    "We do see some negative correlations with the latitude columns, (`from_Airport_Lat` & `dest_Airport_Lat`) and the `duration`, `stops`, `price`, `co2_emissions`, and `Distance_km` columns.\n",
    "\n",
    "We will likely need to drop some or a number of the columns prior to modeling. "
   ]
  },
  {
   "cell_type": "markdown",
   "id": "8a1c5327",
   "metadata": {},
   "source": [
    "### Pre-Process Categorical Columns"
   ]
  },
  {
   "cell_type": "markdown",
   "id": "5912eb2f",
   "metadata": {},
   "source": [
    "We can now look at pre-processing the categorical columns."
   ]
  },
  {
   "cell_type": "code",
   "execution_count": null,
   "id": "8a4d4bad",
   "metadata": {},
   "outputs": [],
   "source": [
    "# verify categorical columns\n",
    "categorical_col_list"
   ]
  },
  {
   "cell_type": "markdown",
   "id": "1a572efd",
   "metadata": {},
   "source": [
    "#### from_Airport_City"
   ]
  },
  {
   "cell_type": "markdown",
   "id": "bdb7b354",
   "metadata": {},
   "source": [
    "We will first look at the `from_Airport_City` column. "
   ]
  },
  {
   "cell_type": "code",
   "execution_count": null,
   "id": "34e21e02",
   "metadata": {},
   "outputs": [],
   "source": [
    "# Check distribution of values\n",
    "column = 'from_Airport_City'\n",
    "rvw = df['from_Airport_City'].value_counts(normalize=True)*100\n",
    "rvw"
   ]
  },
  {
   "cell_type": "code",
   "execution_count": null,
   "id": "af7e1acd",
   "metadata": {},
   "outputs": [],
   "source": [
    "# Graph Categorical column\n",
    "fig = px.bar(rvw,\n",
    "                   opacity=0.8,\n",
    "                   color_discrete_sequence=['cornflowerblue']\n",
    "                   )\n",
    "fig.update_layout( title=column,\n",
    "                  xaxis_title=column, yaxis_title='Value %',showlegend=False)\n",
    "fig.show()\n",
    "# export Graph\n",
    "fig.write_html(f\"visualizations/Categorical_Column_{column}.html\")"
   ]
  },
  {
   "cell_type": "markdown",
   "id": "e3a27688",
   "metadata": {},
   "source": [
    "We can see that for the origin airport codes, the proportion of the top 10 values range from 5-6% of the overall dataset. "
   ]
  },
  {
   "cell_type": "markdown",
   "id": "a29facb4",
   "metadata": {},
   "source": [
    "We can now one hot encode each of the various Origin Airport Cities."
   ]
  },
  {
   "cell_type": "code",
   "execution_count": null,
   "id": "1fc88b08",
   "metadata": {},
   "outputs": [],
   "source": [
    "# Instantiate the OneHotEncoder\n",
    "ohe = OneHotEncoder()\n",
    "subcategory = pd.DataFrame(df[column])\n",
    "\n",
    "# Fit the OneHotEncoder to the subcategory column and transform\n",
    "encoded = ohe.fit_transform(subcategory)\n",
    "\n",
    "# Convert from sparse matrix to dense\n",
    "dense_array = encoded.toarray()\n",
    "\n",
    "# Put into a dataframe to get column names\n",
    "encoded_df = pd.DataFrame(dense_array, columns=ohe.categories_, dtype=int)\n",
    "\n",
    "encoded_df.columns = [\n",
    "\"from_Airport_City_Addis Ababa\",\"from_Airport_City_Algiers\"\n",
    "    ,\"from_Airport_City_Athens\",\"from_Airport_City_Beijing\"\n",
    "    ,\"from_Airport_City_Bogota\",\"from_Airport_City_Brussels\"\n",
    "    ,\"from_Airport_City_Buenos Aires\",\"from_Airport_City_Cairo\"\n",
    "    ,\"from_Airport_City_Chengdu\",\"from_Airport_City_Confins\"\n",
    "    ,\"from_Airport_City_Copenhagen\",\"from_Airport_City_Delhi\"\n",
    "    ,\"from_Airport_City_Dublin\",\"from_Airport_City_Frankfurt\"\n",
    "    ,\"from_Airport_City_Guangzhou\",\"from_Airport_City_Hangzhou\"\n",
    "    ,\"from_Airport_City_Melbourne\",\"from_Airport_City_Mumbai\"\n",
    "    ,\"from_Airport_City_Munich\",\"from_Airport_City_Paris\"\n",
    "    ,\"from_Airport_City_Santiago\",\"from_Airport_City_Sao Paulo\"\n",
    "    ,\"from_Airport_City_Shanghai\",\"from_Airport_City_Shenzhen\"\n",
    "    ,\"from_Airport_City_Sydney\",\"from_Airport_City_Toronto\"\n",
    "    ,\"from_Airport_City_Vienna\",\"from_Airport_City_Xi'an\"\n",
    "]\n",
    "\n",
    "# verify\n",
    "encoded_df"
   ]
  },
  {
   "cell_type": "markdown",
   "id": "eca29150",
   "metadata": {},
   "source": [
    "We can now combine the encoded columns with the clean dataframe."
   ]
  },
  {
   "cell_type": "code",
   "execution_count": null,
   "id": "1d166168",
   "metadata": {},
   "outputs": [],
   "source": [
    "# Combine Encoded Dataframe to df_clean\n",
    "df_clean = pd.concat([df_clean, encoded_df], axis=1)"
   ]
  },
  {
   "cell_type": "code",
   "execution_count": null,
   "id": "b4abebef",
   "metadata": {},
   "outputs": [],
   "source": [
    "# verify\n",
    "df_clean.head()"
   ]
  },
  {
   "cell_type": "markdown",
   "id": "9c9f7639",
   "metadata": {},
   "source": [
    "We can now drop the `from_Airport_City` from our categorical column list."
   ]
  },
  {
   "cell_type": "code",
   "execution_count": null,
   "id": "2cd7988f",
   "metadata": {},
   "outputs": [],
   "source": [
    "# Remove from categorical list\n",
    "categorical_col_list.remove(column)\n",
    "categorical_col_list"
   ]
  },
  {
   "cell_type": "markdown",
   "id": "1b36016e",
   "metadata": {},
   "source": [
    "#### from_airport_code"
   ]
  },
  {
   "cell_type": "code",
   "execution_count": null,
   "id": "6ed7aa42",
   "metadata": {},
   "outputs": [],
   "source": [
    "# Check distribution of values\n",
    "column = 'from_airport_code'\n",
    "rvw = df['from_airport_code'].value_counts(normalize=True)*100\n",
    "rvw"
   ]
  },
  {
   "cell_type": "code",
   "execution_count": null,
   "id": "a385a0d1",
   "metadata": {},
   "outputs": [],
   "source": [
    "# Graph Categorical column\n",
    "fig = px.bar(rvw,\n",
    "                   opacity=0.8,\n",
    "                   color_discrete_sequence=['cornflowerblue']\n",
    "                   )\n",
    "fig.update_layout( title=column,\n",
    "                  xaxis_title=column, yaxis_title='Value %',showlegend=False)\n",
    "fig.show()\n",
    "# export Graph\n",
    "fig.write_html(f\"visualizations/Categorical_Column_{column}.html\")"
   ]
  },
  {
   "cell_type": "markdown",
   "id": "689eee32",
   "metadata": {},
   "source": [
    "We see similar data being presented in the `from_airport_code` column, and a similar value breakdown as the `from_Airport_City` column. "
   ]
  },
  {
   "cell_type": "markdown",
   "id": "4356eff5",
   "metadata": {},
   "source": [
    "We can drop the `from_airport_code` column from our categorical column list and use the values from the `from_Airport_City` column."
   ]
  },
  {
   "cell_type": "code",
   "execution_count": null,
   "id": "7e0b3265",
   "metadata": {},
   "outputs": [],
   "source": [
    "# Remove from categorical list\n",
    "print(f\"The {column} column is now removed from the categorical column list\")\n",
    "categorical_col_list.remove(column)\n",
    "categorical_col_list"
   ]
  },
  {
   "cell_type": "markdown",
   "id": "3afa0479",
   "metadata": {},
   "source": [
    "#### from_country"
   ]
  },
  {
   "cell_type": "code",
   "execution_count": null,
   "id": "5c7cb294",
   "metadata": {},
   "outputs": [],
   "source": [
    "# Check distribution of values\n",
    "column = 'from_country'\n",
    "rvw = df[column].value_counts(normalize=True)*100\n",
    "rvw"
   ]
  },
  {
   "cell_type": "code",
   "execution_count": null,
   "id": "6b734544",
   "metadata": {},
   "outputs": [],
   "source": [
    "# Graph Categorical column\n",
    "fig = px.bar(rvw,\n",
    "                   opacity=0.8,\n",
    "                   color_discrete_sequence=['cornflowerblue']\n",
    "                   )\n",
    "fig.update_layout( title=column,\n",
    "                  xaxis_title=column, yaxis_title='Value %',showlegend=False)\n",
    "fig.show()\n",
    "# export Graph\n",
    "fig.write_html(f\"visualizations/Categorical_Column_{column}.html\")"
   ]
  },
  {
   "cell_type": "markdown",
   "id": "093fc143",
   "metadata": {},
   "source": [
    "We can see that the country with the highest proportion of values in the dataset are trips originating from Germany, at ~12%, and secondly with Australia, at ~10%."
   ]
  },
  {
   "cell_type": "markdown",
   "id": "74fd9e9c",
   "metadata": {},
   "source": [
    "We will now encode each of the origin countries listed."
   ]
  },
  {
   "cell_type": "code",
   "execution_count": null,
   "id": "36cdce9b",
   "metadata": {},
   "outputs": [],
   "source": [
    "# Instantiate the OneHotEncoder\n",
    "ohe = OneHotEncoder()\n",
    "subcategory = pd.DataFrame(df[column])\n",
    "\n",
    "# Fit the OneHotEncoder to the subcategory column and transform\n",
    "encoded = ohe.fit_transform(subcategory)\n",
    "\n",
    "# Convert from sparse matrix to dense\n",
    "dense_array = encoded.toarray()\n",
    "\n",
    "# Put into a dataframe to get column names\n",
    "encoded_df = pd.DataFrame(dense_array, columns=ohe.categories_, dtype=int)\n",
    "\n",
    "encoded_df.columns = [\"from_country_Algeria\",\"from_country_Argentina\"\n",
    "                      ,\"from_country_Australia\",\"from_country_Austria\"\n",
    "                      ,\"from_country_Belgium\",\"from_country_Brazil\"\n",
    "                      ,\"from_country_Canada\",\"from_country_Chile\"\n",
    "                      ,\"from_country_China\",\"from_country_Columbia\"\n",
    "                      ,\"from_country_Denmark\",\"from_country_Dublin\"\n",
    "                      ,\"from_country_Egypt\",\"from_country_Ethiopia\"\n",
    "                      ,\"from_country_France\",\"from_country_Germany\"\n",
    "                      ,\"from_country_Greece\",\"from_country_India\",]\n",
    "\n",
    "# verify\n",
    "encoded_df"
   ]
  },
  {
   "cell_type": "markdown",
   "id": "04503a2c",
   "metadata": {},
   "source": [
    "We will now add the encoded origin countries to our clean dataframe."
   ]
  },
  {
   "cell_type": "code",
   "execution_count": null,
   "id": "a1618209",
   "metadata": {},
   "outputs": [],
   "source": [
    "# Combine Encoded Dataframe to df_clean\n",
    "df_clean = pd.concat([df_clean, encoded_df], axis=1)"
   ]
  },
  {
   "cell_type": "code",
   "execution_count": null,
   "id": "c8ddd223",
   "metadata": {},
   "outputs": [],
   "source": [
    "# verify\n",
    "df_clean.head()"
   ]
  },
  {
   "cell_type": "markdown",
   "id": "0a3b6fed",
   "metadata": {},
   "source": [
    "We can now remove the `from_country` column from our categorical list."
   ]
  },
  {
   "cell_type": "code",
   "execution_count": null,
   "id": "60fc1cc5",
   "metadata": {},
   "outputs": [],
   "source": [
    "# Remove from categorical list\n",
    "print(f\"The {column} column is now removed from the categorical column list\")\n",
    "categorical_col_list.remove(column)\n",
    "categorical_col_list"
   ]
  },
  {
   "cell_type": "markdown",
   "id": "2e9ba1ca",
   "metadata": {},
   "source": [
    "#### dest_Airport_City"
   ]
  },
  {
   "cell_type": "markdown",
   "id": "3d62f137",
   "metadata": {},
   "source": [
    "We can now look at the destination Airport cities."
   ]
  },
  {
   "cell_type": "code",
   "execution_count": null,
   "id": "2beffc33",
   "metadata": {},
   "outputs": [],
   "source": [
    "# Check distribution of values\n",
    "column = 'dest_Airport_City'\n",
    "rvw = df[column].value_counts(normalize=True)*100\n",
    "rvw"
   ]
  },
  {
   "cell_type": "code",
   "execution_count": null,
   "id": "72bf6cfd",
   "metadata": {},
   "outputs": [],
   "source": [
    "# Graph Categorical column\n",
    "fig = px.bar(rvw,\n",
    "                   opacity=0.8,\n",
    "                   color_discrete_sequence=['cornflowerblue']\n",
    "                   )\n",
    "fig.update_layout( title=column,\n",
    "                  xaxis_title=column, yaxis_title='Value %', showlegend=False)\n",
    "fig.show()\n",
    "# export Graph\n",
    "fig.write_html(f\"visualizations/Categorical_Column_{column}.html\")"
   ]
  },
  {
   "cell_type": "markdown",
   "id": "32e6160e",
   "metadata": {},
   "source": [
    "London and Tokyo have the largest values in data set, at 3.6% and 3.5%, respectively."
   ]
  },
  {
   "cell_type": "code",
   "execution_count": null,
   "id": "a23640d7",
   "metadata": {},
   "outputs": [],
   "source": [
    "# Instantiate the OneHotEncoder\n",
    "ohe = OneHotEncoder()\n",
    "subcategory = pd.DataFrame(df[column])\n",
    "\n",
    "# Fit the OneHotEncoder to the subcategory column and transform\n",
    "encoded = ohe.fit_transform(subcategory)\n",
    "\n",
    "# Convert from sparse matrix to dense\n",
    "dense_array = encoded.toarray()\n",
    "\n",
    "# Put into a dataframe to get column names\n",
    "encoded_df = pd.DataFrame(dense_array, columns=ohe.categories_, dtype=int)\n",
    "\n",
    "# add prefix\n",
    "encoded_df.columns = [\n",
    "    \"dest_Airport_City_Addis Ababa\",\"dest_Airport_City_Algiers\"\n",
    "    ,\"dest_Airport_City_Amsterdam\",\"dest_Airport_City_Athens\"\n",
    "    ,\"dest_Airport_City_Atlanta\",\"dest_Airport_City_Bangalore\"\n",
    "    ,\"dest_Airport_City_Bangkok\",\"dest_Airport_City_Beijing\"\n",
    "    ,\"dest_Airport_City_Bogota\",\"dest_Airport_City_Brussels\"\n",
    "    ,\"dest_Airport_City_Buenos Aires\",\"dest_Airport_City_Cairo\"\n",
    "    ,\"dest_Airport_City_Cape Town\",\"dest_Airport_City_Casablanca\"\n",
    "    ,\"dest_Airport_City_Charlotte\",\"dest_Airport_City_Chengdu\"\n",
    "    ,\"dest_Airport_City_Chicago\",\"dest_Airport_City_Confins\"\n",
    "    ,\"dest_Airport_City_Copenhagen\",\"dest_Airport_City_Delhi\"\n",
    "    ,\"dest_Airport_City_Doha\",\"dest_Airport_City_Dubai\"\n",
    "    ,\"dest_Airport_City_Dublin\",\"dest_Airport_City_Fiumicino\"\n",
    "    ,\"dest_Airport_City_Frankfurt\",\"dest_Airport_City_Guangzhou\"\n",
    "    ,\"dest_Airport_City_Hangzhou\",\"dest_Airport_City_Ho Chi Minh City\"\n",
    "    ,\"dest_Airport_City_Houston\",\"dest_Airport_City_Istanbul\"\n",
    "    ,\"dest_Airport_City_Jakarta\",\"dest_Airport_City_Johannesburg\"\n",
    "    ,\"dest_Airport_City_Kuala Lumpur\",\"dest_Airport_City_Lima\"\n",
    "    ,\"dest_Airport_City_Lisbon\",\"dest_Airport_City_London\"\n",
    "    ,\"dest_Airport_City_Los Angeles\",\"dest_Airport_City_Madrid\"\n",
    "    ,\"dest_Airport_City_Manchester\",\"dest_Airport_City_Manila\"\n",
    "    ,\"dest_Airport_City_Melbourne\",\"dest_Airport_City_Mexico City\"\n",
    "    ,\"dest_Airport_City_Miami\",\"dest_Airport_City_Milan\"\n",
    "    ,\"dest_Airport_City_Moscow\",\"dest_Airport_City_Mumbai\"\n",
    "    ,\"dest_Airport_City_Munich\",\"dest_Airport_City_Nairobi\"\n",
    "    ,\"dest_Airport_City_New York\",\"dest_Airport_City_Orlando\"\n",
    "    ,\"dest_Airport_City_Oslo\",\"dest_Airport_City_Panama City\"\n",
    "    ,\"dest_Airport_City_Paris\",\"dest_Airport_City_Phoenix\"\n",
    "    ,\"dest_Airport_City_San Francisco\",\"dest_Airport_City_Santiago\"\n",
    "    ,\"dest_Airport_City_Sao Paulo\",\"dest_Airport_City_Seattle\"\n",
    "    ,\"dest_Airport_City_Seoul\",\"dest_Airport_City_Shanghai\"\n",
    "    ,\"dest_Airport_City_Shenzhen\",\"dest_Airport_City_Singapore\"\n",
    "    ,\"dest_Airport_City_Stockholm\",\"dest_Airport_City_Sydney\"\n",
    "    ,\"dest_Airport_City_Taipei\",\"dest_Airport_City_Tokyo\"\n",
    "    ,\"dest_Airport_City_Toronto\",\"dest_Airport_City_Vienna\"\n",
    "    ,\"dest_Airport_City_Xi'an\",\"dest_Airport_City_Zurich\"\n",
    "]\n",
    "\n",
    "# verify\n",
    "encoded_df"
   ]
  },
  {
   "cell_type": "markdown",
   "id": "7293a3f7",
   "metadata": {},
   "source": [
    "We will now add the encoded destination Airport cities to our clean dataframe."
   ]
  },
  {
   "cell_type": "code",
   "execution_count": null,
   "id": "f10fb39f",
   "metadata": {},
   "outputs": [],
   "source": [
    "# Combine Encoded Dataframe to df_clean\n",
    "df_clean = pd.concat([df_clean, encoded_df], axis=1)"
   ]
  },
  {
   "cell_type": "code",
   "execution_count": null,
   "id": "e957830e",
   "metadata": {},
   "outputs": [],
   "source": [
    "# verify\n",
    "df_clean.head()"
   ]
  },
  {
   "cell_type": "markdown",
   "id": "98c1cdda",
   "metadata": {},
   "source": [
    "We will now remove the `dest_Airport_City` column from our categorical column list."
   ]
  },
  {
   "cell_type": "code",
   "execution_count": null,
   "id": "b95f8a7e",
   "metadata": {},
   "outputs": [],
   "source": [
    "# Remove from categorical list\n",
    "print(f\"The {column} column is now removed from the categorical column list\")\n",
    "categorical_col_list.remove(column)\n",
    "categorical_col_list"
   ]
  },
  {
   "cell_type": "markdown",
   "id": "9a519f64",
   "metadata": {},
   "source": [
    "#### dest_airport_code"
   ]
  },
  {
   "cell_type": "markdown",
   "id": "8e2f6ad3",
   "metadata": {},
   "source": [
    "As we dropped the similar column for origin airport codes, we can drop this column as well."
   ]
  },
  {
   "cell_type": "code",
   "execution_count": null,
   "id": "f902cf85",
   "metadata": {},
   "outputs": [],
   "source": [
    "# Remove from categorical list\n",
    "categorical_col_list.remove('dest_airport_code')\n",
    "categorical_col_list"
   ]
  },
  {
   "cell_type": "markdown",
   "id": "6437bf0f",
   "metadata": {},
   "source": [
    "#### dest_country"
   ]
  },
  {
   "cell_type": "code",
   "execution_count": null,
   "id": "2b472d34",
   "metadata": {},
   "outputs": [],
   "source": [
    "# Check distribution of values\n",
    "column = 'dest_country'\n",
    "rvw = df[column].value_counts(normalize=True)*100\n",
    "rvw"
   ]
  },
  {
   "cell_type": "code",
   "execution_count": null,
   "id": "37065023",
   "metadata": {},
   "outputs": [],
   "source": [
    "# Graph Categorical column\n",
    "fig = px.bar(rvw,\n",
    "                   opacity=0.8,\n",
    "                   color_discrete_sequence=['cornflowerblue']\n",
    "                   )\n",
    "fig.update_layout( title=column,\n",
    "                  xaxis_title=column, yaxis_title='Value %', showlegend=False)\n",
    "fig.show()\n",
    "# export Graph\n",
    "fig.write_html(f\"visualizations/Categorical_Column_{column}.html\")"
   ]
  },
  {
   "cell_type": "markdown",
   "id": "6273e6b7",
   "metadata": {},
   "source": [
    "The United States as a destination has the highest proportion of values at ~22%. The second highest is the United Kingdom at ~5%."
   ]
  },
  {
   "cell_type": "markdown",
   "id": "af17fbb0",
   "metadata": {},
   "source": [
    "We can now work on encoding each of the destination countries."
   ]
  },
  {
   "cell_type": "code",
   "execution_count": null,
   "id": "ea04f72b",
   "metadata": {},
   "outputs": [],
   "source": [
    "# Instantiate the OneHotEncoder\n",
    "ohe = OneHotEncoder()\n",
    "subcategory = pd.DataFrame(df[column])\n",
    "\n",
    "# Fit the OneHotEncoder to the subcategory column and transform\n",
    "encoded = ohe.fit_transform(subcategory)\n",
    "\n",
    "# Convert from sparse matrix to dense\n",
    "dense_array = encoded.toarray()\n",
    "\n",
    "# Put into a dataframe to get column names\n",
    "encoded_df = pd.DataFrame(dense_array, columns=ohe.categories_, dtype=int)\n",
    "\n",
    "# add prefix\n",
    "encoded_df.columns = [\n",
    "    \"dest_Airport_City_Algeria\",\"dest_Airport_City_Argentina\"\n",
    "    ,\"dest_Airport_City_Australia\",\"dest_Airport_City_Austria\"\n",
    "    ,\"dest_Airport_City_Belgium\",\"dest_Airport_City_Brazil\"\n",
    "    ,\"dest_Airport_City_Canada\",\"dest_Airport_City_Chile\"\n",
    "    ,\"dest_Airport_City_China\",\"dest_Airport_City_Columbia\"\n",
    "    ,\"dest_Airport_City_Denmark\",\"dest_Airport_City_Dublin\"\n",
    "    ,\"dest_Airport_City_Egypt\",\"dest_Airport_City_Ethiopia\"\n",
    "    ,\"dest_Airport_City_France\",\"dest_Airport_City_Germany\"\n",
    "    ,\"dest_Airport_City_Greece\",\"dest_Airport_City_India\"\n",
    "    ,\"dest_Airport_City_Indonesia\",\"dest_Airport_City_Italy\"\n",
    "    ,\"dest_Airport_City_Japan\",\"dest_Airport_City_Kenya\"\n",
    "    ,\"dest_Airport_City_Malaysia\",\"dest_Airport_City_Mexico\"\n",
    "    ,\"dest_Airport_City_Morocco\",\"dest_Airport_City_Netherlands\"\n",
    "    ,\"dest_Airport_City_Norway\",\"dest_Airport_City_Panama\"\n",
    "    ,\"dest_Airport_City_Peru\",\"dest_Airport_City_Philippines\"\n",
    "    ,\"dest_Airport_City_Portugal\",\"dest_Airport_City_Qatar\"\n",
    "    ,\"dest_Airport_City_Rome\",\"dest_Airport_City_Russia\"\n",
    "    ,\"dest_Airport_City_Singapore\",\"dest_Airport_City_South Africa\"\n",
    "    ,\"dest_Airport_City_South Korea\",\"dest_Airport_City_Spain\"\n",
    "    ,\"dest_Airport_City_Sweden\",\"dest_Airport_City_Taiwan\"\n",
    "    ,\"dest_Airport_City_Thailand\",\"dest_Airport_City_Turkey\"\n",
    "    ,\"dest_Airport_City_United Arab Emirates\",\"dest_Airport_City_United Kingdom\"\n",
    "    ,\"dest_Airport_City_United States\",\"dest_Airport_City_Vietnam\"\n",
    "    ,\"dest_Airport_City_Zurich\"\n",
    "]\n",
    "\n",
    "# verify\n",
    "encoded_df"
   ]
  },
  {
   "cell_type": "markdown",
   "id": "291354b3",
   "metadata": {},
   "source": [
    "We will now add the encoded Airport Countries to our clean dataframe."
   ]
  },
  {
   "cell_type": "code",
   "execution_count": null,
   "id": "092f296b",
   "metadata": {},
   "outputs": [],
   "source": [
    "# Combine Encoded Dataframe to df_clean\n",
    "df_clean = pd.concat([df_clean, encoded_df], axis=1)"
   ]
  },
  {
   "cell_type": "code",
   "execution_count": null,
   "id": "9c0236fc",
   "metadata": {},
   "outputs": [],
   "source": [
    "# verify\n",
    "df_clean.head()"
   ]
  },
  {
   "cell_type": "markdown",
   "id": "acdff2d2",
   "metadata": {},
   "source": [
    "We will now remove the `dest_country` column from the categorical column list."
   ]
  },
  {
   "cell_type": "code",
   "execution_count": null,
   "id": "56cbb812",
   "metadata": {},
   "outputs": [],
   "source": [
    "# Remove from categorical list\n",
    "print(f\"The {column} column is now removed from the categorical column list\")\n",
    "categorical_col_list.remove(column)\n",
    "categorical_col_list"
   ]
  },
  {
   "cell_type": "markdown",
   "id": "833d9d79",
   "metadata": {},
   "source": [
    "#### aircraft_type_1"
   ]
  },
  {
   "cell_type": "markdown",
   "id": "30ef1b00",
   "metadata": {},
   "source": [
    "We will now look at the Aircraft Types. "
   ]
  },
  {
   "cell_type": "code",
   "execution_count": null,
   "id": "87d61c7c",
   "metadata": {},
   "outputs": [],
   "source": [
    "# Check distribution of values\n",
    "column = 'aircraft_type_1'\n",
    "rvw = df[column].value_counts(normalize=True)*100\n",
    "rvw"
   ]
  },
  {
   "cell_type": "code",
   "execution_count": null,
   "id": "6fe234b6",
   "metadata": {},
   "outputs": [],
   "source": [
    "# Graph Categorical column\n",
    "fig = px.bar(rvw,\n",
    "                   opacity=0.8,\n",
    "                   color_discrete_sequence=['cornflowerblue']\n",
    "                   )\n",
    "fig.update_layout( title=column,\n",
    "                  xaxis_title=column, yaxis_title='Value%', showlegend=False)\n",
    "fig.show()\n",
    "# export Graph\n",
    "fig.write_html(f\"visualizations/Categorical_Column_{column}.html\")"
   ]
  },
  {
   "cell_type": "markdown",
   "id": "c1514edf",
   "metadata": {},
   "source": [
    "We see the most prominent Aircraft is the Airbus A320, at ~19%. According to Airbus, the A320 family is the most successful line ever ([1](https://www.airbus.com/en/products-services/commercial-aircraft/passenger-aircraft/a320-family)). "
   ]
  },
  {
   "cell_type": "markdown",
   "id": "2bb7c417",
   "metadata": {},
   "source": [
    "We also can see that some other modes of transportation, like train and bus transporation, are listed in the dataset. We will have to remove these values before mapping to our cleaning dataframe. "
   ]
  },
  {
   "cell_type": "code",
   "execution_count": null,
   "id": "6608e8d1",
   "metadata": {},
   "outputs": [],
   "source": [
    "# Instantiate the OneHotEncoder\n",
    "ohe = OneHotEncoder()\n",
    "subcategory = pd.DataFrame(df[column])\n",
    "\n",
    "# Fit the OneHotEncoder to the subcategory column and transform\n",
    "encoded = ohe.fit_transform(subcategory)\n",
    "\n",
    "# Convert from sparse matrix to dense\n",
    "dense_array = encoded.toarray()\n",
    "\n",
    "# Put into a dataframe to get column names\n",
    "encoded_df = pd.DataFrame(dense_array, columns=ohe.categories_, dtype=int)"
   ]
  },
  {
   "cell_type": "code",
   "execution_count": null,
   "id": "6195e502",
   "metadata": {},
   "outputs": [],
   "source": [
    "# verify\n",
    "encoded_df"
   ]
  },
  {
   "cell_type": "markdown",
   "id": "28255e9e",
   "metadata": {},
   "source": [
    "We can now drop the train and bus values."
   ]
  },
  {
   "cell_type": "code",
   "execution_count": null,
   "id": "a184c7a4",
   "metadata": {},
   "outputs": [],
   "source": [
    "encoded_df = encoded_df.drop(['Bus','Train'], axis=1)\n",
    "encoded_df"
   ]
  },
  {
   "cell_type": "markdown",
   "id": "e7e20982",
   "metadata": {},
   "source": [
    "There also looks to be \"NaN\" column which we will drop."
   ]
  },
  {
   "cell_type": "code",
   "execution_count": null,
   "id": "ac35a220",
   "metadata": {},
   "outputs": [],
   "source": [
    "# drop last column for \"NaN\"\n",
    "encoded_df = encoded_df.iloc[:,:-1]"
   ]
  },
  {
   "cell_type": "code",
   "execution_count": null,
   "id": "8bc8108a",
   "metadata": {},
   "outputs": [],
   "source": [
    "# verify\n",
    "encoded_df"
   ]
  },
  {
   "cell_type": "code",
   "execution_count": null,
   "id": "bbff776f",
   "metadata": {},
   "outputs": [],
   "source": [
    "# add prefix\n",
    "encoded_df.columns = [\"aircraft_type_1_ATR 42\",\"aircraft_type_1_ATR 42/72\"\n",
    "                      ,\"aircraft_type_1_ATR 72\",\"aircraft_type_1_Airbus A220 Passenger\"\n",
    "                      ,\"aircraft_type_1_Airbus A220-100 Passenger\"\n",
    "                      ,\"aircraft_type_1_Airbus A220-300 Passenger\",\"aircraft_type_1_Airbus A318\"\n",
    "                      ,\"aircraft_type_1_Airbus A319\",\"aircraft_type_1_Airbus A319neo\"\n",
    "                      ,\"aircraft_type_1_Airbus A320\",\"aircraft_type_1_Airbus A320neo\"\n",
    "                      ,\"aircraft_type_1_Airbus A321\",\"aircraft_type_1_Airbus A321 (Sharklets)\"\n",
    "                      ,\"aircraft_type_1_Airbus A321neo\",\"aircraft_type_1_Airbus A330\"\n",
    "                      ,\"aircraft_type_1_Airbus A330-800neo Passenger\"\n",
    "                      ,\"aircraft_type_1_Airbus A330-900neo\",\"aircraft_type_1_Airbus A340\"\n",
    "                      ,\"aircraft_type_1_Airbus A350\",\"aircraft_type_1_Airbus A380\"\n",
    "                      ,\"aircraft_type_1_Avro RJ\",\"aircraft_type_1_Boeing 717\"\n",
    "                      ,\"aircraft_type_1_Boeing 737\",\"aircraft_type_1_Boeing 737MAX 8 Passenger\"\n",
    "                      ,\"aircraft_type_1_Boeing 737MAX 9 Passenger\",\"aircraft_type_1_Boeing 747\"\n",
    "                      ,\"aircraft_type_1_Boeing 757\",\"aircraft_type_1_Boeing 767\"\n",
    "                      ,\"aircraft_type_1_Boeing 777\",\"aircraft_type_1_Boeing 787\"\n",
    "                      ,\"aircraft_type_1_Boeing 787-10\"\n",
    "                      ,\"aircraft_type_1_Bombardier Regional Jet 550\"\n",
    "                      ,\"aircraft_type_1_Canadair RJ 1000\",\"aircraft_type_1_Canadair RJ 200\"\n",
    "                      ,\"aircraft_type_1_Canadair RJ 700\",\"aircraft_type_1_Canadair RJ 900\"\n",
    "                      ,\"aircraft_type_1_Canadair Reg. Jet\",\"aircraft_type_1_Comac ARJ21-700\"\n",
    "                      ,\"aircraft_type_1_De Havilland-Bombardier Dash-8\"\n",
    "                      ,\"aircraft_type_1_Embraer 170\",\"aircraft_type_1_Embraer 175\"\n",
    "                      ,\"aircraft_type_1_Embraer 190\",\"aircraft_type_1_Embraer 195\"\n",
    "                      ,\"aircraft_type_1_Embraer 195 E2\",\"aircraft_type_1_Embraer ERJ-145\"\n",
    "                      ,\"aircraft_type_1_Embraer RJ-170/190\",\"aircraft_type_1_SAAB SF 340\"]"
   ]
  },
  {
   "cell_type": "code",
   "execution_count": null,
   "id": "65bbec08",
   "metadata": {},
   "outputs": [],
   "source": [
    "# verify\n",
    "encoded_df"
   ]
  },
  {
   "cell_type": "markdown",
   "id": "30e64a9a",
   "metadata": {},
   "source": [
    "We can now combine the encoded aircraft types with the clean dataframe."
   ]
  },
  {
   "cell_type": "code",
   "execution_count": null,
   "id": "29c9d863",
   "metadata": {},
   "outputs": [],
   "source": [
    "# Combine Encoded Dataframe to df_clean\n",
    "df_clean = pd.concat([df_clean, encoded_df], axis=1)"
   ]
  },
  {
   "cell_type": "code",
   "execution_count": null,
   "id": "e56aa479",
   "metadata": {},
   "outputs": [],
   "source": [
    "# verify\n",
    "df_clean"
   ]
  },
  {
   "cell_type": "code",
   "execution_count": null,
   "id": "5f1c6b40",
   "metadata": {},
   "outputs": [],
   "source": [
    "# Remove from categorical list\n",
    "print(f\"The {column} column is now removed from the categorical column list\")\n",
    "categorical_col_list.remove(column)\n",
    "categorical_col_list"
   ]
  },
  {
   "cell_type": "markdown",
   "id": "07cf17e0",
   "metadata": {},
   "source": [
    "#### airline_1"
   ]
  },
  {
   "cell_type": "markdown",
   "id": "d79379f3",
   "metadata": {},
   "source": [
    "We will now look Airline information in the dataset."
   ]
  },
  {
   "cell_type": "code",
   "execution_count": null,
   "id": "4728e265",
   "metadata": {},
   "outputs": [],
   "source": [
    "# Check distribution of values\n",
    "column = 'airline_1'\n",
    "rvw = df[column].value_counts(normalize=True)*100\n",
    "rvw"
   ]
  },
  {
   "cell_type": "code",
   "execution_count": null,
   "id": "f67624c4",
   "metadata": {},
   "outputs": [],
   "source": [
    "# Graph Categorical column\n",
    "fig = px.bar(rvw,\n",
    "                   opacity=0.8,\n",
    "                   color_discrete_sequence=['cornflowerblue']\n",
    "                   )\n",
    "fig.update_layout( title=column,\n",
    "                  xaxis_title=column, yaxis_title='Value%', showlegend=False)\n",
    "fig.show()\n",
    "# export Graph\n",
    "fig.write_html(f\"visualizations/Categorical_Column_{column}.html\")"
   ]
  },
  {
   "cell_type": "markdown",
   "id": "5b6d14f9",
   "metadata": {},
   "source": [
    "We can see that the airline with the highest proportion of values in the dataset is Lufthansa, at ~16%. As Lufthansa is a German airline, this is not suprising as the highest values for origin cities are German cities, and the highest value for origin country is Germany ([2](https://www.lufthansagroup.com/en/company/company-portrait.html#cid6471))."
   ]
  },
  {
   "cell_type": "markdown",
   "id": "6f6f53c8",
   "metadata": {},
   "source": [
    "We will now encode each of the airlines. "
   ]
  },
  {
   "cell_type": "code",
   "execution_count": null,
   "id": "62b426f9",
   "metadata": {},
   "outputs": [],
   "source": [
    "# Instantiate the OneHotEncoder\n",
    "ohe = OneHotEncoder()\n",
    "subcategory = pd.DataFrame(df[column])\n",
    "\n",
    "# Fit the OneHotEncoder to the subcategory column and transform\n",
    "encoded = ohe.fit_transform(subcategory)\n",
    "\n",
    "# Convert from sparse matrix to dense\n",
    "dense_array = encoded.toarray()\n",
    "\n",
    "# Put into a dataframe to get column names\n",
    "encoded_df = pd.DataFrame(dense_array, columns=ohe.categories_, dtype=int)\n",
    "\n",
    "# add prefix\n",
    "encoded_df.columns = [\n",
    "    \"airline_1_ANA\",\"airline_1_ASL Airlines\",\"airline_1_Aegean\"\n",
    "    ,\"airline_1_Aer Lingus\",\"airline_1_Aerolineas Argentinas\"\n",
    "    ,\"airline_1_Aeromexico\",\"airline_1_Air Algerie\",\"airline_1_Air Arabia\"\n",
    "    ,\"airline_1_Air Arabia Maroc\",\"airline_1_Air Astana\"\n",
    "    ,\"airline_1_Air Austral\",\"airline_1_Air Baltic\",\"airline_1_Air Canada\"\n",
    "    ,\"airline_1_Air China\",\"airline_1_Air Dolomiti\",\"airline_1_Air Europa\"\n",
    "    ,\"airline_1_Air France\",\"airline_1_Air India\",\"airline_1_Air Macau\"\n",
    "    ,\"airline_1_Air Malta\",\"airline_1_Air Mauritius\",\"airline_1_Air Moldova\"\n",
    "    ,\"airline_1_Air New Zealand\",\"airline_1_Air Niugini\",\"airline_1_Air Serbia\"\n",
    "    ,\"airline_1_Air Seychelles\",\"airline_1_Air Tahiti Nui\",\"airline_1_Air Transat\"\n",
    "    ,\"airline_1_Air-India Express\",\"airline_1_AirAsia (India)\",\"airline_1_AirAsia X\"\n",
    "    ,\"airline_1_Aircalin\",\"airline_1_American\",\"airline_1_Arkia\",\"airline_1_Asiana\"\n",
    "    ,\"airline_1_Austrian\",\"airline_1_Avianca\",\"airline_1_Azores Airlines\",\"airline_1_Azul\"\n",
    "    ,\"airline_1_Bamboo Airways\",\"airline_1_Biman\",\"airline_1_Blue Air\",\"airline_1_BoA\"\n",
    "    ,\"airline_1_British Airways\",\"airline_1_Brussels Airlines\",\"airline_1_Bulgaria Air\"\n",
    "    ,\"airline_1_COPA\",\"airline_1_CSA\",\"airline_1_Cathay Pacific\",\"airline_1_Cebu Pacific\"\n",
    "    ,\"airline_1_China Airlines\",\"airline_1_China Eastern\",\"airline_1_China Southern\"\n",
    "    ,\"airline_1_Corendon\",\"airline_1_Croatia\",\"airline_1_Cyprus Airways\",\"airline_1_Delta\"\n",
    "    ,\"airline_1_EVA Air\",\"airline_1_EgyptAir\",\"airline_1_El Al\",\"airline_1_Emirates\"\n",
    "    ,\"airline_1_Ethiopian\",\"airline_1_Etihad\",\"airline_1_Eurowings\"\n",
    "    ,\"airline_1_Eurowings Discover\",\"airline_1_Fiji Airways\",\"airline_1_Finnair\"\n",
    "    ,\"airline_1_Flair Airlines\",\"airline_1_Fly One\",\"airline_1_Flynas\",\"airline_1_Flyr AS\"\n",
    "    ,\"airline_1_GO FIRST\",\"airline_1_Garuda Indonesia\",\"airline_1_Gol\",\"airline_1_Gulf Air\"\n",
    "    ,\"airline_1_Hainan\",\"airline_1_Hawaiian\",\"airline_1_Hong Kong Airlines\",\"airline_1_ITA\"\n",
    "    ,\"airline_1_Iberia\",\"airline_1_Iberia Express\",\"airline_1_Icelandair\",\"airline_1_IndiGo\"\n",
    "    ,\"airline_1_JAL\",\"airline_1_Jazeera\",\"airline_1_Jet2\",\"airline_1_JetBlue\",\"airline_1_Jetstar\"\n",
    "    ,\"airline_1_Juneyao Airlines\",\"airline_1_KLM\",\"airline_1_Kenya Airways\",\"airline_1_Korean Air\"\n",
    "    ,\"airline_1_Kuwait Airways\",\"airline_1_LATAM\",\"airline_1_LOT\"\n",
    "    ,\"airline_1_Lanmei Airlines (Cambodia)\",\"airline_1_Loganair\",\"airline_1_Lufthansa\"\n",
    "    ,\"airline_1_Lufthansa CityLine\",\"airline_1_Luxair\",\"airline_1_MEA\",\"airline_1_MIAT\"\n",
    "    ,\"airline_1_Malaysia Airlines\",\"airline_1_Malindo Air\",\"airline_1_Neos\"\n",
    "    ,\"airline_1_Nepal Airlines\",\"airline_1_Nile Air\",\"airline_1_Norwegian\",\"airline_1_Oman Air\"\n",
    "    ,\"airline_1_Pacific Airways\",\"airline_1_Pakistan\",\"airline_1_Paranair\",\"airline_1_Pegasus\"\n",
    "    ,\"airline_1_Philippine Airlines\",\"airline_1_Qantas\",\"airline_1_Qatar Airways\",\"airline_1_Rex\"\n",
    "    ,\"airline_1_Royal Air Maroc\",\"airline_1_Royal Brunei\",\"airline_1_Royal Jordanian\"\n",
    "    ,\"airline_1_RwandAir\",\"airline_1_Ryanair\",\"airline_1_SAS\",\"airline_1_SNCF\",\"airline_1_SWISS\"\n",
    "    ,\"airline_1_Saudia\",\"airline_1_Scoot\",\"airline_1_Shandong\",\"airline_1_Shanghai Airlines\"\n",
    "    ,\"airline_1_Shenzhen\",\"airline_1_Sichuan Airlines\",\"airline_1_Singapore Airlines\"\n",
    "    ,\"airline_1_Sky Airline\",\"airline_1_Sky Express\",\"airline_1_SpiceJet\",\"airline_1_Spirit\"\n",
    "    ,\"airline_1_SriLankan\",\"airline_1_SunExpress\",\"airline_1_Swoop\",\"airline_1_TAAG\"\n",
    "    ,\"airline_1_TAROM\",\"airline_1_THAI\",\"airline_1_TUI fly\",\"airline_1_Tap Air Portugal\"\n",
    "    ,\"airline_1_Thai Smile\",\"airline_1_Transavia\",\"airline_1_Tunisair\"\n",
    "    ,\"airline_1_Turkish Airlines\",\"airline_1_Uni Airways\",\"airline_1_United\"\n",
    "    ,\"airline_1_VOEPASS\",\"airline_1_VietJet Air\",\"airline_1_Virgin Atlantic\"\n",
    "    ,\"airline_1_Virgin Australia\",\"airline_1_Vistara\",\"airline_1_Viva Air\"\n",
    "    ,\"airline_1_VivaAerobus\",\"airline_1_Volaris\",\"airline_1_Vueling\",\"airline_1_WestJet\"\n",
    "    ,\"airline_1_Wideroe\",\"airline_1_Wingo\",\"airline_1_Wizz Air\",\"airline_1_XiamenAir\"\n",
    "    ,\"airline_1_easyJet\",\"airline_1_flydubai\",\"airline_1_jetSMART\"\n",
    "]\n",
    "\n",
    "# verify\n",
    "encoded_df"
   ]
  },
  {
   "cell_type": "markdown",
   "id": "ae2f73f1",
   "metadata": {},
   "source": [
    "We will now combine the encoded airline data to our clean dataframe."
   ]
  },
  {
   "cell_type": "code",
   "execution_count": null,
   "id": "b9468ed0",
   "metadata": {},
   "outputs": [],
   "source": [
    "# Combine Encoded Dataframe to df_clean\n",
    "df_clean = pd.concat([df_clean, encoded_df], axis=1)"
   ]
  },
  {
   "cell_type": "markdown",
   "id": "554886d7",
   "metadata": {},
   "source": [
    "We can now remove the `airline_1` column from the categorical column list."
   ]
  },
  {
   "cell_type": "code",
   "execution_count": null,
   "id": "fcccc66e",
   "metadata": {},
   "outputs": [],
   "source": [
    "# Remove from categorical list\n",
    "print(f\"The {column} column is now removed from the categorical column list\")\n",
    "categorical_col_list.remove(column)\n",
    "categorical_col_list"
   ]
  },
  {
   "cell_type": "markdown",
   "id": "0b0764bf",
   "metadata": {},
   "source": [
    "# Balance of Categorical Columns"
   ]
  },
  {
   "cell_type": "markdown",
   "id": "93a8afd8",
   "metadata": {},
   "source": [
    "The balance of the categorical columns will be dropped for convenience, as well removing duplicate information. \n",
    "\n",
    "The following columns contain duplicate or similar information already listed in other columns:\n",
    "- `Route` - Similar information already available with Origin and Destination City information\n",
    "- `from_Airport_Name` - Similar information in Origin City information\n",
    "- `from_airport_coordinates` - Latitude and Longitude information already listed in numerical column\n",
    "- `dest_Airport_Name` - Similar information in Destination City information \n",
    "- `dest_airport_coordinates` - Latitude and Longitude information already listed in numerical column\n",
    "\n",
    "For this capstone project, we will only look at the first aircraft used, and first airline listed in the first leg of a trip only. Possible future work can be done on these columns to help improve model performance.\n",
    " - `aircraft_type_2`\n",
    " - `aircraft_type_3`\n",
    " - `aircraft_type_4`\n",
    " - `aircraft_type_5`\n",
    " - `aircraft_type_6`\n",
    " - `aircraft_type_7`\n",
    " - `airline_2`\n",
    " - `airline_3`\n",
    " - `airline_4`\n",
    " - `airline_5`"
   ]
  },
  {
   "cell_type": "markdown",
   "id": "34b703d1",
   "metadata": {},
   "source": [
    "# Dataset for Modeling"
   ]
  },
  {
   "cell_type": "markdown",
   "id": "8a4671b8",
   "metadata": {},
   "source": [
    "We can now look at the pre-processed dataset that we will use for modeling."
   ]
  },
  {
   "cell_type": "code",
   "execution_count": null,
   "id": "750aeab1",
   "metadata": {},
   "outputs": [],
   "source": [
    "# verify\n",
    "print(\"Dataframe Shape\", df_clean.shape)"
   ]
  },
  {
   "cell_type": "markdown",
   "id": "46ea67bf",
   "metadata": {},
   "source": [
    "The dataframe contains 388 columns, potential dimension reduction might be needed for modeling. "
   ]
  },
  {
   "cell_type": "markdown",
   "id": "c6e06d46",
   "metadata": {},
   "source": [
    "We will now export the dataframe as a csv to our data folder for simplicity and use in the modeling notebook."
   ]
  },
  {
   "cell_type": "code",
   "execution_count": null,
   "id": "c1e13576",
   "metadata": {},
   "outputs": [],
   "source": [
    "df_clean.to_csv('data/flight_data_processed.csv', index=False)"
   ]
  },
  {
   "cell_type": "markdown",
   "id": "2d34db86",
   "metadata": {},
   "source": [
    "# Sources\n",
    "(1) - https://www.airbus.com/en/products-services/commercial-aircraft/passenger-aircraft/a320-family\n",
    "\n",
    "(2) - https://www.lufthansagroup.com/en/company/company-portrait.html#cid6471"
   ]
  }
 ],
 "metadata": {
  "kernelspec": {
   "display_name": "Python [conda env:capstone]",
   "language": "python",
   "name": "conda-env-capstone-py"
  },
  "language_info": {
   "codemirror_mode": {
    "name": "ipython",
    "version": 3
   },
   "file_extension": ".py",
   "mimetype": "text/x-python",
   "name": "python",
   "nbconvert_exporter": "python",
   "pygments_lexer": "ipython3",
   "version": "3.8.13"
  }
 },
 "nbformat": 4,
 "nbformat_minor": 5
}
