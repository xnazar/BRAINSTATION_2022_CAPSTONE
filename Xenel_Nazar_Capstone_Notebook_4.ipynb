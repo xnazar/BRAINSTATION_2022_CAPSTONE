{
 "cells": [
  {
   "cell_type": "markdown",
   "id": "b90b9a53",
   "metadata": {},
   "source": [
    "# BrainStation Capstone: Flight Data and CO2 Emissions\n",
    "\n",
    "**Author:** Xenel Nazar\n",
    "\n",
    "**Contact Info:** xenel.nazar@gmail.com\n",
    "\n",
    "**Submission Date:** Sept 26, 2022\n",
    "\n",
    "**Notebook:** 4 of 4"
   ]
  },
  {
   "cell_type": "markdown",
   "id": "ad4c9549",
   "metadata": {},
   "source": [
    "Table of Contents:\n",
    "\n",
    "[Introduction](#Introduction) \\\n",
    "[Modeling](#Modeling) \\\n",
    "[X and Y Split](#X-and-Y-Split) \\\n",
    "[Train-Validation-Test Split](#Train-Validation-Test-Split) \\\n",
    "[Scaling](#Scaling)\\\n",
    "[Dimesion Reduction](#Dimension-Reduction) \\\n",
    "[Logistic Regression](#Logistic-Regression) \\\n",
    "[SVM](#SVM) \\\n",
    "[Decision Trees](#Decision-Trees) \\\n",
    "[Random Forest](#Random-Forest) \\\n",
    "[XGBoost](#XGBoost)\\\n",
    "[Model Tuning](#Model-Tuning)\\\n",
    "[Decision Trees Tuned](#Decision-Trees-Tuned) \\\n",
    "[Random Forest Tuned](#Random-Forest-Tuned) \\\n",
    "[XGBoost Tuned](#XGBoost-Tuned) \\\n",
    "[Model Selection & Evaluation](#Model-Selection-&-Evaluation) \\\n",
    "[Next Steps](#Next-Steps)\n",
    "\n",
    "\n"
   ]
  },
  {
   "cell_type": "markdown",
   "id": "c77c7b40",
   "metadata": {},
   "source": [
    "# Introduction"
   ]
  },
  {
   "cell_type": "markdown",
   "id": "0d834875",
   "metadata": {},
   "source": [
    "The following notebook details the steps undertaken to prepare our processed data for modeling. Later in the notebook, we will look at various models and adjust their hyperparameters to optimize their results. We will then evaluate our strongest model to generate predictions."
   ]
  },
  {
   "cell_type": "markdown",
   "id": "19ab4c03",
   "metadata": {},
   "source": [
    "#### Import Libraries"
   ]
  },
  {
   "cell_type": "markdown",
   "id": "d3c81331",
   "metadata": {},
   "source": [
    "We will first import all necessary libaries to help with modeling our data."
   ]
  },
  {
   "cell_type": "code",
   "execution_count": 118,
   "id": "405bd4bc",
   "metadata": {},
   "outputs": [],
   "source": [
    "# import libraries\n",
    "import numpy as np\n",
    "import pandas as pd\n",
    "import matplotlib.pyplot as plt\n",
    "import seaborn as sns\n",
    "from scipy import stats\n",
    "import plotly.express as px\n",
    "import plotly.graph_objects as go\n",
    "# splitting our data into train and test sets\n",
    "from sklearn.model_selection import train_test_split\n",
    "# For Scaling Data\n",
    "from sklearn.preprocessing import StandardScaler\n",
    "# Logistic Regression\n",
    "from sklearn.linear_model import LogisticRegression\n",
    "# PCA\n",
    "from sklearn.decomposition import PCA\n",
    "# XGBoost\n",
    "from xgboost import XGBClassifier\n",
    "# Decision Trees\n",
    "from sklearn.tree import DecisionTreeClassifier\n",
    "# Random Forest\n",
    "from sklearn.ensemble import RandomForestClassifier\n",
    "# SVC\n",
    "from sklearn.svm import LinearSVC\n",
    "# To cross-validate\n",
    "from sklearn.model_selection import cross_val_score\n",
    "# To build a pipeline\n",
    "from sklearn.pipeline import Pipeline\n",
    "# To do a cross-validated grid search\n",
    "from sklearn.model_selection import GridSearchCV\n",
    "# To set up a temporary directory for caching pipeline results\n",
    "from tempfile import mkdtemp\n",
    "# confusion matrix and classification report\n",
    "from sklearn.metrics import confusion_matrix,classification_report\n",
    "import warnings\n",
    "warnings.filterwarnings(\"ignore\")"
   ]
  },
  {
   "cell_type": "markdown",
   "id": "e835e9ea",
   "metadata": {},
   "source": [
    "#### Import Data"
   ]
  },
  {
   "cell_type": "markdown",
   "id": "d2d5f71b",
   "metadata": {},
   "source": [
    "We will now import the csv file that was generated after pre-processing."
   ]
  },
  {
   "cell_type": "code",
   "execution_count": 2,
   "id": "4ce45339",
   "metadata": {},
   "outputs": [],
   "source": [
    "# Read in the data \n",
    "df = pd.read_csv('data/flight_data_processed.csv')"
   ]
  },
  {
   "cell_type": "code",
   "execution_count": 3,
   "id": "8acc126b",
   "metadata": {},
   "outputs": [
    {
     "data": {
      "text/html": [
       "<div>\n",
       "<style scoped>\n",
       "    .dataframe tbody tr th:only-of-type {\n",
       "        vertical-align: middle;\n",
       "    }\n",
       "\n",
       "    .dataframe tbody tr th {\n",
       "        vertical-align: top;\n",
       "    }\n",
       "\n",
       "    .dataframe thead th {\n",
       "        text-align: right;\n",
       "    }\n",
       "</style>\n",
       "<table border=\"1\" class=\"dataframe\">\n",
       "  <thead>\n",
       "    <tr style=\"text-align: right;\">\n",
       "      <th></th>\n",
       "      <th>from_Airport_Lat</th>\n",
       "      <th>from_Airport_Lon</th>\n",
       "      <th>dest_Airport_Lat</th>\n",
       "      <th>dest_Airport_Lon</th>\n",
       "      <th>duration</th>\n",
       "      <th>stops</th>\n",
       "      <th>price</th>\n",
       "      <th>co2_emissions</th>\n",
       "      <th>Distance_km</th>\n",
       "      <th>KM/LBS</th>\n",
       "      <th>...</th>\n",
       "      <th>airline_1_Volaris</th>\n",
       "      <th>airline_1_Vueling</th>\n",
       "      <th>airline_1_WestJet</th>\n",
       "      <th>airline_1_Wideroe</th>\n",
       "      <th>airline_1_Wingo</th>\n",
       "      <th>airline_1_Wizz Air</th>\n",
       "      <th>airline_1_XiamenAir</th>\n",
       "      <th>airline_1_easyJet</th>\n",
       "      <th>airline_1_flydubai</th>\n",
       "      <th>airline_1_jetSMART</th>\n",
       "    </tr>\n",
       "  </thead>\n",
       "  <tbody>\n",
       "    <tr>\n",
       "      <th>0</th>\n",
       "      <td>36.698236</td>\n",
       "      <td>3.208053</td>\n",
       "      <td>-34.557739</td>\n",
       "      <td>-58.416644</td>\n",
       "      <td>1425</td>\n",
       "      <td>3</td>\n",
       "      <td>1279.0</td>\n",
       "      <td>1320.0</td>\n",
       "      <td>10167.91</td>\n",
       "      <td>7.702962</td>\n",
       "      <td>...</td>\n",
       "      <td>0</td>\n",
       "      <td>0</td>\n",
       "      <td>0</td>\n",
       "      <td>0</td>\n",
       "      <td>0</td>\n",
       "      <td>0</td>\n",
       "      <td>0</td>\n",
       "      <td>0</td>\n",
       "      <td>0</td>\n",
       "      <td>0</td>\n",
       "    </tr>\n",
       "    <tr>\n",
       "      <th>1</th>\n",
       "      <td>36.698236</td>\n",
       "      <td>3.208053</td>\n",
       "      <td>-34.557739</td>\n",
       "      <td>-58.416644</td>\n",
       "      <td>1425</td>\n",
       "      <td>3</td>\n",
       "      <td>1279.0</td>\n",
       "      <td>1195.0</td>\n",
       "      <td>10167.91</td>\n",
       "      <td>8.508711</td>\n",
       "      <td>...</td>\n",
       "      <td>0</td>\n",
       "      <td>0</td>\n",
       "      <td>0</td>\n",
       "      <td>0</td>\n",
       "      <td>0</td>\n",
       "      <td>0</td>\n",
       "      <td>0</td>\n",
       "      <td>0</td>\n",
       "      <td>0</td>\n",
       "      <td>0</td>\n",
       "    </tr>\n",
       "    <tr>\n",
       "      <th>2</th>\n",
       "      <td>36.698236</td>\n",
       "      <td>3.208053</td>\n",
       "      <td>-34.557739</td>\n",
       "      <td>-58.416644</td>\n",
       "      <td>1530</td>\n",
       "      <td>3</td>\n",
       "      <td>1284.0</td>\n",
       "      <td>1248.0</td>\n",
       "      <td>10167.91</td>\n",
       "      <td>8.147364</td>\n",
       "      <td>...</td>\n",
       "      <td>0</td>\n",
       "      <td>0</td>\n",
       "      <td>0</td>\n",
       "      <td>0</td>\n",
       "      <td>0</td>\n",
       "      <td>0</td>\n",
       "      <td>0</td>\n",
       "      <td>0</td>\n",
       "      <td>0</td>\n",
       "      <td>0</td>\n",
       "    </tr>\n",
       "    <tr>\n",
       "      <th>3</th>\n",
       "      <td>36.698236</td>\n",
       "      <td>3.208053</td>\n",
       "      <td>-34.557739</td>\n",
       "      <td>-58.416644</td>\n",
       "      <td>1425</td>\n",
       "      <td>3</td>\n",
       "      <td>1290.0</td>\n",
       "      <td>1347.0</td>\n",
       "      <td>10167.91</td>\n",
       "      <td>7.548560</td>\n",
       "      <td>...</td>\n",
       "      <td>0</td>\n",
       "      <td>0</td>\n",
       "      <td>0</td>\n",
       "      <td>0</td>\n",
       "      <td>0</td>\n",
       "      <td>0</td>\n",
       "      <td>0</td>\n",
       "      <td>0</td>\n",
       "      <td>0</td>\n",
       "      <td>0</td>\n",
       "    </tr>\n",
       "    <tr>\n",
       "      <th>4</th>\n",
       "      <td>36.698236</td>\n",
       "      <td>3.208053</td>\n",
       "      <td>-34.557739</td>\n",
       "      <td>-58.416644</td>\n",
       "      <td>1540</td>\n",
       "      <td>2</td>\n",
       "      <td>1347.0</td>\n",
       "      <td>1381.0</td>\n",
       "      <td>10167.91</td>\n",
       "      <td>7.362715</td>\n",
       "      <td>...</td>\n",
       "      <td>0</td>\n",
       "      <td>0</td>\n",
       "      <td>0</td>\n",
       "      <td>0</td>\n",
       "      <td>0</td>\n",
       "      <td>0</td>\n",
       "      <td>0</td>\n",
       "      <td>0</td>\n",
       "      <td>0</td>\n",
       "      <td>0</td>\n",
       "    </tr>\n",
       "  </tbody>\n",
       "</table>\n",
       "<p>5 rows × 388 columns</p>\n",
       "</div>"
      ],
      "text/plain": [
       "   from_Airport_Lat  from_Airport_Lon  dest_Airport_Lat  dest_Airport_Lon  \\\n",
       "0         36.698236          3.208053        -34.557739        -58.416644   \n",
       "1         36.698236          3.208053        -34.557739        -58.416644   \n",
       "2         36.698236          3.208053        -34.557739        -58.416644   \n",
       "3         36.698236          3.208053        -34.557739        -58.416644   \n",
       "4         36.698236          3.208053        -34.557739        -58.416644   \n",
       "\n",
       "   duration  stops   price  co2_emissions  Distance_km    KM/LBS  ...  \\\n",
       "0      1425      3  1279.0         1320.0     10167.91  7.702962  ...   \n",
       "1      1425      3  1279.0         1195.0     10167.91  8.508711  ...   \n",
       "2      1530      3  1284.0         1248.0     10167.91  8.147364  ...   \n",
       "3      1425      3  1290.0         1347.0     10167.91  7.548560  ...   \n",
       "4      1540      2  1347.0         1381.0     10167.91  7.362715  ...   \n",
       "\n",
       "   airline_1_Volaris  airline_1_Vueling  airline_1_WestJet  airline_1_Wideroe  \\\n",
       "0                  0                  0                  0                  0   \n",
       "1                  0                  0                  0                  0   \n",
       "2                  0                  0                  0                  0   \n",
       "3                  0                  0                  0                  0   \n",
       "4                  0                  0                  0                  0   \n",
       "\n",
       "   airline_1_Wingo  airline_1_Wizz Air  airline_1_XiamenAir  \\\n",
       "0                0                   0                    0   \n",
       "1                0                   0                    0   \n",
       "2                0                   0                    0   \n",
       "3                0                   0                    0   \n",
       "4                0                   0                    0   \n",
       "\n",
       "   airline_1_easyJet  airline_1_flydubai  airline_1_jetSMART  \n",
       "0                  0                   0                   0  \n",
       "1                  0                   0                   0  \n",
       "2                  0                   0                   0  \n",
       "3                  0                   0                   0  \n",
       "4                  0                   0                   0  \n",
       "\n",
       "[5 rows x 388 columns]"
      ]
     },
     "execution_count": 3,
     "metadata": {},
     "output_type": "execute_result"
    }
   ],
   "source": [
    "# verify\n",
    "df.head()"
   ]
  },
  {
   "cell_type": "markdown",
   "id": "cd2c1abc",
   "metadata": {},
   "source": [
    "# Modeling"
   ]
  },
  {
   "cell_type": "markdown",
   "id": "787b3197",
   "metadata": {},
   "source": [
    "We will review how our data looks."
   ]
  },
  {
   "cell_type": "code",
   "execution_count": 4,
   "id": "bc33268e",
   "metadata": {},
   "outputs": [
    {
     "name": "stdout",
     "output_type": "stream",
     "text": [
      "Data Shape: (850735, 388)\n",
      "\n",
      "Number of rows: 850735\n",
      "\n",
      "Number of columns: 388\n"
     ]
    }
   ],
   "source": [
    "print('Data Shape:', df.shape)\n",
    "print('\\nNumber of rows:', df.shape[0])\n",
    "print('\\nNumber of columns:', df.shape[1])"
   ]
  },
  {
   "cell_type": "markdown",
   "id": "2ed2076e",
   "metadata": {},
   "source": [
    "The data has 850,735 rows and has 388 columns. We can review further what columns are listed."
   ]
  },
  {
   "cell_type": "code",
   "execution_count": 5,
   "id": "c8a445ea",
   "metadata": {},
   "outputs": [
    {
     "data": {
      "text/plain": [
       "['from_Airport_Lat',\n",
       " 'from_Airport_Lon',\n",
       " 'dest_Airport_Lat',\n",
       " 'dest_Airport_Lon',\n",
       " 'duration',\n",
       " 'stops',\n",
       " 'price',\n",
       " 'co2_emissions',\n",
       " 'Distance_km',\n",
       " 'KM/LBS',\n",
       " 'KM/LBS_Classification',\n",
       " 'from_Airport_City_Addis Ababa',\n",
       " 'from_Airport_City_Algiers',\n",
       " 'from_Airport_City_Athens',\n",
       " 'from_Airport_City_Beijing',\n",
       " 'from_Airport_City_Bogota',\n",
       " 'from_Airport_City_Brussels',\n",
       " 'from_Airport_City_Buenos Aires',\n",
       " 'from_Airport_City_Cairo',\n",
       " 'from_Airport_City_Chengdu',\n",
       " 'from_Airport_City_Confins',\n",
       " 'from_Airport_City_Copenhagen',\n",
       " 'from_Airport_City_Delhi',\n",
       " 'from_Airport_City_Dublin',\n",
       " 'from_Airport_City_Frankfurt',\n",
       " 'from_Airport_City_Guangzhou',\n",
       " 'from_Airport_City_Hangzhou',\n",
       " 'from_Airport_City_Melbourne',\n",
       " 'from_Airport_City_Mumbai',\n",
       " 'from_Airport_City_Munich',\n",
       " 'from_Airport_City_Paris',\n",
       " 'from_Airport_City_Santiago',\n",
       " 'from_Airport_City_Sao Paulo',\n",
       " 'from_Airport_City_Shanghai',\n",
       " 'from_Airport_City_Shenzhen',\n",
       " 'from_Airport_City_Sydney',\n",
       " 'from_Airport_City_Toronto',\n",
       " 'from_Airport_City_Vienna',\n",
       " \"from_Airport_City_Xi'an\",\n",
       " 'from_country_Algeria',\n",
       " 'from_country_Argentina',\n",
       " 'from_country_Australia',\n",
       " 'from_country_Austria',\n",
       " 'from_country_Belgium',\n",
       " 'from_country_Brazil',\n",
       " 'from_country_Canada',\n",
       " 'from_country_Chile',\n",
       " 'from_country_China',\n",
       " 'from_country_Columbia',\n",
       " 'from_country_Denmark',\n",
       " 'from_country_Dublin',\n",
       " 'from_country_Egypt',\n",
       " 'from_country_Ethiopia',\n",
       " 'from_country_France',\n",
       " 'from_country_Germany',\n",
       " 'from_country_Greece',\n",
       " 'from_country_India',\n",
       " 'dest_Airport_City_Addis Ababa',\n",
       " 'dest_Airport_City_Algiers',\n",
       " 'dest_Airport_City_Amsterdam',\n",
       " 'dest_Airport_City_Athens',\n",
       " 'dest_Airport_City_Atlanta',\n",
       " 'dest_Airport_City_Bangalore',\n",
       " 'dest_Airport_City_Bangkok',\n",
       " 'dest_Airport_City_Beijing',\n",
       " 'dest_Airport_City_Bogota',\n",
       " 'dest_Airport_City_Brussels',\n",
       " 'dest_Airport_City_Buenos Aires',\n",
       " 'dest_Airport_City_Cairo',\n",
       " 'dest_Airport_City_Cape Town',\n",
       " 'dest_Airport_City_Casablanca',\n",
       " 'dest_Airport_City_Charlotte',\n",
       " 'dest_Airport_City_Chengdu',\n",
       " 'dest_Airport_City_Chicago',\n",
       " 'dest_Airport_City_Confins',\n",
       " 'dest_Airport_City_Copenhagen',\n",
       " 'dest_Airport_City_Delhi',\n",
       " 'dest_Airport_City_Doha',\n",
       " 'dest_Airport_City_Dubai',\n",
       " 'dest_Airport_City_Dublin',\n",
       " 'dest_Airport_City_Fiumicino',\n",
       " 'dest_Airport_City_Frankfurt',\n",
       " 'dest_Airport_City_Guangzhou',\n",
       " 'dest_Airport_City_Hangzhou',\n",
       " 'dest_Airport_City_Ho Chi Minh City',\n",
       " 'dest_Airport_City_Houston',\n",
       " 'dest_Airport_City_Istanbul',\n",
       " 'dest_Airport_City_Jakarta',\n",
       " 'dest_Airport_City_Johannesburg',\n",
       " 'dest_Airport_City_Kuala Lumpur',\n",
       " 'dest_Airport_City_Lima',\n",
       " 'dest_Airport_City_Lisbon',\n",
       " 'dest_Airport_City_London',\n",
       " 'dest_Airport_City_Los Angeles',\n",
       " 'dest_Airport_City_Madrid',\n",
       " 'dest_Airport_City_Manchester',\n",
       " 'dest_Airport_City_Manila',\n",
       " 'dest_Airport_City_Melbourne',\n",
       " 'dest_Airport_City_Mexico City',\n",
       " 'dest_Airport_City_Miami',\n",
       " 'dest_Airport_City_Milan',\n",
       " 'dest_Airport_City_Moscow',\n",
       " 'dest_Airport_City_Mumbai',\n",
       " 'dest_Airport_City_Munich',\n",
       " 'dest_Airport_City_Nairobi',\n",
       " 'dest_Airport_City_New York',\n",
       " 'dest_Airport_City_Orlando',\n",
       " 'dest_Airport_City_Oslo',\n",
       " 'dest_Airport_City_Panama City',\n",
       " 'dest_Airport_City_Paris',\n",
       " 'dest_Airport_City_Phoenix',\n",
       " 'dest_Airport_City_San Francisco',\n",
       " 'dest_Airport_City_Santiago',\n",
       " 'dest_Airport_City_Sao Paulo',\n",
       " 'dest_Airport_City_Seattle',\n",
       " 'dest_Airport_City_Seoul',\n",
       " 'dest_Airport_City_Shanghai',\n",
       " 'dest_Airport_City_Shenzhen',\n",
       " 'dest_Airport_City_Singapore',\n",
       " 'dest_Airport_City_Stockholm',\n",
       " 'dest_Airport_City_Sydney',\n",
       " 'dest_Airport_City_Taipei',\n",
       " 'dest_Airport_City_Tokyo',\n",
       " 'dest_Airport_City_Toronto',\n",
       " 'dest_Airport_City_Vienna',\n",
       " \"dest_Airport_City_Xi'an\",\n",
       " 'dest_Airport_City_Zurich',\n",
       " 'dest_Airport_City_Algeria',\n",
       " 'dest_Airport_City_Argentina',\n",
       " 'dest_Airport_City_Australia',\n",
       " 'dest_Airport_City_Austria',\n",
       " 'dest_Airport_City_Belgium',\n",
       " 'dest_Airport_City_Brazil',\n",
       " 'dest_Airport_City_Canada',\n",
       " 'dest_Airport_City_Chile',\n",
       " 'dest_Airport_City_China',\n",
       " 'dest_Airport_City_Columbia',\n",
       " 'dest_Airport_City_Denmark',\n",
       " 'dest_Airport_City_Dublin.1',\n",
       " 'dest_Airport_City_Egypt',\n",
       " 'dest_Airport_City_Ethiopia',\n",
       " 'dest_Airport_City_France',\n",
       " 'dest_Airport_City_Germany',\n",
       " 'dest_Airport_City_Greece',\n",
       " 'dest_Airport_City_India',\n",
       " 'dest_Airport_City_Indonesia',\n",
       " 'dest_Airport_City_Italy',\n",
       " 'dest_Airport_City_Japan',\n",
       " 'dest_Airport_City_Kenya',\n",
       " 'dest_Airport_City_Malaysia',\n",
       " 'dest_Airport_City_Mexico',\n",
       " 'dest_Airport_City_Morocco',\n",
       " 'dest_Airport_City_Netherlands',\n",
       " 'dest_Airport_City_Norway',\n",
       " 'dest_Airport_City_Panama',\n",
       " 'dest_Airport_City_Peru',\n",
       " 'dest_Airport_City_Philippines',\n",
       " 'dest_Airport_City_Portugal',\n",
       " 'dest_Airport_City_Qatar',\n",
       " 'dest_Airport_City_Rome',\n",
       " 'dest_Airport_City_Russia',\n",
       " 'dest_Airport_City_Singapore.1',\n",
       " 'dest_Airport_City_South Africa',\n",
       " 'dest_Airport_City_South Korea',\n",
       " 'dest_Airport_City_Spain',\n",
       " 'dest_Airport_City_Sweden',\n",
       " 'dest_Airport_City_Taiwan',\n",
       " 'dest_Airport_City_Thailand',\n",
       " 'dest_Airport_City_Turkey',\n",
       " 'dest_Airport_City_United Arab Emirates',\n",
       " 'dest_Airport_City_United Kingdom',\n",
       " 'dest_Airport_City_United States',\n",
       " 'dest_Airport_City_Vietnam',\n",
       " 'dest_Airport_City_Zurich.1',\n",
       " 'aircraft_type_1_ATR 42',\n",
       " 'aircraft_type_1_ATR 42/72',\n",
       " 'aircraft_type_1_ATR 72',\n",
       " 'aircraft_type_1_Airbus A220 Passenger',\n",
       " 'aircraft_type_1_Airbus A220-100 Passenger',\n",
       " 'aircraft_type_1_Airbus A220-300 Passenger',\n",
       " 'aircraft_type_1_Airbus A318',\n",
       " 'aircraft_type_1_Airbus A319',\n",
       " 'aircraft_type_1_Airbus A319neo',\n",
       " 'aircraft_type_1_Airbus A320',\n",
       " 'aircraft_type_1_Airbus A320neo',\n",
       " 'aircraft_type_1_Airbus A321',\n",
       " 'aircraft_type_1_Airbus A321 (Sharklets)',\n",
       " 'aircraft_type_1_Airbus A321neo',\n",
       " 'aircraft_type_1_Airbus A330',\n",
       " 'aircraft_type_1_Airbus A330-800neo Passenger',\n",
       " 'aircraft_type_1_Airbus A330-900neo',\n",
       " 'aircraft_type_1_Airbus A340',\n",
       " 'aircraft_type_1_Airbus A350',\n",
       " 'aircraft_type_1_Airbus A380',\n",
       " 'aircraft_type_1_Avro RJ',\n",
       " 'aircraft_type_1_Boeing 717',\n",
       " 'aircraft_type_1_Boeing 737',\n",
       " 'aircraft_type_1_Boeing 737MAX 8 Passenger',\n",
       " 'aircraft_type_1_Boeing 737MAX 9 Passenger',\n",
       " 'aircraft_type_1_Boeing 747',\n",
       " 'aircraft_type_1_Boeing 757',\n",
       " 'aircraft_type_1_Boeing 767',\n",
       " 'aircraft_type_1_Boeing 777',\n",
       " 'aircraft_type_1_Boeing 787',\n",
       " 'aircraft_type_1_Boeing 787-10',\n",
       " 'aircraft_type_1_Bombardier Regional Jet 550',\n",
       " 'aircraft_type_1_Canadair RJ 1000',\n",
       " 'aircraft_type_1_Canadair RJ 200',\n",
       " 'aircraft_type_1_Canadair RJ 700',\n",
       " 'aircraft_type_1_Canadair RJ 900',\n",
       " 'aircraft_type_1_Canadair Reg. Jet',\n",
       " 'aircraft_type_1_Comac ARJ21-700',\n",
       " 'aircraft_type_1_De Havilland-Bombardier Dash-8',\n",
       " 'aircraft_type_1_Embraer 170',\n",
       " 'aircraft_type_1_Embraer 175',\n",
       " 'aircraft_type_1_Embraer 190',\n",
       " 'aircraft_type_1_Embraer 195',\n",
       " 'aircraft_type_1_Embraer 195 E2',\n",
       " 'aircraft_type_1_Embraer ERJ-145',\n",
       " 'aircraft_type_1_Embraer RJ-170/190',\n",
       " 'aircraft_type_1_SAAB SF 340',\n",
       " 'airline_1_ANA',\n",
       " 'airline_1_ASL Airlines',\n",
       " 'airline_1_Aegean',\n",
       " 'airline_1_Aer Lingus',\n",
       " 'airline_1_Aerolineas Argentinas',\n",
       " 'airline_1_Aeromexico',\n",
       " 'airline_1_Air Algerie',\n",
       " 'airline_1_Air Arabia',\n",
       " 'airline_1_Air Arabia Maroc',\n",
       " 'airline_1_Air Astana',\n",
       " 'airline_1_Air Austral',\n",
       " 'airline_1_Air Baltic',\n",
       " 'airline_1_Air Canada',\n",
       " 'airline_1_Air China',\n",
       " 'airline_1_Air Dolomiti',\n",
       " 'airline_1_Air Europa',\n",
       " 'airline_1_Air France',\n",
       " 'airline_1_Air India',\n",
       " 'airline_1_Air Macau',\n",
       " 'airline_1_Air Malta',\n",
       " 'airline_1_Air Mauritius',\n",
       " 'airline_1_Air Moldova',\n",
       " 'airline_1_Air New Zealand',\n",
       " 'airline_1_Air Niugini',\n",
       " 'airline_1_Air Serbia',\n",
       " 'airline_1_Air Seychelles',\n",
       " 'airline_1_Air Tahiti Nui',\n",
       " 'airline_1_Air Transat',\n",
       " 'airline_1_Air-India Express',\n",
       " 'airline_1_AirAsia (India)',\n",
       " 'airline_1_AirAsia X',\n",
       " 'airline_1_Aircalin',\n",
       " 'airline_1_American',\n",
       " 'airline_1_Arkia',\n",
       " 'airline_1_Asiana',\n",
       " 'airline_1_Austrian',\n",
       " 'airline_1_Avianca',\n",
       " 'airline_1_Azores Airlines',\n",
       " 'airline_1_Azul',\n",
       " 'airline_1_Bamboo Airways',\n",
       " 'airline_1_Biman',\n",
       " 'airline_1_Blue Air',\n",
       " 'airline_1_BoA',\n",
       " 'airline_1_British Airways',\n",
       " 'airline_1_Brussels Airlines',\n",
       " 'airline_1_Bulgaria Air',\n",
       " 'airline_1_COPA',\n",
       " 'airline_1_CSA',\n",
       " 'airline_1_Cathay Pacific',\n",
       " 'airline_1_Cebu Pacific',\n",
       " 'airline_1_China Airlines',\n",
       " 'airline_1_China Eastern',\n",
       " 'airline_1_China Southern',\n",
       " 'airline_1_Corendon',\n",
       " 'airline_1_Croatia',\n",
       " 'airline_1_Cyprus Airways',\n",
       " 'airline_1_Delta',\n",
       " 'airline_1_EVA Air',\n",
       " 'airline_1_EgyptAir',\n",
       " 'airline_1_El Al',\n",
       " 'airline_1_Emirates',\n",
       " 'airline_1_Ethiopian',\n",
       " 'airline_1_Etihad',\n",
       " 'airline_1_Eurowings',\n",
       " 'airline_1_Eurowings Discover',\n",
       " 'airline_1_Fiji Airways',\n",
       " 'airline_1_Finnair',\n",
       " 'airline_1_Flair Airlines',\n",
       " 'airline_1_Fly One',\n",
       " 'airline_1_Flynas',\n",
       " 'airline_1_Flyr AS',\n",
       " 'airline_1_GO FIRST',\n",
       " 'airline_1_Garuda Indonesia',\n",
       " 'airline_1_Gol',\n",
       " 'airline_1_Gulf Air',\n",
       " 'airline_1_Hainan',\n",
       " 'airline_1_Hawaiian',\n",
       " 'airline_1_Hong Kong Airlines',\n",
       " 'airline_1_ITA',\n",
       " 'airline_1_Iberia',\n",
       " 'airline_1_Iberia Express',\n",
       " 'airline_1_Icelandair',\n",
       " 'airline_1_IndiGo',\n",
       " 'airline_1_JAL',\n",
       " 'airline_1_Jazeera',\n",
       " 'airline_1_Jet2',\n",
       " 'airline_1_JetBlue',\n",
       " 'airline_1_Jetstar',\n",
       " 'airline_1_Juneyao Airlines',\n",
       " 'airline_1_KLM',\n",
       " 'airline_1_Kenya Airways',\n",
       " 'airline_1_Korean Air',\n",
       " 'airline_1_Kuwait Airways',\n",
       " 'airline_1_LATAM',\n",
       " 'airline_1_LOT',\n",
       " 'airline_1_Lanmei Airlines (Cambodia)',\n",
       " 'airline_1_Loganair',\n",
       " 'airline_1_Lufthansa',\n",
       " 'airline_1_Lufthansa CityLine',\n",
       " 'airline_1_Luxair',\n",
       " 'airline_1_MEA',\n",
       " 'airline_1_MIAT',\n",
       " 'airline_1_Malaysia Airlines',\n",
       " 'airline_1_Malindo Air',\n",
       " 'airline_1_Neos',\n",
       " 'airline_1_Nepal Airlines',\n",
       " 'airline_1_Nile Air',\n",
       " 'airline_1_Norwegian',\n",
       " 'airline_1_Oman Air',\n",
       " 'airline_1_Pacific Airways',\n",
       " 'airline_1_Pakistan',\n",
       " 'airline_1_Paranair',\n",
       " 'airline_1_Pegasus',\n",
       " 'airline_1_Philippine Airlines',\n",
       " 'airline_1_Qantas',\n",
       " 'airline_1_Qatar Airways',\n",
       " 'airline_1_Rex',\n",
       " 'airline_1_Royal Air Maroc',\n",
       " 'airline_1_Royal Brunei',\n",
       " 'airline_1_Royal Jordanian',\n",
       " 'airline_1_RwandAir',\n",
       " 'airline_1_Ryanair',\n",
       " 'airline_1_SAS',\n",
       " 'airline_1_SNCF',\n",
       " 'airline_1_SWISS',\n",
       " 'airline_1_Saudia',\n",
       " 'airline_1_Scoot',\n",
       " 'airline_1_Shandong',\n",
       " 'airline_1_Shanghai Airlines',\n",
       " 'airline_1_Shenzhen',\n",
       " 'airline_1_Sichuan Airlines',\n",
       " 'airline_1_Singapore Airlines',\n",
       " 'airline_1_Sky Airline',\n",
       " 'airline_1_Sky Express',\n",
       " 'airline_1_SpiceJet',\n",
       " 'airline_1_Spirit',\n",
       " 'airline_1_SriLankan',\n",
       " 'airline_1_SunExpress',\n",
       " 'airline_1_Swoop',\n",
       " 'airline_1_TAAG',\n",
       " 'airline_1_TAROM',\n",
       " 'airline_1_THAI',\n",
       " 'airline_1_TUI fly',\n",
       " 'airline_1_Tap Air Portugal',\n",
       " 'airline_1_Thai Smile',\n",
       " 'airline_1_Transavia',\n",
       " 'airline_1_Tunisair',\n",
       " 'airline_1_Turkish Airlines',\n",
       " 'airline_1_Uni Airways',\n",
       " 'airline_1_United',\n",
       " 'airline_1_VOEPASS',\n",
       " 'airline_1_VietJet Air',\n",
       " 'airline_1_Virgin Atlantic',\n",
       " 'airline_1_Virgin Australia',\n",
       " 'airline_1_Vistara',\n",
       " 'airline_1_Viva Air',\n",
       " 'airline_1_VivaAerobus',\n",
       " 'airline_1_Volaris',\n",
       " 'airline_1_Vueling',\n",
       " 'airline_1_WestJet',\n",
       " 'airline_1_Wideroe',\n",
       " 'airline_1_Wingo',\n",
       " 'airline_1_Wizz Air',\n",
       " 'airline_1_XiamenAir',\n",
       " 'airline_1_easyJet',\n",
       " 'airline_1_flydubai',\n",
       " 'airline_1_jetSMART']"
      ]
     },
     "execution_count": 5,
     "metadata": {},
     "output_type": "execute_result"
    }
   ],
   "source": [
    "list(df.columns)"
   ]
  },
  {
   "cell_type": "markdown",
   "id": "b314e3eb",
   "metadata": {},
   "source": [
    "We can drop some of the numerical columns that display similar information. We will drop the following columns:\n",
    "- `co2_emissions`\n",
    "- `Distance_km`\n",
    "- `KM/LBS`"
   ]
  },
  {
   "cell_type": "code",
   "execution_count": 6,
   "id": "93526aed",
   "metadata": {},
   "outputs": [],
   "source": [
    "# Drop columns\n",
    "df = df.drop(['co2_emissions','Distance_km','KM/LBS'], axis=1)"
   ]
  },
  {
   "cell_type": "code",
   "execution_count": 7,
   "id": "11f9dc04",
   "metadata": {},
   "outputs": [
    {
     "data": {
      "text/plain": [
       "['from_Airport_Lat',\n",
       " 'from_Airport_Lon',\n",
       " 'dest_Airport_Lat',\n",
       " 'dest_Airport_Lon',\n",
       " 'duration',\n",
       " 'stops',\n",
       " 'price',\n",
       " 'KM/LBS_Classification',\n",
       " 'from_Airport_City_Addis Ababa',\n",
       " 'from_Airport_City_Algiers',\n",
       " 'from_Airport_City_Athens',\n",
       " 'from_Airport_City_Beijing',\n",
       " 'from_Airport_City_Bogota',\n",
       " 'from_Airport_City_Brussels',\n",
       " 'from_Airport_City_Buenos Aires',\n",
       " 'from_Airport_City_Cairo',\n",
       " 'from_Airport_City_Chengdu',\n",
       " 'from_Airport_City_Confins',\n",
       " 'from_Airport_City_Copenhagen',\n",
       " 'from_Airport_City_Delhi',\n",
       " 'from_Airport_City_Dublin',\n",
       " 'from_Airport_City_Frankfurt',\n",
       " 'from_Airport_City_Guangzhou',\n",
       " 'from_Airport_City_Hangzhou',\n",
       " 'from_Airport_City_Melbourne',\n",
       " 'from_Airport_City_Mumbai',\n",
       " 'from_Airport_City_Munich',\n",
       " 'from_Airport_City_Paris',\n",
       " 'from_Airport_City_Santiago',\n",
       " 'from_Airport_City_Sao Paulo',\n",
       " 'from_Airport_City_Shanghai',\n",
       " 'from_Airport_City_Shenzhen',\n",
       " 'from_Airport_City_Sydney',\n",
       " 'from_Airport_City_Toronto',\n",
       " 'from_Airport_City_Vienna',\n",
       " \"from_Airport_City_Xi'an\",\n",
       " 'from_country_Algeria',\n",
       " 'from_country_Argentina',\n",
       " 'from_country_Australia',\n",
       " 'from_country_Austria',\n",
       " 'from_country_Belgium',\n",
       " 'from_country_Brazil',\n",
       " 'from_country_Canada',\n",
       " 'from_country_Chile',\n",
       " 'from_country_China',\n",
       " 'from_country_Columbia',\n",
       " 'from_country_Denmark',\n",
       " 'from_country_Dublin',\n",
       " 'from_country_Egypt',\n",
       " 'from_country_Ethiopia',\n",
       " 'from_country_France',\n",
       " 'from_country_Germany',\n",
       " 'from_country_Greece',\n",
       " 'from_country_India',\n",
       " 'dest_Airport_City_Addis Ababa',\n",
       " 'dest_Airport_City_Algiers',\n",
       " 'dest_Airport_City_Amsterdam',\n",
       " 'dest_Airport_City_Athens',\n",
       " 'dest_Airport_City_Atlanta',\n",
       " 'dest_Airport_City_Bangalore',\n",
       " 'dest_Airport_City_Bangkok',\n",
       " 'dest_Airport_City_Beijing',\n",
       " 'dest_Airport_City_Bogota',\n",
       " 'dest_Airport_City_Brussels',\n",
       " 'dest_Airport_City_Buenos Aires',\n",
       " 'dest_Airport_City_Cairo',\n",
       " 'dest_Airport_City_Cape Town',\n",
       " 'dest_Airport_City_Casablanca',\n",
       " 'dest_Airport_City_Charlotte',\n",
       " 'dest_Airport_City_Chengdu',\n",
       " 'dest_Airport_City_Chicago',\n",
       " 'dest_Airport_City_Confins',\n",
       " 'dest_Airport_City_Copenhagen',\n",
       " 'dest_Airport_City_Delhi',\n",
       " 'dest_Airport_City_Doha',\n",
       " 'dest_Airport_City_Dubai',\n",
       " 'dest_Airport_City_Dublin',\n",
       " 'dest_Airport_City_Fiumicino',\n",
       " 'dest_Airport_City_Frankfurt',\n",
       " 'dest_Airport_City_Guangzhou',\n",
       " 'dest_Airport_City_Hangzhou',\n",
       " 'dest_Airport_City_Ho Chi Minh City',\n",
       " 'dest_Airport_City_Houston',\n",
       " 'dest_Airport_City_Istanbul',\n",
       " 'dest_Airport_City_Jakarta',\n",
       " 'dest_Airport_City_Johannesburg',\n",
       " 'dest_Airport_City_Kuala Lumpur',\n",
       " 'dest_Airport_City_Lima',\n",
       " 'dest_Airport_City_Lisbon',\n",
       " 'dest_Airport_City_London',\n",
       " 'dest_Airport_City_Los Angeles',\n",
       " 'dest_Airport_City_Madrid',\n",
       " 'dest_Airport_City_Manchester',\n",
       " 'dest_Airport_City_Manila',\n",
       " 'dest_Airport_City_Melbourne',\n",
       " 'dest_Airport_City_Mexico City',\n",
       " 'dest_Airport_City_Miami',\n",
       " 'dest_Airport_City_Milan',\n",
       " 'dest_Airport_City_Moscow',\n",
       " 'dest_Airport_City_Mumbai',\n",
       " 'dest_Airport_City_Munich',\n",
       " 'dest_Airport_City_Nairobi',\n",
       " 'dest_Airport_City_New York',\n",
       " 'dest_Airport_City_Orlando',\n",
       " 'dest_Airport_City_Oslo',\n",
       " 'dest_Airport_City_Panama City',\n",
       " 'dest_Airport_City_Paris',\n",
       " 'dest_Airport_City_Phoenix',\n",
       " 'dest_Airport_City_San Francisco',\n",
       " 'dest_Airport_City_Santiago',\n",
       " 'dest_Airport_City_Sao Paulo',\n",
       " 'dest_Airport_City_Seattle',\n",
       " 'dest_Airport_City_Seoul',\n",
       " 'dest_Airport_City_Shanghai',\n",
       " 'dest_Airport_City_Shenzhen',\n",
       " 'dest_Airport_City_Singapore',\n",
       " 'dest_Airport_City_Stockholm',\n",
       " 'dest_Airport_City_Sydney',\n",
       " 'dest_Airport_City_Taipei',\n",
       " 'dest_Airport_City_Tokyo',\n",
       " 'dest_Airport_City_Toronto',\n",
       " 'dest_Airport_City_Vienna',\n",
       " \"dest_Airport_City_Xi'an\",\n",
       " 'dest_Airport_City_Zurich',\n",
       " 'dest_Airport_City_Algeria',\n",
       " 'dest_Airport_City_Argentina',\n",
       " 'dest_Airport_City_Australia',\n",
       " 'dest_Airport_City_Austria',\n",
       " 'dest_Airport_City_Belgium',\n",
       " 'dest_Airport_City_Brazil',\n",
       " 'dest_Airport_City_Canada',\n",
       " 'dest_Airport_City_Chile',\n",
       " 'dest_Airport_City_China',\n",
       " 'dest_Airport_City_Columbia',\n",
       " 'dest_Airport_City_Denmark',\n",
       " 'dest_Airport_City_Dublin.1',\n",
       " 'dest_Airport_City_Egypt',\n",
       " 'dest_Airport_City_Ethiopia',\n",
       " 'dest_Airport_City_France',\n",
       " 'dest_Airport_City_Germany',\n",
       " 'dest_Airport_City_Greece',\n",
       " 'dest_Airport_City_India',\n",
       " 'dest_Airport_City_Indonesia',\n",
       " 'dest_Airport_City_Italy',\n",
       " 'dest_Airport_City_Japan',\n",
       " 'dest_Airport_City_Kenya',\n",
       " 'dest_Airport_City_Malaysia',\n",
       " 'dest_Airport_City_Mexico',\n",
       " 'dest_Airport_City_Morocco',\n",
       " 'dest_Airport_City_Netherlands',\n",
       " 'dest_Airport_City_Norway',\n",
       " 'dest_Airport_City_Panama',\n",
       " 'dest_Airport_City_Peru',\n",
       " 'dest_Airport_City_Philippines',\n",
       " 'dest_Airport_City_Portugal',\n",
       " 'dest_Airport_City_Qatar',\n",
       " 'dest_Airport_City_Rome',\n",
       " 'dest_Airport_City_Russia',\n",
       " 'dest_Airport_City_Singapore.1',\n",
       " 'dest_Airport_City_South Africa',\n",
       " 'dest_Airport_City_South Korea',\n",
       " 'dest_Airport_City_Spain',\n",
       " 'dest_Airport_City_Sweden',\n",
       " 'dest_Airport_City_Taiwan',\n",
       " 'dest_Airport_City_Thailand',\n",
       " 'dest_Airport_City_Turkey',\n",
       " 'dest_Airport_City_United Arab Emirates',\n",
       " 'dest_Airport_City_United Kingdom',\n",
       " 'dest_Airport_City_United States',\n",
       " 'dest_Airport_City_Vietnam',\n",
       " 'dest_Airport_City_Zurich.1',\n",
       " 'aircraft_type_1_ATR 42',\n",
       " 'aircraft_type_1_ATR 42/72',\n",
       " 'aircraft_type_1_ATR 72',\n",
       " 'aircraft_type_1_Airbus A220 Passenger',\n",
       " 'aircraft_type_1_Airbus A220-100 Passenger',\n",
       " 'aircraft_type_1_Airbus A220-300 Passenger',\n",
       " 'aircraft_type_1_Airbus A318',\n",
       " 'aircraft_type_1_Airbus A319',\n",
       " 'aircraft_type_1_Airbus A319neo',\n",
       " 'aircraft_type_1_Airbus A320',\n",
       " 'aircraft_type_1_Airbus A320neo',\n",
       " 'aircraft_type_1_Airbus A321',\n",
       " 'aircraft_type_1_Airbus A321 (Sharklets)',\n",
       " 'aircraft_type_1_Airbus A321neo',\n",
       " 'aircraft_type_1_Airbus A330',\n",
       " 'aircraft_type_1_Airbus A330-800neo Passenger',\n",
       " 'aircraft_type_1_Airbus A330-900neo',\n",
       " 'aircraft_type_1_Airbus A340',\n",
       " 'aircraft_type_1_Airbus A350',\n",
       " 'aircraft_type_1_Airbus A380',\n",
       " 'aircraft_type_1_Avro RJ',\n",
       " 'aircraft_type_1_Boeing 717',\n",
       " 'aircraft_type_1_Boeing 737',\n",
       " 'aircraft_type_1_Boeing 737MAX 8 Passenger',\n",
       " 'aircraft_type_1_Boeing 737MAX 9 Passenger',\n",
       " 'aircraft_type_1_Boeing 747',\n",
       " 'aircraft_type_1_Boeing 757',\n",
       " 'aircraft_type_1_Boeing 767',\n",
       " 'aircraft_type_1_Boeing 777',\n",
       " 'aircraft_type_1_Boeing 787',\n",
       " 'aircraft_type_1_Boeing 787-10',\n",
       " 'aircraft_type_1_Bombardier Regional Jet 550',\n",
       " 'aircraft_type_1_Canadair RJ 1000',\n",
       " 'aircraft_type_1_Canadair RJ 200',\n",
       " 'aircraft_type_1_Canadair RJ 700',\n",
       " 'aircraft_type_1_Canadair RJ 900',\n",
       " 'aircraft_type_1_Canadair Reg. Jet',\n",
       " 'aircraft_type_1_Comac ARJ21-700',\n",
       " 'aircraft_type_1_De Havilland-Bombardier Dash-8',\n",
       " 'aircraft_type_1_Embraer 170',\n",
       " 'aircraft_type_1_Embraer 175',\n",
       " 'aircraft_type_1_Embraer 190',\n",
       " 'aircraft_type_1_Embraer 195',\n",
       " 'aircraft_type_1_Embraer 195 E2',\n",
       " 'aircraft_type_1_Embraer ERJ-145',\n",
       " 'aircraft_type_1_Embraer RJ-170/190',\n",
       " 'aircraft_type_1_SAAB SF 340',\n",
       " 'airline_1_ANA',\n",
       " 'airline_1_ASL Airlines',\n",
       " 'airline_1_Aegean',\n",
       " 'airline_1_Aer Lingus',\n",
       " 'airline_1_Aerolineas Argentinas',\n",
       " 'airline_1_Aeromexico',\n",
       " 'airline_1_Air Algerie',\n",
       " 'airline_1_Air Arabia',\n",
       " 'airline_1_Air Arabia Maroc',\n",
       " 'airline_1_Air Astana',\n",
       " 'airline_1_Air Austral',\n",
       " 'airline_1_Air Baltic',\n",
       " 'airline_1_Air Canada',\n",
       " 'airline_1_Air China',\n",
       " 'airline_1_Air Dolomiti',\n",
       " 'airline_1_Air Europa',\n",
       " 'airline_1_Air France',\n",
       " 'airline_1_Air India',\n",
       " 'airline_1_Air Macau',\n",
       " 'airline_1_Air Malta',\n",
       " 'airline_1_Air Mauritius',\n",
       " 'airline_1_Air Moldova',\n",
       " 'airline_1_Air New Zealand',\n",
       " 'airline_1_Air Niugini',\n",
       " 'airline_1_Air Serbia',\n",
       " 'airline_1_Air Seychelles',\n",
       " 'airline_1_Air Tahiti Nui',\n",
       " 'airline_1_Air Transat',\n",
       " 'airline_1_Air-India Express',\n",
       " 'airline_1_AirAsia (India)',\n",
       " 'airline_1_AirAsia X',\n",
       " 'airline_1_Aircalin',\n",
       " 'airline_1_American',\n",
       " 'airline_1_Arkia',\n",
       " 'airline_1_Asiana',\n",
       " 'airline_1_Austrian',\n",
       " 'airline_1_Avianca',\n",
       " 'airline_1_Azores Airlines',\n",
       " 'airline_1_Azul',\n",
       " 'airline_1_Bamboo Airways',\n",
       " 'airline_1_Biman',\n",
       " 'airline_1_Blue Air',\n",
       " 'airline_1_BoA',\n",
       " 'airline_1_British Airways',\n",
       " 'airline_1_Brussels Airlines',\n",
       " 'airline_1_Bulgaria Air',\n",
       " 'airline_1_COPA',\n",
       " 'airline_1_CSA',\n",
       " 'airline_1_Cathay Pacific',\n",
       " 'airline_1_Cebu Pacific',\n",
       " 'airline_1_China Airlines',\n",
       " 'airline_1_China Eastern',\n",
       " 'airline_1_China Southern',\n",
       " 'airline_1_Corendon',\n",
       " 'airline_1_Croatia',\n",
       " 'airline_1_Cyprus Airways',\n",
       " 'airline_1_Delta',\n",
       " 'airline_1_EVA Air',\n",
       " 'airline_1_EgyptAir',\n",
       " 'airline_1_El Al',\n",
       " 'airline_1_Emirates',\n",
       " 'airline_1_Ethiopian',\n",
       " 'airline_1_Etihad',\n",
       " 'airline_1_Eurowings',\n",
       " 'airline_1_Eurowings Discover',\n",
       " 'airline_1_Fiji Airways',\n",
       " 'airline_1_Finnair',\n",
       " 'airline_1_Flair Airlines',\n",
       " 'airline_1_Fly One',\n",
       " 'airline_1_Flynas',\n",
       " 'airline_1_Flyr AS',\n",
       " 'airline_1_GO FIRST',\n",
       " 'airline_1_Garuda Indonesia',\n",
       " 'airline_1_Gol',\n",
       " 'airline_1_Gulf Air',\n",
       " 'airline_1_Hainan',\n",
       " 'airline_1_Hawaiian',\n",
       " 'airline_1_Hong Kong Airlines',\n",
       " 'airline_1_ITA',\n",
       " 'airline_1_Iberia',\n",
       " 'airline_1_Iberia Express',\n",
       " 'airline_1_Icelandair',\n",
       " 'airline_1_IndiGo',\n",
       " 'airline_1_JAL',\n",
       " 'airline_1_Jazeera',\n",
       " 'airline_1_Jet2',\n",
       " 'airline_1_JetBlue',\n",
       " 'airline_1_Jetstar',\n",
       " 'airline_1_Juneyao Airlines',\n",
       " 'airline_1_KLM',\n",
       " 'airline_1_Kenya Airways',\n",
       " 'airline_1_Korean Air',\n",
       " 'airline_1_Kuwait Airways',\n",
       " 'airline_1_LATAM',\n",
       " 'airline_1_LOT',\n",
       " 'airline_1_Lanmei Airlines (Cambodia)',\n",
       " 'airline_1_Loganair',\n",
       " 'airline_1_Lufthansa',\n",
       " 'airline_1_Lufthansa CityLine',\n",
       " 'airline_1_Luxair',\n",
       " 'airline_1_MEA',\n",
       " 'airline_1_MIAT',\n",
       " 'airline_1_Malaysia Airlines',\n",
       " 'airline_1_Malindo Air',\n",
       " 'airline_1_Neos',\n",
       " 'airline_1_Nepal Airlines',\n",
       " 'airline_1_Nile Air',\n",
       " 'airline_1_Norwegian',\n",
       " 'airline_1_Oman Air',\n",
       " 'airline_1_Pacific Airways',\n",
       " 'airline_1_Pakistan',\n",
       " 'airline_1_Paranair',\n",
       " 'airline_1_Pegasus',\n",
       " 'airline_1_Philippine Airlines',\n",
       " 'airline_1_Qantas',\n",
       " 'airline_1_Qatar Airways',\n",
       " 'airline_1_Rex',\n",
       " 'airline_1_Royal Air Maroc',\n",
       " 'airline_1_Royal Brunei',\n",
       " 'airline_1_Royal Jordanian',\n",
       " 'airline_1_RwandAir',\n",
       " 'airline_1_Ryanair',\n",
       " 'airline_1_SAS',\n",
       " 'airline_1_SNCF',\n",
       " 'airline_1_SWISS',\n",
       " 'airline_1_Saudia',\n",
       " 'airline_1_Scoot',\n",
       " 'airline_1_Shandong',\n",
       " 'airline_1_Shanghai Airlines',\n",
       " 'airline_1_Shenzhen',\n",
       " 'airline_1_Sichuan Airlines',\n",
       " 'airline_1_Singapore Airlines',\n",
       " 'airline_1_Sky Airline',\n",
       " 'airline_1_Sky Express',\n",
       " 'airline_1_SpiceJet',\n",
       " 'airline_1_Spirit',\n",
       " 'airline_1_SriLankan',\n",
       " 'airline_1_SunExpress',\n",
       " 'airline_1_Swoop',\n",
       " 'airline_1_TAAG',\n",
       " 'airline_1_TAROM',\n",
       " 'airline_1_THAI',\n",
       " 'airline_1_TUI fly',\n",
       " 'airline_1_Tap Air Portugal',\n",
       " 'airline_1_Thai Smile',\n",
       " 'airline_1_Transavia',\n",
       " 'airline_1_Tunisair',\n",
       " 'airline_1_Turkish Airlines',\n",
       " 'airline_1_Uni Airways',\n",
       " 'airline_1_United',\n",
       " 'airline_1_VOEPASS',\n",
       " 'airline_1_VietJet Air',\n",
       " 'airline_1_Virgin Atlantic',\n",
       " 'airline_1_Virgin Australia',\n",
       " 'airline_1_Vistara',\n",
       " 'airline_1_Viva Air',\n",
       " 'airline_1_VivaAerobus',\n",
       " 'airline_1_Volaris',\n",
       " 'airline_1_Vueling',\n",
       " 'airline_1_WestJet',\n",
       " 'airline_1_Wideroe',\n",
       " 'airline_1_Wingo',\n",
       " 'airline_1_Wizz Air',\n",
       " 'airline_1_XiamenAir',\n",
       " 'airline_1_easyJet',\n",
       " 'airline_1_flydubai',\n",
       " 'airline_1_jetSMART']"
      ]
     },
     "execution_count": 7,
     "metadata": {},
     "output_type": "execute_result"
    }
   ],
   "source": [
    "# verify\n",
    "list(df.columns)"
   ]
  },
  {
   "cell_type": "markdown",
   "id": "0e516942",
   "metadata": {},
   "source": [
    "We will now review our dataset's shape again."
   ]
  },
  {
   "cell_type": "code",
   "execution_count": 8,
   "id": "ae701d1c",
   "metadata": {},
   "outputs": [
    {
     "name": "stdout",
     "output_type": "stream",
     "text": [
      "Data Shape: (850735, 385)\n",
      "\n",
      "Number of rows: 850735\n",
      "\n",
      "Number of columns: 385\n"
     ]
    }
   ],
   "source": [
    "print('Data Shape:', df.shape)\n",
    "print('\\nNumber of rows:', df.shape[0])\n",
    "print('\\nNumber of columns:', df.shape[1])"
   ]
  },
  {
   "cell_type": "markdown",
   "id": "39c62416",
   "metadata": {},
   "source": [
    "The dataset now has 385 columns and 850,735 rows."
   ]
  },
  {
   "cell_type": "markdown",
   "id": "9e51822d",
   "metadata": {},
   "source": [
    "#### X and Y Split"
   ]
  },
  {
   "cell_type": "markdown",
   "id": "a6f99475",
   "metadata": {},
   "source": [
    "We can now conduct a X and Y split on our data to prepare for modeling. Our target variable will be our efficiency or utilization metric, which is the `KM/LBS_Classification` column."
   ]
  },
  {
   "cell_type": "code",
   "execution_count": 9,
   "id": "5e76cdc2",
   "metadata": {},
   "outputs": [],
   "source": [
    "# x and y split\n",
    "y_col = 'KM/LBS_Classification'\n",
    "y_clean = df[y_col]\n",
    "X_clean = df[df.columns.drop(y_col)]"
   ]
  },
  {
   "cell_type": "code",
   "execution_count": 10,
   "id": "2a057be2",
   "metadata": {},
   "outputs": [
    {
     "data": {
      "text/html": [
       "<div>\n",
       "<style scoped>\n",
       "    .dataframe tbody tr th:only-of-type {\n",
       "        vertical-align: middle;\n",
       "    }\n",
       "\n",
       "    .dataframe tbody tr th {\n",
       "        vertical-align: top;\n",
       "    }\n",
       "\n",
       "    .dataframe thead th {\n",
       "        text-align: right;\n",
       "    }\n",
       "</style>\n",
       "<table border=\"1\" class=\"dataframe\">\n",
       "  <thead>\n",
       "    <tr style=\"text-align: right;\">\n",
       "      <th></th>\n",
       "      <th>from_Airport_Lat</th>\n",
       "      <th>from_Airport_Lon</th>\n",
       "      <th>dest_Airport_Lat</th>\n",
       "      <th>dest_Airport_Lon</th>\n",
       "      <th>duration</th>\n",
       "      <th>stops</th>\n",
       "      <th>price</th>\n",
       "      <th>from_Airport_City_Addis Ababa</th>\n",
       "      <th>from_Airport_City_Algiers</th>\n",
       "      <th>from_Airport_City_Athens</th>\n",
       "      <th>...</th>\n",
       "      <th>airline_1_Volaris</th>\n",
       "      <th>airline_1_Vueling</th>\n",
       "      <th>airline_1_WestJet</th>\n",
       "      <th>airline_1_Wideroe</th>\n",
       "      <th>airline_1_Wingo</th>\n",
       "      <th>airline_1_Wizz Air</th>\n",
       "      <th>airline_1_XiamenAir</th>\n",
       "      <th>airline_1_easyJet</th>\n",
       "      <th>airline_1_flydubai</th>\n",
       "      <th>airline_1_jetSMART</th>\n",
       "    </tr>\n",
       "  </thead>\n",
       "  <tbody>\n",
       "    <tr>\n",
       "      <th>0</th>\n",
       "      <td>36.698236</td>\n",
       "      <td>3.208053</td>\n",
       "      <td>-34.557739</td>\n",
       "      <td>-58.416644</td>\n",
       "      <td>1425</td>\n",
       "      <td>3</td>\n",
       "      <td>1279.0</td>\n",
       "      <td>0</td>\n",
       "      <td>1</td>\n",
       "      <td>0</td>\n",
       "      <td>...</td>\n",
       "      <td>0</td>\n",
       "      <td>0</td>\n",
       "      <td>0</td>\n",
       "      <td>0</td>\n",
       "      <td>0</td>\n",
       "      <td>0</td>\n",
       "      <td>0</td>\n",
       "      <td>0</td>\n",
       "      <td>0</td>\n",
       "      <td>0</td>\n",
       "    </tr>\n",
       "    <tr>\n",
       "      <th>1</th>\n",
       "      <td>36.698236</td>\n",
       "      <td>3.208053</td>\n",
       "      <td>-34.557739</td>\n",
       "      <td>-58.416644</td>\n",
       "      <td>1425</td>\n",
       "      <td>3</td>\n",
       "      <td>1279.0</td>\n",
       "      <td>0</td>\n",
       "      <td>1</td>\n",
       "      <td>0</td>\n",
       "      <td>...</td>\n",
       "      <td>0</td>\n",
       "      <td>0</td>\n",
       "      <td>0</td>\n",
       "      <td>0</td>\n",
       "      <td>0</td>\n",
       "      <td>0</td>\n",
       "      <td>0</td>\n",
       "      <td>0</td>\n",
       "      <td>0</td>\n",
       "      <td>0</td>\n",
       "    </tr>\n",
       "    <tr>\n",
       "      <th>2</th>\n",
       "      <td>36.698236</td>\n",
       "      <td>3.208053</td>\n",
       "      <td>-34.557739</td>\n",
       "      <td>-58.416644</td>\n",
       "      <td>1530</td>\n",
       "      <td>3</td>\n",
       "      <td>1284.0</td>\n",
       "      <td>0</td>\n",
       "      <td>1</td>\n",
       "      <td>0</td>\n",
       "      <td>...</td>\n",
       "      <td>0</td>\n",
       "      <td>0</td>\n",
       "      <td>0</td>\n",
       "      <td>0</td>\n",
       "      <td>0</td>\n",
       "      <td>0</td>\n",
       "      <td>0</td>\n",
       "      <td>0</td>\n",
       "      <td>0</td>\n",
       "      <td>0</td>\n",
       "    </tr>\n",
       "    <tr>\n",
       "      <th>3</th>\n",
       "      <td>36.698236</td>\n",
       "      <td>3.208053</td>\n",
       "      <td>-34.557739</td>\n",
       "      <td>-58.416644</td>\n",
       "      <td>1425</td>\n",
       "      <td>3</td>\n",
       "      <td>1290.0</td>\n",
       "      <td>0</td>\n",
       "      <td>1</td>\n",
       "      <td>0</td>\n",
       "      <td>...</td>\n",
       "      <td>0</td>\n",
       "      <td>0</td>\n",
       "      <td>0</td>\n",
       "      <td>0</td>\n",
       "      <td>0</td>\n",
       "      <td>0</td>\n",
       "      <td>0</td>\n",
       "      <td>0</td>\n",
       "      <td>0</td>\n",
       "      <td>0</td>\n",
       "    </tr>\n",
       "    <tr>\n",
       "      <th>4</th>\n",
       "      <td>36.698236</td>\n",
       "      <td>3.208053</td>\n",
       "      <td>-34.557739</td>\n",
       "      <td>-58.416644</td>\n",
       "      <td>1540</td>\n",
       "      <td>2</td>\n",
       "      <td>1347.0</td>\n",
       "      <td>0</td>\n",
       "      <td>1</td>\n",
       "      <td>0</td>\n",
       "      <td>...</td>\n",
       "      <td>0</td>\n",
       "      <td>0</td>\n",
       "      <td>0</td>\n",
       "      <td>0</td>\n",
       "      <td>0</td>\n",
       "      <td>0</td>\n",
       "      <td>0</td>\n",
       "      <td>0</td>\n",
       "      <td>0</td>\n",
       "      <td>0</td>\n",
       "    </tr>\n",
       "    <tr>\n",
       "      <th>...</th>\n",
       "      <td>...</td>\n",
       "      <td>...</td>\n",
       "      <td>...</td>\n",
       "      <td>...</td>\n",
       "      <td>...</td>\n",
       "      <td>...</td>\n",
       "      <td>...</td>\n",
       "      <td>...</td>\n",
       "      <td>...</td>\n",
       "      <td>...</td>\n",
       "      <td>...</td>\n",
       "      <td>...</td>\n",
       "      <td>...</td>\n",
       "      <td>...</td>\n",
       "      <td>...</td>\n",
       "      <td>...</td>\n",
       "      <td>...</td>\n",
       "      <td>...</td>\n",
       "      <td>...</td>\n",
       "      <td>...</td>\n",
       "      <td>...</td>\n",
       "    </tr>\n",
       "    <tr>\n",
       "      <th>850730</th>\n",
       "      <td>19.093816</td>\n",
       "      <td>72.872382</td>\n",
       "      <td>-33.949812</td>\n",
       "      <td>151.182320</td>\n",
       "      <td>1335</td>\n",
       "      <td>1</td>\n",
       "      <td>1317.0</td>\n",
       "      <td>0</td>\n",
       "      <td>0</td>\n",
       "      <td>0</td>\n",
       "      <td>...</td>\n",
       "      <td>0</td>\n",
       "      <td>0</td>\n",
       "      <td>0</td>\n",
       "      <td>0</td>\n",
       "      <td>0</td>\n",
       "      <td>0</td>\n",
       "      <td>0</td>\n",
       "      <td>0</td>\n",
       "      <td>0</td>\n",
       "      <td>0</td>\n",
       "    </tr>\n",
       "    <tr>\n",
       "      <th>850731</th>\n",
       "      <td>19.093816</td>\n",
       "      <td>72.872382</td>\n",
       "      <td>-33.949812</td>\n",
       "      <td>151.182320</td>\n",
       "      <td>1155</td>\n",
       "      <td>1</td>\n",
       "      <td>1317.0</td>\n",
       "      <td>0</td>\n",
       "      <td>0</td>\n",
       "      <td>0</td>\n",
       "      <td>...</td>\n",
       "      <td>0</td>\n",
       "      <td>0</td>\n",
       "      <td>0</td>\n",
       "      <td>0</td>\n",
       "      <td>0</td>\n",
       "      <td>0</td>\n",
       "      <td>0</td>\n",
       "      <td>0</td>\n",
       "      <td>0</td>\n",
       "      <td>0</td>\n",
       "    </tr>\n",
       "    <tr>\n",
       "      <th>850732</th>\n",
       "      <td>19.093816</td>\n",
       "      <td>72.872382</td>\n",
       "      <td>-33.949812</td>\n",
       "      <td>151.182320</td>\n",
       "      <td>1490</td>\n",
       "      <td>2</td>\n",
       "      <td>1328.0</td>\n",
       "      <td>0</td>\n",
       "      <td>0</td>\n",
       "      <td>0</td>\n",
       "      <td>...</td>\n",
       "      <td>0</td>\n",
       "      <td>0</td>\n",
       "      <td>0</td>\n",
       "      <td>0</td>\n",
       "      <td>0</td>\n",
       "      <td>0</td>\n",
       "      <td>0</td>\n",
       "      <td>0</td>\n",
       "      <td>0</td>\n",
       "      <td>0</td>\n",
       "    </tr>\n",
       "    <tr>\n",
       "      <th>850733</th>\n",
       "      <td>19.093816</td>\n",
       "      <td>72.872382</td>\n",
       "      <td>-33.949812</td>\n",
       "      <td>151.182320</td>\n",
       "      <td>1695</td>\n",
       "      <td>2</td>\n",
       "      <td>1368.0</td>\n",
       "      <td>0</td>\n",
       "      <td>0</td>\n",
       "      <td>0</td>\n",
       "      <td>...</td>\n",
       "      <td>0</td>\n",
       "      <td>0</td>\n",
       "      <td>0</td>\n",
       "      <td>0</td>\n",
       "      <td>0</td>\n",
       "      <td>0</td>\n",
       "      <td>0</td>\n",
       "      <td>0</td>\n",
       "      <td>0</td>\n",
       "      <td>0</td>\n",
       "    </tr>\n",
       "    <tr>\n",
       "      <th>850734</th>\n",
       "      <td>19.093816</td>\n",
       "      <td>72.872382</td>\n",
       "      <td>-33.949812</td>\n",
       "      <td>151.182320</td>\n",
       "      <td>1495</td>\n",
       "      <td>2</td>\n",
       "      <td>1368.0</td>\n",
       "      <td>0</td>\n",
       "      <td>0</td>\n",
       "      <td>0</td>\n",
       "      <td>...</td>\n",
       "      <td>0</td>\n",
       "      <td>0</td>\n",
       "      <td>0</td>\n",
       "      <td>0</td>\n",
       "      <td>0</td>\n",
       "      <td>0</td>\n",
       "      <td>0</td>\n",
       "      <td>0</td>\n",
       "      <td>0</td>\n",
       "      <td>0</td>\n",
       "    </tr>\n",
       "  </tbody>\n",
       "</table>\n",
       "<p>850735 rows × 384 columns</p>\n",
       "</div>"
      ],
      "text/plain": [
       "        from_Airport_Lat  from_Airport_Lon  dest_Airport_Lat  \\\n",
       "0              36.698236          3.208053        -34.557739   \n",
       "1              36.698236          3.208053        -34.557739   \n",
       "2              36.698236          3.208053        -34.557739   \n",
       "3              36.698236          3.208053        -34.557739   \n",
       "4              36.698236          3.208053        -34.557739   \n",
       "...                  ...               ...               ...   \n",
       "850730         19.093816         72.872382        -33.949812   \n",
       "850731         19.093816         72.872382        -33.949812   \n",
       "850732         19.093816         72.872382        -33.949812   \n",
       "850733         19.093816         72.872382        -33.949812   \n",
       "850734         19.093816         72.872382        -33.949812   \n",
       "\n",
       "        dest_Airport_Lon  duration  stops   price  \\\n",
       "0             -58.416644      1425      3  1279.0   \n",
       "1             -58.416644      1425      3  1279.0   \n",
       "2             -58.416644      1530      3  1284.0   \n",
       "3             -58.416644      1425      3  1290.0   \n",
       "4             -58.416644      1540      2  1347.0   \n",
       "...                  ...       ...    ...     ...   \n",
       "850730        151.182320      1335      1  1317.0   \n",
       "850731        151.182320      1155      1  1317.0   \n",
       "850732        151.182320      1490      2  1328.0   \n",
       "850733        151.182320      1695      2  1368.0   \n",
       "850734        151.182320      1495      2  1368.0   \n",
       "\n",
       "        from_Airport_City_Addis Ababa  from_Airport_City_Algiers  \\\n",
       "0                                   0                          1   \n",
       "1                                   0                          1   \n",
       "2                                   0                          1   \n",
       "3                                   0                          1   \n",
       "4                                   0                          1   \n",
       "...                               ...                        ...   \n",
       "850730                              0                          0   \n",
       "850731                              0                          0   \n",
       "850732                              0                          0   \n",
       "850733                              0                          0   \n",
       "850734                              0                          0   \n",
       "\n",
       "        from_Airport_City_Athens  ...  airline_1_Volaris  airline_1_Vueling  \\\n",
       "0                              0  ...                  0                  0   \n",
       "1                              0  ...                  0                  0   \n",
       "2                              0  ...                  0                  0   \n",
       "3                              0  ...                  0                  0   \n",
       "4                              0  ...                  0                  0   \n",
       "...                          ...  ...                ...                ...   \n",
       "850730                         0  ...                  0                  0   \n",
       "850731                         0  ...                  0                  0   \n",
       "850732                         0  ...                  0                  0   \n",
       "850733                         0  ...                  0                  0   \n",
       "850734                         0  ...                  0                  0   \n",
       "\n",
       "        airline_1_WestJet  airline_1_Wideroe  airline_1_Wingo  \\\n",
       "0                       0                  0                0   \n",
       "1                       0                  0                0   \n",
       "2                       0                  0                0   \n",
       "3                       0                  0                0   \n",
       "4                       0                  0                0   \n",
       "...                   ...                ...              ...   \n",
       "850730                  0                  0                0   \n",
       "850731                  0                  0                0   \n",
       "850732                  0                  0                0   \n",
       "850733                  0                  0                0   \n",
       "850734                  0                  0                0   \n",
       "\n",
       "        airline_1_Wizz Air  airline_1_XiamenAir  airline_1_easyJet  \\\n",
       "0                        0                    0                  0   \n",
       "1                        0                    0                  0   \n",
       "2                        0                    0                  0   \n",
       "3                        0                    0                  0   \n",
       "4                        0                    0                  0   \n",
       "...                    ...                  ...                ...   \n",
       "850730                   0                    0                  0   \n",
       "850731                   0                    0                  0   \n",
       "850732                   0                    0                  0   \n",
       "850733                   0                    0                  0   \n",
       "850734                   0                    0                  0   \n",
       "\n",
       "        airline_1_flydubai  airline_1_jetSMART  \n",
       "0                        0                   0  \n",
       "1                        0                   0  \n",
       "2                        0                   0  \n",
       "3                        0                   0  \n",
       "4                        0                   0  \n",
       "...                    ...                 ...  \n",
       "850730                   0                   0  \n",
       "850731                   0                   0  \n",
       "850732                   0                   0  \n",
       "850733                   0                   0  \n",
       "850734                   0                   0  \n",
       "\n",
       "[850735 rows x 384 columns]"
      ]
     },
     "execution_count": 10,
     "metadata": {},
     "output_type": "execute_result"
    }
   ],
   "source": [
    "# verify\n",
    "X_clean"
   ]
  },
  {
   "cell_type": "code",
   "execution_count": 11,
   "id": "e6b7b27d",
   "metadata": {},
   "outputs": [
    {
     "data": {
      "text/plain": [
       "0         1\n",
       "1         1\n",
       "2         1\n",
       "3         1\n",
       "4         1\n",
       "         ..\n",
       "850730    1\n",
       "850731    1\n",
       "850732    1\n",
       "850733    1\n",
       "850734    1\n",
       "Name: KM/LBS_Classification, Length: 850735, dtype: int64"
      ]
     },
     "execution_count": 11,
     "metadata": {},
     "output_type": "execute_result"
    }
   ],
   "source": [
    "# verify\n",
    "y_clean"
   ]
  },
  {
   "cell_type": "markdown",
   "id": "04ffe4c6",
   "metadata": {},
   "source": [
    "#### Train-Validation-Test Split"
   ]
  },
  {
   "cell_type": "markdown",
   "id": "2e734c48",
   "metadata": {},
   "source": [
    "We will now split the data into train, validation, and test data. \n",
    "\n",
    "To gauge our splits, we will first look at the proportion of our Target variable. "
   ]
  },
  {
   "cell_type": "code",
   "execution_count": 12,
   "id": "81084bd3",
   "metadata": {},
   "outputs": [
    {
     "data": {
      "text/plain": [
       "1    86.089793\n",
       "0    13.910207\n",
       "Name: KM/LBS_Classification, dtype: float64"
      ]
     },
     "execution_count": 12,
     "metadata": {},
     "output_type": "execute_result"
    }
   ],
   "source": [
    "# Check target variable proportions\n",
    "y_clean.value_counts()/len(y_clean)*100"
   ]
  },
  {
   "cell_type": "markdown",
   "id": "0cfd34ea",
   "metadata": {},
   "source": [
    "We can see that we have an imbalanced dataset, we may look to have a higher test size split for modeling. Other options we can try later include over or undersampling of the data. We can try using SMOTE later to assist with Oversampling. \n",
    "\n",
    "For simplicity we can do a 70/30 remainder-test split."
   ]
  },
  {
   "cell_type": "code",
   "execution_count": 13,
   "id": "59e769cd",
   "metadata": {},
   "outputs": [],
   "source": [
    "# Split into train and test\n",
    "X_remainder, X_test, y_remainder, y_test = train_test_split(X_clean, y_clean, \n",
    "                                                                      test_size = 0.30, \n",
    "                                                                      stratify=y_clean,\n",
    "                                                                      random_state=1)"
   ]
  },
  {
   "cell_type": "code",
   "execution_count": 14,
   "id": "254d28ab",
   "metadata": {},
   "outputs": [
    {
     "name": "stdout",
     "output_type": "stream",
     "text": [
      "Remainder # of Rows: 595514\n",
      "\n",
      "Test Data # of rows: 255221\n"
     ]
    }
   ],
   "source": [
    "# Verify # of rows in train and test data\n",
    "print('Remainder # of Rows:', X_remainder.shape[0])\n",
    "print('\\nTest Data # of rows:', X_test.shape[0])"
   ]
  },
  {
   "cell_type": "markdown",
   "id": "b47d0e93",
   "metadata": {},
   "source": [
    "The remainder data has 595,514 rows and the test data has 255,221 rows."
   ]
  },
  {
   "cell_type": "code",
   "execution_count": 15,
   "id": "77ed3a8b",
   "metadata": {},
   "outputs": [
    {
     "name": "stdout",
     "output_type": "stream",
     "text": [
      "---REMAINDER---\n"
     ]
    },
    {
     "data": {
      "text/plain": [
       "1    0.860898\n",
       "0    0.139102\n",
       "Name: KM/LBS_Classification, dtype: float64"
      ]
     },
     "execution_count": 15,
     "metadata": {},
     "output_type": "execute_result"
    }
   ],
   "source": [
    "# Check test rating proportions\n",
    "print('---REMAINDER---')\n",
    "y_remainder.value_counts()/len(y_remainder)"
   ]
  },
  {
   "cell_type": "code",
   "execution_count": 16,
   "id": "bfba30c0",
   "metadata": {},
   "outputs": [
    {
     "name": "stdout",
     "output_type": "stream",
     "text": [
      "---TEST---\n"
     ]
    },
    {
     "data": {
      "text/plain": [
       "1    0.860897\n",
       "0    0.139103\n",
       "Name: KM/LBS_Classification, dtype: float64"
      ]
     },
     "execution_count": 16,
     "metadata": {},
     "output_type": "execute_result"
    }
   ],
   "source": [
    "# Check test rating proportions\n",
    "print('---TEST---')\n",
    "y_test.value_counts()/len(y_test)"
   ]
  },
  {
   "cell_type": "markdown",
   "id": "4a35e117",
   "metadata": {},
   "source": [
    "We can now split the remainder data into train and validation datasets. We will do a 60/40 split, to have the validation set almost equal to the test set in size."
   ]
  },
  {
   "cell_type": "code",
   "execution_count": 17,
   "id": "c4334818",
   "metadata": {},
   "outputs": [],
   "source": [
    "# Split into train and validation\n",
    "X_train, X_validation, y_train, y_validation = train_test_split(X_remainder, \n",
    "                                                                      y_remainder, \n",
    "                                                                      test_size = 0.40, \n",
    "                                                                      stratify=y_remainder,\n",
    "                                                                      random_state=1)"
   ]
  },
  {
   "cell_type": "code",
   "execution_count": 18,
   "id": "3562c9aa",
   "metadata": {},
   "outputs": [
    {
     "name": "stdout",
     "output_type": "stream",
     "text": [
      "Train Data # of Rows: 357308\n",
      "Train Data equates to 42 % of our data\n",
      "Validation Data # of Rows: 238206\n",
      "Validation Data equates to 28 % of our data\n",
      "Test Data # of rows: 255221\n",
      "Test Data equates to 30 % of our data\n"
     ]
    }
   ],
   "source": [
    "# Verify # of rows in train, validation, and test data\n",
    "i = X_train.shape[0]\n",
    "j = X_validation.shape[0]\n",
    "k = X_test.shape[0]\n",
    "n = i+j+k\n",
    "\n",
    "print('Train Data # of Rows:', i)\n",
    "print('Train Data equates to', round((i/n)*100),'% of our data')\n",
    "print('Validation Data # of Rows:', j)\n",
    "print('Validation Data equates to', round((j/n)*100),'% of our data')\n",
    "print('Test Data # of rows:', k)\n",
    "print('Test Data equates to', round((k/n)*100),'% of our data')"
   ]
  },
  {
   "cell_type": "markdown",
   "id": "60e9efd9",
   "metadata": {},
   "source": [
    "After our train, validation, and test split. We have the following:\n",
    "- Train Data has 357,308 rows which equates to **42%** of our data\n",
    "- Validation Data has 238,206 rows which equates to **28%** of our data\n",
    "- Test Data has 255,221 rows which equates to **30%** of our data"
   ]
  },
  {
   "cell_type": "code",
   "execution_count": 19,
   "id": "c4206c7f",
   "metadata": {},
   "outputs": [
    {
     "name": "stdout",
     "output_type": "stream",
     "text": [
      "---TRAIN---\n"
     ]
    },
    {
     "data": {
      "text/plain": [
       "1    0.860899\n",
       "0    0.139101\n",
       "Name: KM/LBS_Classification, dtype: float64"
      ]
     },
     "execution_count": 19,
     "metadata": {},
     "output_type": "execute_result"
    }
   ],
   "source": [
    "# Check TRAIN rating proportions\n",
    "print('---TRAIN---')\n",
    "y_train.value_counts()/len(y_train)"
   ]
  },
  {
   "cell_type": "code",
   "execution_count": 20,
   "id": "d5e762a2",
   "metadata": {},
   "outputs": [
    {
     "name": "stdout",
     "output_type": "stream",
     "text": [
      "---VALIDATION---\n"
     ]
    },
    {
     "data": {
      "text/plain": [
       "1    0.860898\n",
       "0    0.139102\n",
       "Name: KM/LBS_Classification, dtype: float64"
      ]
     },
     "execution_count": 20,
     "metadata": {},
     "output_type": "execute_result"
    }
   ],
   "source": [
    "# Check VALIDATION rating proportions\n",
    "print('---VALIDATION---')\n",
    "y_validation.value_counts()/len(y_validation)"
   ]
  },
  {
   "cell_type": "code",
   "execution_count": 21,
   "id": "6b8991aa",
   "metadata": {},
   "outputs": [
    {
     "name": "stdout",
     "output_type": "stream",
     "text": [
      "---TEST---\n"
     ]
    },
    {
     "data": {
      "text/plain": [
       "1    0.860897\n",
       "0    0.139103\n",
       "Name: KM/LBS_Classification, dtype: float64"
      ]
     },
     "execution_count": 21,
     "metadata": {},
     "output_type": "execute_result"
    }
   ],
   "source": [
    "# Check TEST rating proportions\n",
    "print('---TEST---')\n",
    "y_test.value_counts()/len(y_test)"
   ]
  },
  {
   "cell_type": "markdown",
   "id": "11f834f1",
   "metadata": {},
   "source": [
    "We can now look to scaling our data, as the values in our data have a widespread, as shown below where we review how our values are spread."
   ]
  },
  {
   "cell_type": "code",
   "execution_count": 22,
   "id": "202a21aa",
   "metadata": {},
   "outputs": [
    {
     "data": {
      "text/html": [
       "<div>\n",
       "<style scoped>\n",
       "    .dataframe tbody tr th:only-of-type {\n",
       "        vertical-align: middle;\n",
       "    }\n",
       "\n",
       "    .dataframe tbody tr th {\n",
       "        vertical-align: top;\n",
       "    }\n",
       "\n",
       "    .dataframe thead th {\n",
       "        text-align: right;\n",
       "    }\n",
       "</style>\n",
       "<table border=\"1\" class=\"dataframe\">\n",
       "  <thead>\n",
       "    <tr style=\"text-align: right;\">\n",
       "      <th></th>\n",
       "      <th>count</th>\n",
       "      <th>mean</th>\n",
       "      <th>std</th>\n",
       "      <th>min</th>\n",
       "      <th>25%</th>\n",
       "      <th>50%</th>\n",
       "      <th>75%</th>\n",
       "      <th>max</th>\n",
       "    </tr>\n",
       "  </thead>\n",
       "  <tbody>\n",
       "    <tr>\n",
       "      <th>from_Airport_Lat</th>\n",
       "      <td>850735.0</td>\n",
       "      <td>23.933925</td>\n",
       "      <td>32.100336</td>\n",
       "      <td>-34.557739</td>\n",
       "      <td>4.734304</td>\n",
       "      <td>37.935742</td>\n",
       "      <td>49.008840</td>\n",
       "      <td>55.617758</td>\n",
       "    </tr>\n",
       "    <tr>\n",
       "      <th>from_Airport_Lon</th>\n",
       "      <td>850735.0</td>\n",
       "      <td>19.258635</td>\n",
       "      <td>66.657675</td>\n",
       "      <td>-79.624369</td>\n",
       "      <td>-6.248561</td>\n",
       "      <td>11.776875</td>\n",
       "      <td>38.783292</td>\n",
       "      <td>151.699213</td>\n",
       "    </tr>\n",
       "    <tr>\n",
       "      <th>dest_Airport_Lat</th>\n",
       "      <td>850735.0</td>\n",
       "      <td>27.961962</td>\n",
       "      <td>25.536341</td>\n",
       "      <td>-34.557739</td>\n",
       "      <td>19.093816</td>\n",
       "      <td>35.549480</td>\n",
       "      <td>47.461463</td>\n",
       "      <td>60.198000</td>\n",
       "    </tr>\n",
       "    <tr>\n",
       "      <th>dest_Airport_Lon</th>\n",
       "      <td>850735.0</td>\n",
       "      <td>-2.292254</td>\n",
       "      <td>75.065561</td>\n",
       "      <td>-122.398509</td>\n",
       "      <td>-79.390167</td>\n",
       "      <td>4.487104</td>\n",
       "      <td>31.402942</td>\n",
       "      <td>151.699213</td>\n",
       "    </tr>\n",
       "    <tr>\n",
       "      <th>duration</th>\n",
       "      <td>850735.0</td>\n",
       "      <td>1413.237392</td>\n",
       "      <td>665.745796</td>\n",
       "      <td>55.000000</td>\n",
       "      <td>946.000000</td>\n",
       "      <td>1360.000000</td>\n",
       "      <td>1810.000000</td>\n",
       "      <td>6095.000000</td>\n",
       "    </tr>\n",
       "    <tr>\n",
       "      <th>...</th>\n",
       "      <td>...</td>\n",
       "      <td>...</td>\n",
       "      <td>...</td>\n",
       "      <td>...</td>\n",
       "      <td>...</td>\n",
       "      <td>...</td>\n",
       "      <td>...</td>\n",
       "      <td>...</td>\n",
       "    </tr>\n",
       "    <tr>\n",
       "      <th>airline_1_Wizz Air</th>\n",
       "      <td>850735.0</td>\n",
       "      <td>0.000036</td>\n",
       "      <td>0.006036</td>\n",
       "      <td>0.000000</td>\n",
       "      <td>0.000000</td>\n",
       "      <td>0.000000</td>\n",
       "      <td>0.000000</td>\n",
       "      <td>1.000000</td>\n",
       "    </tr>\n",
       "    <tr>\n",
       "      <th>airline_1_XiamenAir</th>\n",
       "      <td>850735.0</td>\n",
       "      <td>0.002729</td>\n",
       "      <td>0.052172</td>\n",
       "      <td>0.000000</td>\n",
       "      <td>0.000000</td>\n",
       "      <td>0.000000</td>\n",
       "      <td>0.000000</td>\n",
       "      <td>1.000000</td>\n",
       "    </tr>\n",
       "    <tr>\n",
       "      <th>airline_1_easyJet</th>\n",
       "      <td>850735.0</td>\n",
       "      <td>0.000299</td>\n",
       "      <td>0.017276</td>\n",
       "      <td>0.000000</td>\n",
       "      <td>0.000000</td>\n",
       "      <td>0.000000</td>\n",
       "      <td>0.000000</td>\n",
       "      <td>1.000000</td>\n",
       "    </tr>\n",
       "    <tr>\n",
       "      <th>airline_1_flydubai</th>\n",
       "      <td>850735.0</td>\n",
       "      <td>0.000279</td>\n",
       "      <td>0.016688</td>\n",
       "      <td>0.000000</td>\n",
       "      <td>0.000000</td>\n",
       "      <td>0.000000</td>\n",
       "      <td>0.000000</td>\n",
       "      <td>1.000000</td>\n",
       "    </tr>\n",
       "    <tr>\n",
       "      <th>airline_1_jetSMART</th>\n",
       "      <td>850735.0</td>\n",
       "      <td>0.000031</td>\n",
       "      <td>0.005528</td>\n",
       "      <td>0.000000</td>\n",
       "      <td>0.000000</td>\n",
       "      <td>0.000000</td>\n",
       "      <td>0.000000</td>\n",
       "      <td>1.000000</td>\n",
       "    </tr>\n",
       "  </tbody>\n",
       "</table>\n",
       "<p>385 rows × 8 columns</p>\n",
       "</div>"
      ],
      "text/plain": [
       "                        count         mean         std         min  \\\n",
       "from_Airport_Lat     850735.0    23.933925   32.100336  -34.557739   \n",
       "from_Airport_Lon     850735.0    19.258635   66.657675  -79.624369   \n",
       "dest_Airport_Lat     850735.0    27.961962   25.536341  -34.557739   \n",
       "dest_Airport_Lon     850735.0    -2.292254   75.065561 -122.398509   \n",
       "duration             850735.0  1413.237392  665.745796   55.000000   \n",
       "...                       ...          ...         ...         ...   \n",
       "airline_1_Wizz Air   850735.0     0.000036    0.006036    0.000000   \n",
       "airline_1_XiamenAir  850735.0     0.002729    0.052172    0.000000   \n",
       "airline_1_easyJet    850735.0     0.000299    0.017276    0.000000   \n",
       "airline_1_flydubai   850735.0     0.000279    0.016688    0.000000   \n",
       "airline_1_jetSMART   850735.0     0.000031    0.005528    0.000000   \n",
       "\n",
       "                            25%          50%          75%          max  \n",
       "from_Airport_Lat       4.734304    37.935742    49.008840    55.617758  \n",
       "from_Airport_Lon      -6.248561    11.776875    38.783292   151.699213  \n",
       "dest_Airport_Lat      19.093816    35.549480    47.461463    60.198000  \n",
       "dest_Airport_Lon     -79.390167     4.487104    31.402942   151.699213  \n",
       "duration             946.000000  1360.000000  1810.000000  6095.000000  \n",
       "...                         ...          ...          ...          ...  \n",
       "airline_1_Wizz Air     0.000000     0.000000     0.000000     1.000000  \n",
       "airline_1_XiamenAir    0.000000     0.000000     0.000000     1.000000  \n",
       "airline_1_easyJet      0.000000     0.000000     0.000000     1.000000  \n",
       "airline_1_flydubai     0.000000     0.000000     0.000000     1.000000  \n",
       "airline_1_jetSMART     0.000000     0.000000     0.000000     1.000000  \n",
       "\n",
       "[385 rows x 8 columns]"
      ]
     },
     "execution_count": 22,
     "metadata": {},
     "output_type": "execute_result"
    }
   ],
   "source": [
    "# overview of our data's values\n",
    "df.describe().T"
   ]
  },
  {
   "cell_type": "markdown",
   "id": "8877fead",
   "metadata": {},
   "source": [
    "#### Scaling"
   ]
  },
  {
   "cell_type": "markdown",
   "id": "559b33b9",
   "metadata": {},
   "source": [
    "For the purpose of this capstone project, we will use a Standard Scaler, as it is typically the default we use when scaling data, and should help with our various spread of numerical values."
   ]
  },
  {
   "cell_type": "code",
   "execution_count": 23,
   "id": "2a30fdce",
   "metadata": {},
   "outputs": [],
   "source": [
    "# Instantiate\n",
    "scaler = StandardScaler()\n",
    "\n",
    "# Fit\n",
    "scaler.fit(X_train)\n",
    "\n",
    "# Transform on train and test\n",
    "X_scaled_train = scaler.transform(X_train)\n",
    "X_scaled_validation = scaler.transform(X_validation)\n",
    "X_scaled_test = scaler.transform(X_test) "
   ]
  },
  {
   "cell_type": "markdown",
   "id": "63c701f1",
   "metadata": {},
   "source": [
    "#### Dimension Reduction"
   ]
  },
  {
   "cell_type": "markdown",
   "id": "c6ca1ba5",
   "metadata": {},
   "source": [
    "We can also look at possible dimension reduction in our data, as we have a number of independent variables listed in our dataset. This will likely lead to difficulties in interpreting our data as we aren't fittting it to the original features, but to the principal components."
   ]
  },
  {
   "cell_type": "markdown",
   "id": "6e6e8161",
   "metadata": {},
   "source": [
    "We will assume a threshold of 90% for the explained variance."
   ]
  },
  {
   "cell_type": "code",
   "execution_count": 24,
   "id": "f7a1e330",
   "metadata": {},
   "outputs": [],
   "source": [
    "# Instantiate\n",
    "my_PCA = PCA(n_components = 0.9)\n",
    "\n",
    "# Fit\n",
    "my_PCA.fit(X_scaled_train)\n",
    "\n",
    "# Transform data \n",
    "X_train_PCA = my_PCA.transform(X_scaled_train)\n",
    "X_validation_PCA = my_PCA.transform(X_scaled_validation)\n",
    "X_test_PCA = my_PCA.transform(X_scaled_test)"
   ]
  },
  {
   "cell_type": "code",
   "execution_count": 25,
   "id": "85d02332",
   "metadata": {},
   "outputs": [
    {
     "name": "stdout",
     "output_type": "stream",
     "text": [
      "For 90% variance theshold, we need 242 components\n"
     ]
    }
   ],
   "source": [
    "print(f'For 90% variance theshold, we need {X_train_PCA.shape[1]} components')"
   ]
  },
  {
   "cell_type": "markdown",
   "id": "4f46f4dd",
   "metadata": {},
   "source": [
    "To meet our 90% threshold, we need 242 components."
   ]
  },
  {
   "cell_type": "markdown",
   "id": "a7b58c56",
   "metadata": {},
   "source": [
    "#### Logistic Regression"
   ]
  },
  {
   "cell_type": "markdown",
   "id": "63b9e359",
   "metadata": {},
   "source": [
    "We will first look at running a Logistic Regression model on the scaled data. "
   ]
  },
  {
   "cell_type": "code",
   "execution_count": 26,
   "id": "e0706c47",
   "metadata": {},
   "outputs": [
    {
     "name": "stdout",
     "output_type": "stream",
     "text": [
      "Train Score: 0.8847884738097104\n",
      "Validation Score: 0.884117108721023\n"
     ]
    }
   ],
   "source": [
    "my_logreg = LogisticRegression(solver='lbfgs', random_state=1, max_iter=1000)\n",
    "\n",
    "# Fitting to PCA data\n",
    "my_logreg.fit(X_scaled_train,y_train)\n",
    "\n",
    "# Scoring on PCA train and test sets\n",
    "print(f'Train Score: {my_logreg.score(X_scaled_train , y_train)}')\n",
    "print(f'Validation Score: {my_logreg.score(X_scaled_validation, y_validation)}')"
   ]
  },
  {
   "cell_type": "markdown",
   "id": "a166de9c",
   "metadata": {},
   "source": [
    "|        Model       \t| Accuracy \t|\n",
    "|:------------------:\t|:--------:\t|\n",
    "| Logistic Model     \t| 0.88     \t|"
   ]
  },
  {
   "cell_type": "markdown",
   "id": "87f22308",
   "metadata": {},
   "source": [
    "As we can see the baseline logistic model has an accuracty of 88%. The train and validation score are closely aligned, which can point to overfitting in the model."
   ]
  },
  {
   "cell_type": "markdown",
   "id": "9ccc5e68",
   "metadata": {},
   "source": [
    "We can also look at running the Logistic Regression model on our PCA reduced data, to see if our accuracy improves."
   ]
  },
  {
   "cell_type": "code",
   "execution_count": 27,
   "id": "57ab2129",
   "metadata": {},
   "outputs": [
    {
     "name": "stdout",
     "output_type": "stream",
     "text": [
      "Train Score: 0.8759277709986902\n",
      "Validation Score: 0.8750703172883975\n"
     ]
    }
   ],
   "source": [
    "my_logreg_PCA = LogisticRegression(solver='lbfgs', random_state=1, max_iter=1000)\n",
    "\n",
    "# Fitting to PCA data\n",
    "my_logreg_PCA.fit(X_train_PCA,y_train)\n",
    "\n",
    "# Scoring on PCA train and test sets\n",
    "print(f'Train Score: {my_logreg_PCA.score(X_train_PCA, y_train)}')\n",
    "print(f'Validation Score: {my_logreg_PCA.score(X_validation_PCA, y_validation)}')"
   ]
  },
  {
   "cell_type": "markdown",
   "id": "8a7b7f9e",
   "metadata": {},
   "source": [
    "|        Model       \t| Accuracy \t|\n",
    "|:------------------:\t|:--------:\t|\n",
    "| Logistic Model     \t| 0.88     \t|\n",
    "| Logistic-PCA Model.   | 0.88 |"
   ]
  },
  {
   "cell_type": "markdown",
   "id": "5eeb3c29",
   "metadata": {},
   "source": [
    "We can see that running the PCA did not impact our accuracy, and it is similar at ~88%. "
   ]
  },
  {
   "cell_type": "markdown",
   "id": "ffd52a1f",
   "metadata": {},
   "source": [
    "#### SVM"
   ]
  },
  {
   "cell_type": "markdown",
   "id": "9abecdfd",
   "metadata": {},
   "source": [
    "We will now look at the LinearSVC model for this data."
   ]
  },
  {
   "cell_type": "code",
   "execution_count": 41,
   "id": "5bcca53f",
   "metadata": {},
   "outputs": [
    {
     "name": "stderr",
     "output_type": "stream",
     "text": [
      "/Users/xen/opt/anaconda3/envs/capstone/lib/python3.8/site-packages/sklearn/svm/_base.py:985: ConvergenceWarning:\n",
      "\n",
      "Liblinear failed to converge, increase the number of iterations.\n",
      "\n"
     ]
    },
    {
     "name": "stdout",
     "output_type": "stream",
     "text": [
      "The Train classification accuracy is: 0.8731654482967076\n",
      "The Validation classification accuracy is: 0.8726648363181448\n"
     ]
    }
   ],
   "source": [
    "# SVM\n",
    "# Instantiate\n",
    "SVM_model = LinearSVC(random_state=1, max_iter=1000)\n",
    "\n",
    "# Fit\n",
    "SVM_model.fit(X_scaled_train, y_train)\n",
    "\n",
    "# Evaluate\n",
    "print(f\"The Train classification accuracy is: {SVM_model.score(X_scaled_train, y_train)}\")\n",
    "print(f\"The Validation classification accuracy is: {SVM_model.score(X_scaled_validation, y_validation)}\")"
   ]
  },
  {
   "cell_type": "markdown",
   "id": "d5bb8444",
   "metadata": {},
   "source": [
    "|        Model       \t| Accuracy \t|\n",
    "|:------------------:\t|:--------:\t|\n",
    "| Logistic Model     \t| 0.88     \t|\n",
    "| Logistic-PCA Model.   | 0.88 |\n",
    "| SVM Model     \t| 0.87     \t|"
   ]
  },
  {
   "cell_type": "markdown",
   "id": "ed5fb7dc",
   "metadata": {},
   "source": [
    "We can see that the the SVM model performed in-line with Logistic Model at 87%. "
   ]
  },
  {
   "cell_type": "markdown",
   "id": "e41cc49e",
   "metadata": {},
   "source": [
    "We can look at tree-based models, such as Decision Trees, Random Forest, and ensemble learning tree methods, like XGBoost."
   ]
  },
  {
   "cell_type": "markdown",
   "id": "9c1229f1",
   "metadata": {},
   "source": [
    "### Decision Trees"
   ]
  },
  {
   "cell_type": "markdown",
   "id": "e009e9d7",
   "metadata": {},
   "source": [
    "We will first look at Decision Tree models to help with our data."
   ]
  },
  {
   "cell_type": "code",
   "execution_count": 42,
   "id": "afdcd414",
   "metadata": {},
   "outputs": [
    {
     "name": "stdout",
     "output_type": "stream",
     "text": [
      "Train Dataset Score: 0.8608987204316724\n",
      "Validation Dataset Score: 0.8608977103851289\n"
     ]
    }
   ],
   "source": [
    "# Decision Trees\n",
    "# Instantiate\n",
    "dt = DecisionTreeClassifier(max_depth=1)\n",
    "\n",
    "# Fit\n",
    "dt.fit(X_train, y_train)\n",
    "\n",
    "# Score\n",
    "print('Train Dataset Score:',dt.score(X_train, y_train))\n",
    "print('Validation Dataset Score:',dt.score(X_validation, y_validation))"
   ]
  },
  {
   "cell_type": "markdown",
   "id": "236d4e37",
   "metadata": {},
   "source": [
    "|        Model       \t| Accuracy \t|\n",
    "|:------------------:\t|:--------:\t|\n",
    "| Logistic Model     \t| 0.88     \t|\n",
    "| Logistic-PCA Model.   | 0.88 |\n",
    "| SVM Model     \t| 0.87     \t|\n",
    "|Decision Tree Model (max_depth = 1) | 0.86 |"
   ]
  },
  {
   "cell_type": "markdown",
   "id": "4c4052cb",
   "metadata": {},
   "source": [
    "The Decision Tree model provided an accuracy of 86%. The speed of the model will help in tuning the model to improve overall accuracy if needed. However, the accuracy looks to be similar for the train and validation, which points to overfitting of the model. "
   ]
  },
  {
   "cell_type": "markdown",
   "id": "587f0e3d",
   "metadata": {},
   "source": [
    "#### Random Forest"
   ]
  },
  {
   "cell_type": "markdown",
   "id": "4b85a4d7",
   "metadata": {},
   "source": [
    "We can also look at another tree model by running a random Forest model. We can set n_estimators at 50 for simplicity."
   ]
  },
  {
   "cell_type": "code",
   "execution_count": 60,
   "id": "517ed615",
   "metadata": {},
   "outputs": [
    {
     "data": {
      "text/plain": [
       "RandomForestClassifier(n_estimators=50)"
      ]
     },
     "execution_count": 60,
     "metadata": {},
     "output_type": "execute_result"
    }
   ],
   "source": [
    "# Random Forest\n",
    "\n",
    "#Instantiate\n",
    "my_random_forest = RandomForestClassifier(n_estimators=50)\n",
    "\n",
    "#Fit\n",
    "my_random_forest.fit(X_train, y_train)"
   ]
  },
  {
   "cell_type": "code",
   "execution_count": 61,
   "id": "336329e8",
   "metadata": {},
   "outputs": [
    {
     "name": "stdout",
     "output_type": "stream",
     "text": [
      "Performance on fitted data:\n",
      "Average Decision Tree: 0.9833526817199727\n",
      "Random Forest: 0.9994794407066172\n"
     ]
    }
   ],
   "source": [
    "# Score on Training Data\n",
    "decision_tree_scores = []\n",
    "for sub_tree in my_random_forest.estimators_:\n",
    "    decision_tree_scores.append(sub_tree.score(X_train, y_train))\n",
    "    \n",
    "print(\"Performance on fitted data:\")\n",
    "print(f\"Average Decision Tree: {np.mean(decision_tree_scores)}\")\n",
    "print(f\"Random Forest: {my_random_forest.score(X_train, y_train)}\")"
   ]
  },
  {
   "cell_type": "code",
   "execution_count": 62,
   "id": "829409b4",
   "metadata": {},
   "outputs": [
    {
     "name": "stdout",
     "output_type": "stream",
     "text": [
      "Performance on Validation data:\n",
      "Average Decision Tree: 0.9548548735128418\n",
      "Random Forest: 0.974114841775606\n"
     ]
    }
   ],
   "source": [
    "# Score on Validation Data\n",
    "decision_tree_scores = []\n",
    "for sub_tree in my_random_forest.estimators_:\n",
    "    decision_tree_scores.append(sub_tree.score(X_validation, y_validation))\n",
    "\n",
    "print(\"Performance on Validation data:\")\n",
    "print(f\"Average Decision Tree: {np.mean(decision_tree_scores)}\")\n",
    "print(f\"Random Forest: {my_random_forest.score(X_validation, y_validation)}\")"
   ]
  },
  {
   "cell_type": "markdown",
   "id": "d35ac0fd",
   "metadata": {},
   "source": [
    "|        Model       \t| Accuracy \t|\n",
    "|:------------------:\t|:--------:\t|\n",
    "| Logistic Model     \t| 0.88     \t|\n",
    "| Logistic-PCA Model.   | 0.88 |\n",
    "| SVM Model     \t| 0.87     \t|\n",
    "|Decision Tree Model (max_depth = 1) | 0.86 |\n",
    "| Random Forest Model (n_estimators = 50) | 0.97|"
   ]
  },
  {
   "cell_type": "markdown",
   "id": "c37d2961",
   "metadata": {},
   "source": [
    "The Random Forest model result in a score of ~97%, with an average Decision Tree score of ~95%."
   ]
  },
  {
   "cell_type": "markdown",
   "id": "20109980",
   "metadata": {},
   "source": [
    "#### XGBoost"
   ]
  },
  {
   "cell_type": "markdown",
   "id": "4066bfc1",
   "metadata": {},
   "source": [
    "We can also look at an ensemble boosting method, such as XGBoost for the data. "
   ]
  },
  {
   "cell_type": "code",
   "execution_count": 58,
   "id": "b3269280",
   "metadata": {},
   "outputs": [
    {
     "name": "stdout",
     "output_type": "stream",
     "text": [
      "XG Boost Train score: 0.9619683858183976\n",
      "XG Boost Validation score: 0.9595098360242815\n"
     ]
    }
   ],
   "source": [
    "# XGBoost\n",
    "\n",
    "# Instantiate\n",
    "XGB_model = XGBClassifier()\n",
    "\n",
    "#Fit\n",
    "XGB_model.fit(X_train, y_train)\n",
    "\n",
    "print(f\"XG Boost Train score: {XGB_model.score(X_train, y_train)}\")\n",
    "print(f\"XG Boost Validation score: {XGB_model.score(X_validation, y_validation)}\")"
   ]
  },
  {
   "cell_type": "markdown",
   "id": "7c85d9b0",
   "metadata": {},
   "source": [
    "|        Model       \t| Accuracy \t|\n",
    "|:------------------:\t|:--------:\t|\n",
    "| Logistic Model     \t| 0.88     \t|\n",
    "| Logistic-PCA Model.   | 0.88 |\n",
    "| SVM Model     \t| 0.87     \t|\n",
    "|Decision Tree Model (max_depth = 1) | 0.86 |\n",
    "| Random Forest Model (n_estimators = 50) | 0.97|\n",
    "| XGBoost | 0.96 |"
   ]
  },
  {
   "cell_type": "markdown",
   "id": "8455dda1",
   "metadata": {},
   "source": [
    "The XGBoost classifier was able to have a score of 96%."
   ]
  },
  {
   "cell_type": "markdown",
   "id": "ee060505",
   "metadata": {},
   "source": [
    "# Model Tuning"
   ]
  },
  {
   "cell_type": "markdown",
   "id": "4c3edbed",
   "metadata": {},
   "source": [
    "As the tree models provided the best scores overall, we can look to tuning each of the models to see how they could score on the test data."
   ]
  },
  {
   "cell_type": "markdown",
   "id": "dc66ce4a",
   "metadata": {},
   "source": [
    "### Decision Trees Tuned"
   ]
  },
  {
   "cell_type": "markdown",
   "id": "82c2a1b0",
   "metadata": {},
   "source": [
    "We will first look at the decision tree model, and adjust the `max_depth` and `min_samples_leaf` parameters. We will also use a 5-fold cross validation."
   ]
  },
  {
   "cell_type": "code",
   "execution_count": 68,
   "id": "1a64c308",
   "metadata": {},
   "outputs": [],
   "source": [
    "# Decision Tree\n",
    "\n",
    "from tempfile import mkdtemp\n",
    "cachedir = mkdtemp()\n",
    "\n",
    "# List max_depths, and min_samples_leaf:\n",
    "m_depths = list(range(1, 11))\n",
    "m_leafs = list(range(1, 5))\n",
    "\n",
    "estimators = [\n",
    "    ('model', DecisionTreeClassifier())\n",
    "]\n",
    "\n",
    "my_pipe = Pipeline(estimators, memory = cachedir)\n",
    "\n",
    "param_grid = [\n",
    "    # Decision Tree\n",
    "    {\n",
    "        'model': [DecisionTreeClassifier()],\n",
    "        'model__max_depth': m_depths,\n",
    "        'model__min_samples_leaf': m_leafs\n",
    "    }\n",
    "]\n",
    "\n",
    "grid = GridSearchCV(my_pipe, param_grid, cv=5)\n",
    "\n",
    "fittedgrid = grid.fit(X_train, y_train)"
   ]
  },
  {
   "cell_type": "code",
   "execution_count": 69,
   "id": "fe65fa56",
   "metadata": {},
   "outputs": [
    {
     "data": {
      "text/plain": [
       "Pipeline(memory='/var/folders/91/mptwb_gx05g7b144ydz52tcc0000gn/T/tmpfeqgynv9',\n",
       "         steps=[('model', DecisionTreeClassifier(max_depth=10))])"
      ]
     },
     "execution_count": 69,
     "metadata": {},
     "output_type": "execute_result"
    }
   ],
   "source": [
    "# Best estimator object\n",
    "fittedgrid.best_estimator_"
   ]
  },
  {
   "cell_type": "code",
   "execution_count": 70,
   "id": "a26040f8",
   "metadata": {},
   "outputs": [
    {
     "data": {
      "text/plain": [
       "{'model': DecisionTreeClassifier(max_depth=10),\n",
       " 'model__max_depth': 10,\n",
       " 'model__min_samples_leaf': 1}"
      ]
     },
     "execution_count": 70,
     "metadata": {},
     "output_type": "execute_result"
    }
   ],
   "source": [
    "# Best hyperparameters\n",
    "fittedgrid.best_params_"
   ]
  },
  {
   "cell_type": "markdown",
   "id": "4886ac47",
   "metadata": {},
   "source": [
    "We can see that the optimum parameters for the Decision Tree model would have a `max_depth` of 10, and a `min_samples_leaf` of 1. "
   ]
  },
  {
   "cell_type": "code",
   "execution_count": 71,
   "id": "df0d6fee",
   "metadata": {},
   "outputs": [
    {
     "name": "stdout",
     "output_type": "stream",
     "text": [
      "Train Dataset Score: 0.9331808971531563\n",
      "Validation Dataset Score: 0.9312821675356624\n",
      "Test Dataset Score: 0.9314398109873404\n"
     ]
    }
   ],
   "source": [
    "# Decision Trees\n",
    "# Instantiate\n",
    "dt = DecisionTreeClassifier(max_depth=10, min_samples_leaf=1)\n",
    "\n",
    "# Fit\n",
    "dt.fit(X_train, y_train)\n",
    "\n",
    "# Score\n",
    "print('Train Dataset Score:',dt.score(X_train, y_train))\n",
    "print('Validation Dataset Score:',dt.score(X_validation, y_validation))\n",
    "print('Test Dataset Score:',dt.score(X_test, y_test))"
   ]
  },
  {
   "cell_type": "markdown",
   "id": "7e55fd4c",
   "metadata": {},
   "source": [
    "|        Model       \t| Accuracy \t|\n",
    "|:------------------:\t|:--------:\t|\n",
    "| Logistic Model     \t| 0.88     \t|\n",
    "| Logistic-PCA Model.   | 0.88 |\n",
    "| SVM Model     \t| 0.87     \t|\n",
    "|Decision Tree Model (max_depth = 1) | 0.86 |\n",
    "| Random Forest Model (n_estimators = 50) | 0.97|\n",
    "| XGBoost | 0.96 |\n",
    "| Decision Tree Model (max_depth = 10 , min_samples_leaf = 1) |0.93 |"
   ]
  },
  {
   "cell_type": "markdown",
   "id": "610ff6e8",
   "metadata": {},
   "source": [
    "Optimizing the parameters for the Decision Tree helped improve the accuracy from 86% to 93%. "
   ]
  },
  {
   "cell_type": "markdown",
   "id": "373104fa",
   "metadata": {},
   "source": [
    "### Random Forest Tuned"
   ]
  },
  {
   "cell_type": "markdown",
   "id": "71b14d3c",
   "metadata": {},
   "source": [
    "We will also look at the Random Forest model, and adjust the paramaters for `n_estimators` and `max_depth`. We will also conduct 5-fold cross validation. "
   ]
  },
  {
   "cell_type": "code",
   "execution_count": 75,
   "id": "7fd51723",
   "metadata": {},
   "outputs": [],
   "source": [
    "# Random Forest\n",
    "\n",
    "from tempfile import mkdtemp\n",
    "cachedir = mkdtemp()\n",
    "\n",
    "# List max_depths, and n_estimators:\n",
    "n_est = list(range(50, 100, 10))\n",
    "m_depths = list(range(1, 11))\n",
    "\n",
    "estimators = [\n",
    "    ('model', RandomForestClassifier())\n",
    "]\n",
    "\n",
    "param_grid = [\n",
    "    # Random Forest\n",
    "    {\n",
    "        'model': [RandomForestClassifier()],\n",
    "        'model__max_depth': m_depths,\n",
    "        'model__n_estimators': n_est\n",
    "    }\n",
    "]\n",
    "\n",
    "grid = GridSearchCV(my_pipe, param_grid, cv=5)\n",
    "\n",
    "fittedgrid = grid.fit(X_train, y_train)"
   ]
  },
  {
   "cell_type": "code",
   "execution_count": 76,
   "id": "c2ce7c6e",
   "metadata": {},
   "outputs": [
    {
     "data": {
      "text/plain": [
       "Pipeline(memory='/var/folders/91/mptwb_gx05g7b144ydz52tcc0000gn/T/tmpfeqgynv9',\n",
       "         steps=[('model',\n",
       "                 RandomForestClassifier(max_depth=10, n_estimators=50))])"
      ]
     },
     "execution_count": 76,
     "metadata": {},
     "output_type": "execute_result"
    }
   ],
   "source": [
    "# Best estimator object\n",
    "fittedgrid.best_estimator_"
   ]
  },
  {
   "cell_type": "code",
   "execution_count": 77,
   "id": "c091c9ba",
   "metadata": {},
   "outputs": [
    {
     "data": {
      "text/plain": [
       "{'model': RandomForestClassifier(max_depth=10, n_estimators=50),\n",
       " 'model__max_depth': 10,\n",
       " 'model__n_estimators': 50}"
      ]
     },
     "execution_count": 77,
     "metadata": {},
     "output_type": "execute_result"
    }
   ],
   "source": [
    "# Best hyperparameters\n",
    "fittedgrid.best_params_"
   ]
  },
  {
   "cell_type": "markdown",
   "id": "bcfbc283",
   "metadata": {},
   "source": [
    "We can see that the optimized Random Forest model has a `max_depth` of 10 and `n_estimators` of 50. "
   ]
  },
  {
   "cell_type": "code",
   "execution_count": 78,
   "id": "24e7f73a",
   "metadata": {},
   "outputs": [
    {
     "data": {
      "text/plain": [
       "RandomForestClassifier(max_depth=10, n_estimators=50)"
      ]
     },
     "execution_count": 78,
     "metadata": {},
     "output_type": "execute_result"
    }
   ],
   "source": [
    "# Random Forest\n",
    "\n",
    "#Instantiate\n",
    "my_random_forest = RandomForestClassifier(n_estimators=50, max_depth=10)\n",
    "\n",
    "#Fit\n",
    "my_random_forest.fit(X_train, y_train)"
   ]
  },
  {
   "cell_type": "code",
   "execution_count": 79,
   "id": "2f8cce49",
   "metadata": {},
   "outputs": [
    {
     "name": "stdout",
     "output_type": "stream",
     "text": [
      "Performance on fitted data:\n",
      "Average Decision Tree: 0.8825146372317441\n",
      "Random Forest: 0.8912115038006426\n"
     ]
    }
   ],
   "source": [
    "# Score on Training Data\n",
    "decision_tree_scores = []\n",
    "for sub_tree in my_random_forest.estimators_:\n",
    "    decision_tree_scores.append(sub_tree.score(X_train, y_train))\n",
    "    \n",
    "print(\"Performance on fitted data:\")\n",
    "print(f\"Average Decision Tree: {np.mean(decision_tree_scores)}\")\n",
    "print(f\"Random Forest: {my_random_forest.score(X_train, y_train)}\")"
   ]
  },
  {
   "cell_type": "code",
   "execution_count": 80,
   "id": "00afb586",
   "metadata": {},
   "outputs": [
    {
     "name": "stdout",
     "output_type": "stream",
     "text": [
      "Performance on Validation data:\n",
      "Average Decision Tree: 0.8819290026279774\n",
      "Random Forest: 0.8902798418175865\n"
     ]
    }
   ],
   "source": [
    "# Score on Validation Data\n",
    "decision_tree_scores = []\n",
    "for sub_tree in my_random_forest.estimators_:\n",
    "    decision_tree_scores.append(sub_tree.score(X_validation, y_validation))\n",
    "\n",
    "print(\"Performance on Validation data:\")\n",
    "print(f\"Average Decision Tree: {np.mean(decision_tree_scores)}\")\n",
    "print(f\"Random Forest: {my_random_forest.score(X_validation, y_validation)}\")"
   ]
  },
  {
   "cell_type": "code",
   "execution_count": 81,
   "id": "619cf82b",
   "metadata": {},
   "outputs": [
    {
     "name": "stdout",
     "output_type": "stream",
     "text": [
      "Performance on fitted data:\n",
      "Average Decision Tree: 0.8822245818329997\n",
      "Random Forest: 0.8908671308395469\n"
     ]
    }
   ],
   "source": [
    "# Score on Test Data\n",
    "decision_tree_scores = []\n",
    "for sub_tree in my_random_forest.estimators_:\n",
    "    decision_tree_scores.append(sub_tree.score(X_test, y_test))\n",
    "    \n",
    "print(\"Performance on fitted data:\")\n",
    "print(f\"Average Decision Tree: {np.mean(decision_tree_scores)}\")\n",
    "print(f\"Random Forest: {my_random_forest.score(X_test, y_test)}\")"
   ]
  },
  {
   "cell_type": "markdown",
   "id": "826ad111",
   "metadata": {},
   "source": [
    "|        Model       \t| Accuracy \t|\n",
    "|:------------------:\t|:--------:\t|\n",
    "| Logistic Model     \t| 0.88     \t|\n",
    "| Logistic-PCA Model.   | 0.88 |\n",
    "| SVM Model     \t| 0.87     \t|\n",
    "|Decision Tree Model (max_depth = 1) | 0.86 |\n",
    "| Random Forest Model (n_estimators = 50) | 0.97|\n",
    "| XGBoost | 0.96 |\n",
    "| Decision Tree Model (max_depth = 10 , min_samples_leaf = 1) |0.93 |\n",
    "| Random Forest Model (max_depth = 10, n_estimators = 50) | 0.89 |"
   ]
  },
  {
   "cell_type": "markdown",
   "id": "d84bd5a0",
   "metadata": {},
   "source": [
    "The tuned Random Forest Model resulted in a score of 89%, which is down from the initial 97%. "
   ]
  },
  {
   "cell_type": "markdown",
   "id": "b22c3a48",
   "metadata": {},
   "source": [
    "### XGBoost Tuned"
   ]
  },
  {
   "cell_type": "markdown",
   "id": "f408f867",
   "metadata": {},
   "source": [
    "We will now look at optimizing the paramaters for the XGBoost model, by adjusting the `n_estimators`, as well as the `max_depth`."
   ]
  },
  {
   "cell_type": "code",
   "execution_count": 82,
   "id": "88e4763f",
   "metadata": {},
   "outputs": [],
   "source": [
    "# XGBoost\n",
    "\n",
    "from tempfile import mkdtemp\n",
    "cachedir = mkdtemp()\n",
    "\n",
    "# List max_depths, and n_estimators:\n",
    "n_est = list(range(0, 50, 10))\n",
    "m_depths = list(range(1, 11))\n",
    "\n",
    "estimators = [\n",
    "    ('model', XGBClassifier())\n",
    "]\n",
    "\n",
    "param_grid = [\n",
    "    # XGBoost\n",
    "    {\n",
    "        'model': [XGBClassifier()],\n",
    "        'model__max_depth': m_depths,\n",
    "        'model__n_estimators': n_est\n",
    "    }\n",
    "]\n",
    "\n",
    "grid = GridSearchCV(my_pipe, param_grid, cv=5)\n",
    "\n",
    "fittedgrid = grid.fit(X_train, y_train)"
   ]
  },
  {
   "cell_type": "code",
   "execution_count": 83,
   "id": "1b5d2758",
   "metadata": {},
   "outputs": [
    {
     "data": {
      "text/plain": [
       "Pipeline(memory='/var/folders/91/mptwb_gx05g7b144ydz52tcc0000gn/T/tmpfeqgynv9',\n",
       "         steps=[('model',\n",
       "                 XGBClassifier(base_score=0.5, booster='gbtree',\n",
       "                               colsample_bylevel=1, colsample_bynode=1,\n",
       "                               colsample_bytree=1, gamma=0, gpu_id=-1,\n",
       "                               importance_type='gain',\n",
       "                               interaction_constraints='',\n",
       "                               learning_rate=0.300000012, max_delta_step=0,\n",
       "                               max_depth=10, min_child_weight=1, missing=nan,\n",
       "                               monotone_constraints='()', n_estimators=40,\n",
       "                               n_jobs=0, num_parallel_tree=1, random_state=0,\n",
       "                               reg_alpha=0, reg_lambda=1, scale_pos_weight=1,\n",
       "                               subsample=1, tree_method='exact',\n",
       "                               validate_parameters=1, verbosity=None))])"
      ]
     },
     "execution_count": 83,
     "metadata": {},
     "output_type": "execute_result"
    }
   ],
   "source": [
    "# Best estimator object\n",
    "fittedgrid.best_estimator_"
   ]
  },
  {
   "cell_type": "code",
   "execution_count": 84,
   "id": "bb19cf3b",
   "metadata": {},
   "outputs": [
    {
     "data": {
      "text/plain": [
       "{'model': XGBClassifier(base_score=None, booster=None, colsample_bylevel=None,\n",
       "               colsample_bynode=None, colsample_bytree=None, gamma=None,\n",
       "               gpu_id=None, importance_type='gain', interaction_constraints=None,\n",
       "               learning_rate=None, max_delta_step=None, max_depth=10,\n",
       "               min_child_weight=None, missing=nan, monotone_constraints=None,\n",
       "               n_estimators=40, n_jobs=None, num_parallel_tree=None,\n",
       "               random_state=None, reg_alpha=None, reg_lambda=None,\n",
       "               scale_pos_weight=None, subsample=None, tree_method=None,\n",
       "               validate_parameters=None, verbosity=None),\n",
       " 'model__max_depth': 10,\n",
       " 'model__n_estimators': 40}"
      ]
     },
     "execution_count": 84,
     "metadata": {},
     "output_type": "execute_result"
    }
   ],
   "source": [
    "# Best hyperparameters\n",
    "fittedgrid.best_params_"
   ]
  },
  {
   "cell_type": "markdown",
   "id": "738d39f0",
   "metadata": {},
   "source": [
    "We can see that the optimium paramaters for the XGBoost Model is `n_estimators` of 40, and `max_depth` of 10."
   ]
  },
  {
   "cell_type": "code",
   "execution_count": 86,
   "id": "68cf8c1a",
   "metadata": {},
   "outputs": [
    {
     "name": "stdout",
     "output_type": "stream",
     "text": [
      "XG Boost Train score: 0.9726370526268653\n",
      "XG Boost Validation score: 0.9666087336171213\n",
      "XG Boost Test score: 0.9666563488114223\n"
     ]
    }
   ],
   "source": [
    "# XGBoost\n",
    "\n",
    "# Instantiate\n",
    "XGB_model = XGBClassifier(n_estimators=40, max_depth=10)\n",
    "\n",
    "#Fit\n",
    "XGB_model.fit(X_train, y_train)\n",
    "\n",
    "print(f\"XG Boost Train score: {XGB_model.score(X_train, y_train)}\")\n",
    "print(f\"XG Boost Validation score: {XGB_model.score(X_validation, y_validation)}\")\n",
    "print(f\"XG Boost Test score: {XGB_model.score(X_test, y_test)}\")"
   ]
  },
  {
   "cell_type": "markdown",
   "id": "beb929a9",
   "metadata": {},
   "source": [
    "|        Model       \t| Accuracy \t|\n",
    "|:------------------:\t|:--------:\t|\n",
    "| Logistic Model     \t| 0.88     \t|\n",
    "| Logistic-PCA Model.   | 0.88 |\n",
    "| SVM Model     \t| 0.87     \t|\n",
    "|Decision Tree Model (max_depth = 1) | 0.86 |\n",
    "| Random Forest Model (n_estimators = 50) | 0.97|\n",
    "| XGBoost | 0.96 |\n",
    "| Decision Tree Model (max_depth = 10 , min_samples_leaf = 1) |0.93 |\n",
    "| Random Forest Model (max_depth = 10, n_estimators = 50) | 0.89 |\n",
    "|XGBoost (n_estimators = 40, max_depth = 10)| 0.97 |"
   ]
  },
  {
   "cell_type": "markdown",
   "id": "92f2825d",
   "metadata": {},
   "source": [
    "The optimized XGBoost model scored a 0.97, which is a slight improvement from the 0.96, from the previous model."
   ]
  },
  {
   "cell_type": "markdown",
   "id": "fb5ec374",
   "metadata": {},
   "source": [
    "# Model Selection & Evaluation"
   ]
  },
  {
   "cell_type": "markdown",
   "id": "299c2325",
   "metadata": {},
   "source": [
    "|        Model       \t| Accuracy \t|\n",
    "|:------------------:\t|:--------:\t|\n",
    "| Logistic Model     \t| 0.88     \t|\n",
    "| Logistic-PCA Model.   | 0.88 |\n",
    "| SVM Model     \t| 0.87     \t|\n",
    "|Decision Tree Model (max_depth = 1) | 0.86 |\n",
    "| Random Forest Model (n_estimators = 50) | 0.97|\n",
    "| XGBoost | 0.96 |\n",
    "| Decision Tree Model (max_depth = 10 , min_samples_leaf = 1) |0.93 |\n",
    "| Random Forest Model (max_depth = 10, n_estimators = 50) | 0.89 |\n",
    "|XGBoost (n_estimators = 40, max_depth = 10)| 0.97 |"
   ]
  },
  {
   "cell_type": "markdown",
   "id": "cf253039",
   "metadata": {},
   "source": [
    "As the tuned XGBoost model generated best score, we will use the model to generate some insights."
   ]
  },
  {
   "cell_type": "markdown",
   "id": "950bc255",
   "metadata": {},
   "source": [
    "We can look at the features with the highest feature importance in the model. "
   ]
  },
  {
   "cell_type": "code",
   "execution_count": 112,
   "id": "45b0c4d9",
   "metadata": {},
   "outputs": [
    {
     "data": {
      "text/html": [
       "<div>\n",
       "<style scoped>\n",
       "    .dataframe tbody tr th:only-of-type {\n",
       "        vertical-align: middle;\n",
       "    }\n",
       "\n",
       "    .dataframe tbody tr th {\n",
       "        vertical-align: top;\n",
       "    }\n",
       "\n",
       "    .dataframe thead th {\n",
       "        text-align: right;\n",
       "    }\n",
       "</style>\n",
       "<table border=\"1\" class=\"dataframe\">\n",
       "  <thead>\n",
       "    <tr style=\"text-align: right;\">\n",
       "      <th></th>\n",
       "      <th>score</th>\n",
       "    </tr>\n",
       "  </thead>\n",
       "  <tbody>\n",
       "    <tr>\n",
       "      <th>price</th>\n",
       "      <td>2454</td>\n",
       "    </tr>\n",
       "    <tr>\n",
       "      <th>dest_Airport_Lat</th>\n",
       "      <td>1041</td>\n",
       "    </tr>\n",
       "    <tr>\n",
       "      <th>dest_Airport_Lon</th>\n",
       "      <td>869</td>\n",
       "    </tr>\n",
       "    <tr>\n",
       "      <th>airline_1_Gol</th>\n",
       "      <td>16</td>\n",
       "    </tr>\n",
       "    <tr>\n",
       "      <th>dest_Airport_City_Charlotte</th>\n",
       "      <td>11</td>\n",
       "    </tr>\n",
       "    <tr>\n",
       "      <th>...</th>\n",
       "      <td>...</td>\n",
       "    </tr>\n",
       "    <tr>\n",
       "      <th>airline_1_Hainan</th>\n",
       "      <td>3</td>\n",
       "    </tr>\n",
       "    <tr>\n",
       "      <th>airline_1_Arkia</th>\n",
       "      <td>3</td>\n",
       "    </tr>\n",
       "    <tr>\n",
       "      <th>airline_1_AirAsia (India)</th>\n",
       "      <td>1</td>\n",
       "    </tr>\n",
       "    <tr>\n",
       "      <th>airline_1_EVA Air</th>\n",
       "      <td>1</td>\n",
       "    </tr>\n",
       "    <tr>\n",
       "      <th>airline_1_SunExpress</th>\n",
       "      <td>1</td>\n",
       "    </tr>\n",
       "  </tbody>\n",
       "</table>\n",
       "<p>225 rows × 1 columns</p>\n",
       "</div>"
      ],
      "text/plain": [
       "                             score\n",
       "price                         2454\n",
       "dest_Airport_Lat              1041\n",
       "dest_Airport_Lon               869\n",
       "airline_1_Gol                   16\n",
       "dest_Airport_City_Charlotte     11\n",
       "...                            ...\n",
       "airline_1_Hainan                 3\n",
       "airline_1_Arkia                  3\n",
       "airline_1_AirAsia (India)        1\n",
       "airline_1_EVA Air                1\n",
       "airline_1_SunExpress             1\n",
       "\n",
       "[225 rows x 1 columns]"
      ]
     },
     "execution_count": 112,
     "metadata": {},
     "output_type": "execute_result"
    }
   ],
   "source": [
    "feature_important = XGB_model.get_booster().get_score(importance_type='weight')\n",
    "keys = list(feature_important.keys())\n",
    "values = list(feature_important.values())\n",
    "\n",
    "data = pd.DataFrame(data=values, index=keys, columns=[\"score\"])\n",
    "data"
   ]
  },
  {
   "cell_type": "code",
   "execution_count": 114,
   "id": "8b0d11f9",
   "metadata": {},
   "outputs": [
    {
     "data": {
      "application/vnd.plotly.v1+json": {
       "config": {
        "plotlyServerURL": "https://plot.ly"
       },
       "data": [
        {
         "alignmentgroup": "True",
         "hovertemplate": "variable=score<br>index=%{x}<br>value=%{y}<extra></extra>",
         "legendgroup": "score",
         "marker": {
          "color": "#636efa"
         },
         "name": "score",
         "offsetgroup": "score",
         "orientation": "v",
         "showlegend": true,
         "textposition": "auto",
         "type": "bar",
         "x": [
          "price",
          "duration",
          "dest_Airport_Lat",
          "dest_Airport_Lon",
          "from_Airport_Lat",
          "from_Airport_Lon",
          "stops",
          "airline_1_Turkish Airlines",
          "airline_1_British Airways",
          "airline_1_Lufthansa",
          "aircraft_type_1_Airbus A320",
          "aircraft_type_1_Airbus A330",
          "aircraft_type_1_Boeing 787",
          "aircraft_type_1_Boeing 737",
          "airline_1_Avianca",
          "aircraft_type_1_Airbus A319",
          "airline_1_KLM",
          "airline_1_American",
          "aircraft_type_1_Airbus A321",
          "airline_1_Air India"
         ],
         "xaxis": "x",
         "y": [
          2454,
          1313,
          1041,
          869,
          783,
          485,
          355,
          103,
          84,
          82,
          78,
          65,
          64,
          63,
          58,
          57,
          53,
          53,
          51,
          50
         ],
         "yaxis": "y"
        }
       ],
       "layout": {
        "barmode": "relative",
        "legend": {
         "title": {
          "text": "variable"
         },
         "tracegroupgap": 0
        },
        "margin": {
         "t": 60
        },
        "showlegend": false,
        "template": {
         "data": {
          "bar": [
           {
            "error_x": {
             "color": "#2a3f5f"
            },
            "error_y": {
             "color": "#2a3f5f"
            },
            "marker": {
             "line": {
              "color": "#E5ECF6",
              "width": 0.5
             }
            },
            "type": "bar"
           }
          ],
          "barpolar": [
           {
            "marker": {
             "line": {
              "color": "#E5ECF6",
              "width": 0.5
             }
            },
            "type": "barpolar"
           }
          ],
          "carpet": [
           {
            "aaxis": {
             "endlinecolor": "#2a3f5f",
             "gridcolor": "white",
             "linecolor": "white",
             "minorgridcolor": "white",
             "startlinecolor": "#2a3f5f"
            },
            "baxis": {
             "endlinecolor": "#2a3f5f",
             "gridcolor": "white",
             "linecolor": "white",
             "minorgridcolor": "white",
             "startlinecolor": "#2a3f5f"
            },
            "type": "carpet"
           }
          ],
          "choropleth": [
           {
            "colorbar": {
             "outlinewidth": 0,
             "ticks": ""
            },
            "type": "choropleth"
           }
          ],
          "contour": [
           {
            "colorbar": {
             "outlinewidth": 0,
             "ticks": ""
            },
            "colorscale": [
             [
              0,
              "#0d0887"
             ],
             [
              0.1111111111111111,
              "#46039f"
             ],
             [
              0.2222222222222222,
              "#7201a8"
             ],
             [
              0.3333333333333333,
              "#9c179e"
             ],
             [
              0.4444444444444444,
              "#bd3786"
             ],
             [
              0.5555555555555556,
              "#d8576b"
             ],
             [
              0.6666666666666666,
              "#ed7953"
             ],
             [
              0.7777777777777778,
              "#fb9f3a"
             ],
             [
              0.8888888888888888,
              "#fdca26"
             ],
             [
              1,
              "#f0f921"
             ]
            ],
            "type": "contour"
           }
          ],
          "contourcarpet": [
           {
            "colorbar": {
             "outlinewidth": 0,
             "ticks": ""
            },
            "type": "contourcarpet"
           }
          ],
          "heatmap": [
           {
            "colorbar": {
             "outlinewidth": 0,
             "ticks": ""
            },
            "colorscale": [
             [
              0,
              "#0d0887"
             ],
             [
              0.1111111111111111,
              "#46039f"
             ],
             [
              0.2222222222222222,
              "#7201a8"
             ],
             [
              0.3333333333333333,
              "#9c179e"
             ],
             [
              0.4444444444444444,
              "#bd3786"
             ],
             [
              0.5555555555555556,
              "#d8576b"
             ],
             [
              0.6666666666666666,
              "#ed7953"
             ],
             [
              0.7777777777777778,
              "#fb9f3a"
             ],
             [
              0.8888888888888888,
              "#fdca26"
             ],
             [
              1,
              "#f0f921"
             ]
            ],
            "type": "heatmap"
           }
          ],
          "heatmapgl": [
           {
            "colorbar": {
             "outlinewidth": 0,
             "ticks": ""
            },
            "colorscale": [
             [
              0,
              "#0d0887"
             ],
             [
              0.1111111111111111,
              "#46039f"
             ],
             [
              0.2222222222222222,
              "#7201a8"
             ],
             [
              0.3333333333333333,
              "#9c179e"
             ],
             [
              0.4444444444444444,
              "#bd3786"
             ],
             [
              0.5555555555555556,
              "#d8576b"
             ],
             [
              0.6666666666666666,
              "#ed7953"
             ],
             [
              0.7777777777777778,
              "#fb9f3a"
             ],
             [
              0.8888888888888888,
              "#fdca26"
             ],
             [
              1,
              "#f0f921"
             ]
            ],
            "type": "heatmapgl"
           }
          ],
          "histogram": [
           {
            "marker": {
             "colorbar": {
              "outlinewidth": 0,
              "ticks": ""
             }
            },
            "type": "histogram"
           }
          ],
          "histogram2d": [
           {
            "colorbar": {
             "outlinewidth": 0,
             "ticks": ""
            },
            "colorscale": [
             [
              0,
              "#0d0887"
             ],
             [
              0.1111111111111111,
              "#46039f"
             ],
             [
              0.2222222222222222,
              "#7201a8"
             ],
             [
              0.3333333333333333,
              "#9c179e"
             ],
             [
              0.4444444444444444,
              "#bd3786"
             ],
             [
              0.5555555555555556,
              "#d8576b"
             ],
             [
              0.6666666666666666,
              "#ed7953"
             ],
             [
              0.7777777777777778,
              "#fb9f3a"
             ],
             [
              0.8888888888888888,
              "#fdca26"
             ],
             [
              1,
              "#f0f921"
             ]
            ],
            "type": "histogram2d"
           }
          ],
          "histogram2dcontour": [
           {
            "colorbar": {
             "outlinewidth": 0,
             "ticks": ""
            },
            "colorscale": [
             [
              0,
              "#0d0887"
             ],
             [
              0.1111111111111111,
              "#46039f"
             ],
             [
              0.2222222222222222,
              "#7201a8"
             ],
             [
              0.3333333333333333,
              "#9c179e"
             ],
             [
              0.4444444444444444,
              "#bd3786"
             ],
             [
              0.5555555555555556,
              "#d8576b"
             ],
             [
              0.6666666666666666,
              "#ed7953"
             ],
             [
              0.7777777777777778,
              "#fb9f3a"
             ],
             [
              0.8888888888888888,
              "#fdca26"
             ],
             [
              1,
              "#f0f921"
             ]
            ],
            "type": "histogram2dcontour"
           }
          ],
          "mesh3d": [
           {
            "colorbar": {
             "outlinewidth": 0,
             "ticks": ""
            },
            "type": "mesh3d"
           }
          ],
          "parcoords": [
           {
            "line": {
             "colorbar": {
              "outlinewidth": 0,
              "ticks": ""
             }
            },
            "type": "parcoords"
           }
          ],
          "pie": [
           {
            "automargin": true,
            "type": "pie"
           }
          ],
          "scatter": [
           {
            "marker": {
             "colorbar": {
              "outlinewidth": 0,
              "ticks": ""
             }
            },
            "type": "scatter"
           }
          ],
          "scatter3d": [
           {
            "line": {
             "colorbar": {
              "outlinewidth": 0,
              "ticks": ""
             }
            },
            "marker": {
             "colorbar": {
              "outlinewidth": 0,
              "ticks": ""
             }
            },
            "type": "scatter3d"
           }
          ],
          "scattercarpet": [
           {
            "marker": {
             "colorbar": {
              "outlinewidth": 0,
              "ticks": ""
             }
            },
            "type": "scattercarpet"
           }
          ],
          "scattergeo": [
           {
            "marker": {
             "colorbar": {
              "outlinewidth": 0,
              "ticks": ""
             }
            },
            "type": "scattergeo"
           }
          ],
          "scattergl": [
           {
            "marker": {
             "colorbar": {
              "outlinewidth": 0,
              "ticks": ""
             }
            },
            "type": "scattergl"
           }
          ],
          "scattermapbox": [
           {
            "marker": {
             "colorbar": {
              "outlinewidth": 0,
              "ticks": ""
             }
            },
            "type": "scattermapbox"
           }
          ],
          "scatterpolar": [
           {
            "marker": {
             "colorbar": {
              "outlinewidth": 0,
              "ticks": ""
             }
            },
            "type": "scatterpolar"
           }
          ],
          "scatterpolargl": [
           {
            "marker": {
             "colorbar": {
              "outlinewidth": 0,
              "ticks": ""
             }
            },
            "type": "scatterpolargl"
           }
          ],
          "scatterternary": [
           {
            "marker": {
             "colorbar": {
              "outlinewidth": 0,
              "ticks": ""
             }
            },
            "type": "scatterternary"
           }
          ],
          "surface": [
           {
            "colorbar": {
             "outlinewidth": 0,
             "ticks": ""
            },
            "colorscale": [
             [
              0,
              "#0d0887"
             ],
             [
              0.1111111111111111,
              "#46039f"
             ],
             [
              0.2222222222222222,
              "#7201a8"
             ],
             [
              0.3333333333333333,
              "#9c179e"
             ],
             [
              0.4444444444444444,
              "#bd3786"
             ],
             [
              0.5555555555555556,
              "#d8576b"
             ],
             [
              0.6666666666666666,
              "#ed7953"
             ],
             [
              0.7777777777777778,
              "#fb9f3a"
             ],
             [
              0.8888888888888888,
              "#fdca26"
             ],
             [
              1,
              "#f0f921"
             ]
            ],
            "type": "surface"
           }
          ],
          "table": [
           {
            "cells": {
             "fill": {
              "color": "#EBF0F8"
             },
             "line": {
              "color": "white"
             }
            },
            "header": {
             "fill": {
              "color": "#C8D4E3"
             },
             "line": {
              "color": "white"
             }
            },
            "type": "table"
           }
          ]
         },
         "layout": {
          "annotationdefaults": {
           "arrowcolor": "#2a3f5f",
           "arrowhead": 0,
           "arrowwidth": 1
          },
          "autotypenumbers": "strict",
          "coloraxis": {
           "colorbar": {
            "outlinewidth": 0,
            "ticks": ""
           }
          },
          "colorscale": {
           "diverging": [
            [
             0,
             "#8e0152"
            ],
            [
             0.1,
             "#c51b7d"
            ],
            [
             0.2,
             "#de77ae"
            ],
            [
             0.3,
             "#f1b6da"
            ],
            [
             0.4,
             "#fde0ef"
            ],
            [
             0.5,
             "#f7f7f7"
            ],
            [
             0.6,
             "#e6f5d0"
            ],
            [
             0.7,
             "#b8e186"
            ],
            [
             0.8,
             "#7fbc41"
            ],
            [
             0.9,
             "#4d9221"
            ],
            [
             1,
             "#276419"
            ]
           ],
           "sequential": [
            [
             0,
             "#0d0887"
            ],
            [
             0.1111111111111111,
             "#46039f"
            ],
            [
             0.2222222222222222,
             "#7201a8"
            ],
            [
             0.3333333333333333,
             "#9c179e"
            ],
            [
             0.4444444444444444,
             "#bd3786"
            ],
            [
             0.5555555555555556,
             "#d8576b"
            ],
            [
             0.6666666666666666,
             "#ed7953"
            ],
            [
             0.7777777777777778,
             "#fb9f3a"
            ],
            [
             0.8888888888888888,
             "#fdca26"
            ],
            [
             1,
             "#f0f921"
            ]
           ],
           "sequentialminus": [
            [
             0,
             "#0d0887"
            ],
            [
             0.1111111111111111,
             "#46039f"
            ],
            [
             0.2222222222222222,
             "#7201a8"
            ],
            [
             0.3333333333333333,
             "#9c179e"
            ],
            [
             0.4444444444444444,
             "#bd3786"
            ],
            [
             0.5555555555555556,
             "#d8576b"
            ],
            [
             0.6666666666666666,
             "#ed7953"
            ],
            [
             0.7777777777777778,
             "#fb9f3a"
            ],
            [
             0.8888888888888888,
             "#fdca26"
            ],
            [
             1,
             "#f0f921"
            ]
           ]
          },
          "colorway": [
           "#636efa",
           "#EF553B",
           "#00cc96",
           "#ab63fa",
           "#FFA15A",
           "#19d3f3",
           "#FF6692",
           "#B6E880",
           "#FF97FF",
           "#FECB52"
          ],
          "font": {
           "color": "#2a3f5f"
          },
          "geo": {
           "bgcolor": "white",
           "lakecolor": "white",
           "landcolor": "#E5ECF6",
           "showlakes": true,
           "showland": true,
           "subunitcolor": "white"
          },
          "hoverlabel": {
           "align": "left"
          },
          "hovermode": "closest",
          "mapbox": {
           "style": "light"
          },
          "paper_bgcolor": "white",
          "plot_bgcolor": "#E5ECF6",
          "polar": {
           "angularaxis": {
            "gridcolor": "white",
            "linecolor": "white",
            "ticks": ""
           },
           "bgcolor": "#E5ECF6",
           "radialaxis": {
            "gridcolor": "white",
            "linecolor": "white",
            "ticks": ""
           }
          },
          "scene": {
           "xaxis": {
            "backgroundcolor": "#E5ECF6",
            "gridcolor": "white",
            "gridwidth": 2,
            "linecolor": "white",
            "showbackground": true,
            "ticks": "",
            "zerolinecolor": "white"
           },
           "yaxis": {
            "backgroundcolor": "#E5ECF6",
            "gridcolor": "white",
            "gridwidth": 2,
            "linecolor": "white",
            "showbackground": true,
            "ticks": "",
            "zerolinecolor": "white"
           },
           "zaxis": {
            "backgroundcolor": "#E5ECF6",
            "gridcolor": "white",
            "gridwidth": 2,
            "linecolor": "white",
            "showbackground": true,
            "ticks": "",
            "zerolinecolor": "white"
           }
          },
          "shapedefaults": {
           "line": {
            "color": "#2a3f5f"
           }
          },
          "ternary": {
           "aaxis": {
            "gridcolor": "white",
            "linecolor": "white",
            "ticks": ""
           },
           "baxis": {
            "gridcolor": "white",
            "linecolor": "white",
            "ticks": ""
           },
           "bgcolor": "#E5ECF6",
           "caxis": {
            "gridcolor": "white",
            "linecolor": "white",
            "ticks": ""
           }
          },
          "title": {
           "x": 0.05
          },
          "xaxis": {
           "automargin": true,
           "gridcolor": "white",
           "linecolor": "white",
           "ticks": "",
           "title": {
            "standoff": 15
           },
           "zerolinecolor": "white",
           "zerolinewidth": 2
          },
          "yaxis": {
           "automargin": true,
           "gridcolor": "white",
           "linecolor": "white",
           "ticks": "",
           "title": {
            "standoff": 15
           },
           "zerolinecolor": "white",
           "zerolinewidth": 2
          }
         }
        },
        "title": {
         "text": "Top 20 Features by Feature Importance"
        },
        "xaxis": {
         "anchor": "y",
         "domain": [
          0,
          1
         ],
         "title": {
          "text": "Feature"
         }
        },
        "yaxis": {
         "anchor": "x",
         "domain": [
          0,
          1
         ],
         "title": {
          "text": "Score"
         }
        }
       }
      },
      "text/html": [
       "<div>                            <div id=\"193b39c3-e869-4538-947e-0672d2e4d096\" class=\"plotly-graph-div\" style=\"height:525px; width:100%;\"></div>            <script type=\"text/javascript\">                require([\"plotly\"], function(Plotly) {                    window.PLOTLYENV=window.PLOTLYENV || {};                                    if (document.getElementById(\"193b39c3-e869-4538-947e-0672d2e4d096\")) {                    Plotly.newPlot(                        \"193b39c3-e869-4538-947e-0672d2e4d096\",                        [{\"alignmentgroup\": \"True\", \"hovertemplate\": \"variable=score<br>index=%{x}<br>value=%{y}<extra></extra>\", \"legendgroup\": \"score\", \"marker\": {\"color\": \"#636efa\"}, \"name\": \"score\", \"offsetgroup\": \"score\", \"orientation\": \"v\", \"showlegend\": true, \"textposition\": \"auto\", \"type\": \"bar\", \"x\": [\"price\", \"duration\", \"dest_Airport_Lat\", \"dest_Airport_Lon\", \"from_Airport_Lat\", \"from_Airport_Lon\", \"stops\", \"airline_1_Turkish Airlines\", \"airline_1_British Airways\", \"airline_1_Lufthansa\", \"aircraft_type_1_Airbus A320\", \"aircraft_type_1_Airbus A330\", \"aircraft_type_1_Boeing 787\", \"aircraft_type_1_Boeing 737\", \"airline_1_Avianca\", \"aircraft_type_1_Airbus A319\", \"airline_1_KLM\", \"airline_1_American\", \"aircraft_type_1_Airbus A321\", \"airline_1_Air India\"], \"xaxis\": \"x\", \"y\": [2454, 1313, 1041, 869, 783, 485, 355, 103, 84, 82, 78, 65, 64, 63, 58, 57, 53, 53, 51, 50], \"yaxis\": \"y\"}],                        {\"barmode\": \"relative\", \"legend\": {\"title\": {\"text\": \"variable\"}, \"tracegroupgap\": 0}, \"margin\": {\"t\": 60}, \"showlegend\": false, \"template\": {\"data\": {\"bar\": [{\"error_x\": {\"color\": \"#2a3f5f\"}, \"error_y\": {\"color\": \"#2a3f5f\"}, \"marker\": {\"line\": {\"color\": \"#E5ECF6\", \"width\": 0.5}}, \"type\": \"bar\"}], \"barpolar\": [{\"marker\": {\"line\": {\"color\": \"#E5ECF6\", \"width\": 0.5}}, \"type\": \"barpolar\"}], \"carpet\": [{\"aaxis\": {\"endlinecolor\": \"#2a3f5f\", \"gridcolor\": \"white\", \"linecolor\": \"white\", \"minorgridcolor\": \"white\", \"startlinecolor\": \"#2a3f5f\"}, \"baxis\": {\"endlinecolor\": \"#2a3f5f\", \"gridcolor\": \"white\", \"linecolor\": \"white\", \"minorgridcolor\": \"white\", \"startlinecolor\": \"#2a3f5f\"}, \"type\": \"carpet\"}], \"choropleth\": [{\"colorbar\": {\"outlinewidth\": 0, \"ticks\": \"\"}, \"type\": \"choropleth\"}], \"contour\": [{\"colorbar\": {\"outlinewidth\": 0, \"ticks\": \"\"}, \"colorscale\": [[0.0, \"#0d0887\"], [0.1111111111111111, \"#46039f\"], [0.2222222222222222, \"#7201a8\"], [0.3333333333333333, \"#9c179e\"], [0.4444444444444444, \"#bd3786\"], [0.5555555555555556, \"#d8576b\"], [0.6666666666666666, \"#ed7953\"], [0.7777777777777778, \"#fb9f3a\"], [0.8888888888888888, \"#fdca26\"], [1.0, \"#f0f921\"]], \"type\": \"contour\"}], \"contourcarpet\": [{\"colorbar\": {\"outlinewidth\": 0, \"ticks\": \"\"}, \"type\": \"contourcarpet\"}], \"heatmap\": [{\"colorbar\": {\"outlinewidth\": 0, \"ticks\": \"\"}, \"colorscale\": [[0.0, \"#0d0887\"], [0.1111111111111111, \"#46039f\"], [0.2222222222222222, \"#7201a8\"], [0.3333333333333333, \"#9c179e\"], [0.4444444444444444, \"#bd3786\"], [0.5555555555555556, \"#d8576b\"], [0.6666666666666666, \"#ed7953\"], [0.7777777777777778, \"#fb9f3a\"], [0.8888888888888888, \"#fdca26\"], [1.0, \"#f0f921\"]], \"type\": \"heatmap\"}], \"heatmapgl\": [{\"colorbar\": {\"outlinewidth\": 0, \"ticks\": \"\"}, \"colorscale\": [[0.0, \"#0d0887\"], [0.1111111111111111, \"#46039f\"], [0.2222222222222222, \"#7201a8\"], [0.3333333333333333, \"#9c179e\"], [0.4444444444444444, \"#bd3786\"], [0.5555555555555556, \"#d8576b\"], [0.6666666666666666, \"#ed7953\"], [0.7777777777777778, \"#fb9f3a\"], [0.8888888888888888, \"#fdca26\"], [1.0, \"#f0f921\"]], \"type\": \"heatmapgl\"}], \"histogram\": [{\"marker\": {\"colorbar\": {\"outlinewidth\": 0, \"ticks\": \"\"}}, \"type\": \"histogram\"}], \"histogram2d\": [{\"colorbar\": {\"outlinewidth\": 0, \"ticks\": \"\"}, \"colorscale\": [[0.0, \"#0d0887\"], [0.1111111111111111, \"#46039f\"], [0.2222222222222222, \"#7201a8\"], [0.3333333333333333, \"#9c179e\"], [0.4444444444444444, \"#bd3786\"], [0.5555555555555556, \"#d8576b\"], [0.6666666666666666, \"#ed7953\"], [0.7777777777777778, \"#fb9f3a\"], [0.8888888888888888, \"#fdca26\"], [1.0, \"#f0f921\"]], \"type\": \"histogram2d\"}], \"histogram2dcontour\": [{\"colorbar\": {\"outlinewidth\": 0, \"ticks\": \"\"}, \"colorscale\": [[0.0, \"#0d0887\"], [0.1111111111111111, \"#46039f\"], [0.2222222222222222, \"#7201a8\"], [0.3333333333333333, \"#9c179e\"], [0.4444444444444444, \"#bd3786\"], [0.5555555555555556, \"#d8576b\"], [0.6666666666666666, \"#ed7953\"], [0.7777777777777778, \"#fb9f3a\"], [0.8888888888888888, \"#fdca26\"], [1.0, \"#f0f921\"]], \"type\": \"histogram2dcontour\"}], \"mesh3d\": [{\"colorbar\": {\"outlinewidth\": 0, \"ticks\": \"\"}, \"type\": \"mesh3d\"}], \"parcoords\": [{\"line\": {\"colorbar\": {\"outlinewidth\": 0, \"ticks\": \"\"}}, \"type\": \"parcoords\"}], \"pie\": [{\"automargin\": true, \"type\": \"pie\"}], \"scatter\": [{\"marker\": {\"colorbar\": {\"outlinewidth\": 0, \"ticks\": \"\"}}, \"type\": \"scatter\"}], \"scatter3d\": [{\"line\": {\"colorbar\": {\"outlinewidth\": 0, \"ticks\": \"\"}}, \"marker\": {\"colorbar\": {\"outlinewidth\": 0, \"ticks\": \"\"}}, \"type\": \"scatter3d\"}], \"scattercarpet\": [{\"marker\": {\"colorbar\": {\"outlinewidth\": 0, \"ticks\": \"\"}}, \"type\": \"scattercarpet\"}], \"scattergeo\": [{\"marker\": {\"colorbar\": {\"outlinewidth\": 0, \"ticks\": \"\"}}, \"type\": \"scattergeo\"}], \"scattergl\": [{\"marker\": {\"colorbar\": {\"outlinewidth\": 0, \"ticks\": \"\"}}, \"type\": \"scattergl\"}], \"scattermapbox\": [{\"marker\": {\"colorbar\": {\"outlinewidth\": 0, \"ticks\": \"\"}}, \"type\": \"scattermapbox\"}], \"scatterpolar\": [{\"marker\": {\"colorbar\": {\"outlinewidth\": 0, \"ticks\": \"\"}}, \"type\": \"scatterpolar\"}], \"scatterpolargl\": [{\"marker\": {\"colorbar\": {\"outlinewidth\": 0, \"ticks\": \"\"}}, \"type\": \"scatterpolargl\"}], \"scatterternary\": [{\"marker\": {\"colorbar\": {\"outlinewidth\": 0, \"ticks\": \"\"}}, \"type\": \"scatterternary\"}], \"surface\": [{\"colorbar\": {\"outlinewidth\": 0, \"ticks\": \"\"}, \"colorscale\": [[0.0, \"#0d0887\"], [0.1111111111111111, \"#46039f\"], [0.2222222222222222, \"#7201a8\"], [0.3333333333333333, \"#9c179e\"], [0.4444444444444444, \"#bd3786\"], [0.5555555555555556, \"#d8576b\"], [0.6666666666666666, \"#ed7953\"], [0.7777777777777778, \"#fb9f3a\"], [0.8888888888888888, \"#fdca26\"], [1.0, \"#f0f921\"]], \"type\": \"surface\"}], \"table\": [{\"cells\": {\"fill\": {\"color\": \"#EBF0F8\"}, \"line\": {\"color\": \"white\"}}, \"header\": {\"fill\": {\"color\": \"#C8D4E3\"}, \"line\": {\"color\": \"white\"}}, \"type\": \"table\"}]}, \"layout\": {\"annotationdefaults\": {\"arrowcolor\": \"#2a3f5f\", \"arrowhead\": 0, \"arrowwidth\": 1}, \"autotypenumbers\": \"strict\", \"coloraxis\": {\"colorbar\": {\"outlinewidth\": 0, \"ticks\": \"\"}}, \"colorscale\": {\"diverging\": [[0, \"#8e0152\"], [0.1, \"#c51b7d\"], [0.2, \"#de77ae\"], [0.3, \"#f1b6da\"], [0.4, \"#fde0ef\"], [0.5, \"#f7f7f7\"], [0.6, \"#e6f5d0\"], [0.7, \"#b8e186\"], [0.8, \"#7fbc41\"], [0.9, \"#4d9221\"], [1, \"#276419\"]], \"sequential\": [[0.0, \"#0d0887\"], [0.1111111111111111, \"#46039f\"], [0.2222222222222222, \"#7201a8\"], [0.3333333333333333, \"#9c179e\"], [0.4444444444444444, \"#bd3786\"], [0.5555555555555556, \"#d8576b\"], [0.6666666666666666, \"#ed7953\"], [0.7777777777777778, \"#fb9f3a\"], [0.8888888888888888, \"#fdca26\"], [1.0, \"#f0f921\"]], \"sequentialminus\": [[0.0, \"#0d0887\"], [0.1111111111111111, \"#46039f\"], [0.2222222222222222, \"#7201a8\"], [0.3333333333333333, \"#9c179e\"], [0.4444444444444444, \"#bd3786\"], [0.5555555555555556, \"#d8576b\"], [0.6666666666666666, \"#ed7953\"], [0.7777777777777778, \"#fb9f3a\"], [0.8888888888888888, \"#fdca26\"], [1.0, \"#f0f921\"]]}, \"colorway\": [\"#636efa\", \"#EF553B\", \"#00cc96\", \"#ab63fa\", \"#FFA15A\", \"#19d3f3\", \"#FF6692\", \"#B6E880\", \"#FF97FF\", \"#FECB52\"], \"font\": {\"color\": \"#2a3f5f\"}, \"geo\": {\"bgcolor\": \"white\", \"lakecolor\": \"white\", \"landcolor\": \"#E5ECF6\", \"showlakes\": true, \"showland\": true, \"subunitcolor\": \"white\"}, \"hoverlabel\": {\"align\": \"left\"}, \"hovermode\": \"closest\", \"mapbox\": {\"style\": \"light\"}, \"paper_bgcolor\": \"white\", \"plot_bgcolor\": \"#E5ECF6\", \"polar\": {\"angularaxis\": {\"gridcolor\": \"white\", \"linecolor\": \"white\", \"ticks\": \"\"}, \"bgcolor\": \"#E5ECF6\", \"radialaxis\": {\"gridcolor\": \"white\", \"linecolor\": \"white\", \"ticks\": \"\"}}, \"scene\": {\"xaxis\": {\"backgroundcolor\": \"#E5ECF6\", \"gridcolor\": \"white\", \"gridwidth\": 2, \"linecolor\": \"white\", \"showbackground\": true, \"ticks\": \"\", \"zerolinecolor\": \"white\"}, \"yaxis\": {\"backgroundcolor\": \"#E5ECF6\", \"gridcolor\": \"white\", \"gridwidth\": 2, \"linecolor\": \"white\", \"showbackground\": true, \"ticks\": \"\", \"zerolinecolor\": \"white\"}, \"zaxis\": {\"backgroundcolor\": \"#E5ECF6\", \"gridcolor\": \"white\", \"gridwidth\": 2, \"linecolor\": \"white\", \"showbackground\": true, \"ticks\": \"\", \"zerolinecolor\": \"white\"}}, \"shapedefaults\": {\"line\": {\"color\": \"#2a3f5f\"}}, \"ternary\": {\"aaxis\": {\"gridcolor\": \"white\", \"linecolor\": \"white\", \"ticks\": \"\"}, \"baxis\": {\"gridcolor\": \"white\", \"linecolor\": \"white\", \"ticks\": \"\"}, \"bgcolor\": \"#E5ECF6\", \"caxis\": {\"gridcolor\": \"white\", \"linecolor\": \"white\", \"ticks\": \"\"}}, \"title\": {\"x\": 0.05}, \"xaxis\": {\"automargin\": true, \"gridcolor\": \"white\", \"linecolor\": \"white\", \"ticks\": \"\", \"title\": {\"standoff\": 15}, \"zerolinecolor\": \"white\", \"zerolinewidth\": 2}, \"yaxis\": {\"automargin\": true, \"gridcolor\": \"white\", \"linecolor\": \"white\", \"ticks\": \"\", \"title\": {\"standoff\": 15}, \"zerolinecolor\": \"white\", \"zerolinewidth\": 2}}}, \"title\": {\"text\": \"Top 20 Features by Feature Importance\"}, \"xaxis\": {\"anchor\": \"y\", \"domain\": [0.0, 1.0], \"title\": {\"text\": \"Feature\"}}, \"yaxis\": {\"anchor\": \"x\", \"domain\": [0.0, 1.0], \"title\": {\"text\": \"Score\"}}},                        {\"responsive\": true}                    ).then(function(){\n",
       "                            \n",
       "var gd = document.getElementById('193b39c3-e869-4538-947e-0672d2e4d096');\n",
       "var x = new MutationObserver(function (mutations, observer) {{\n",
       "        var display = window.getComputedStyle(gd).display;\n",
       "        if (!display || display === 'none') {{\n",
       "            console.log([gd, 'removed!']);\n",
       "            Plotly.purge(gd);\n",
       "            observer.disconnect();\n",
       "        }}\n",
       "}});\n",
       "\n",
       "// Listen for the removal of the full notebook cells\n",
       "var notebookContainer = gd.closest('#notebook-container');\n",
       "if (notebookContainer) {{\n",
       "    x.observe(notebookContainer, {childList: true});\n",
       "}}\n",
       "\n",
       "// Listen for the clearing of the current output cell\n",
       "var outputEl = gd.closest('.output');\n",
       "if (outputEl) {{\n",
       "    x.observe(outputEl, {childList: true});\n",
       "}}\n",
       "\n",
       "                        })                };                });            </script>        </div>"
      ]
     },
     "metadata": {},
     "output_type": "display_data"
    }
   ],
   "source": [
    "# Graph Top 20 Features\n",
    "rslt_df = data.sort_values(by = 'score', ascending = False).head(20)\n",
    "fig = px.bar(rslt_df)\n",
    "fig.update_layout( title='Top 20 Features by Feature Importance',\n",
    "                  xaxis_title='Feature', yaxis_title='Score', showlegend=False)\n",
    "fig.show()\n",
    "# export Graph\n",
    "fig.write_html(f\"visualizations/Top_20_Features.html\")"
   ]
  },
  {
   "cell_type": "markdown",
   "id": "19a4a034",
   "metadata": {},
   "source": [
    "As per the graph, `price` had the highest importance, followed by `duration`. Flyers can use these features to optimize their flight plans to ensure they have an efficient flight. "
   ]
  },
  {
   "cell_type": "markdown",
   "id": "eb1c3a81",
   "metadata": {},
   "source": [
    "To evaluate the model, we can also generate a report on the predictions it makes."
   ]
  },
  {
   "cell_type": "code",
   "execution_count": 121,
   "id": "e8da1747",
   "metadata": {},
   "outputs": [
    {
     "name": "stdout",
     "output_type": "stream",
     "text": [
      "              precision    recall  f1-score   support\n",
      "\n",
      "           0       0.93      0.82      0.87     35502\n",
      "           1       0.97      0.99      0.98    219719\n",
      "\n",
      "    accuracy                           0.97    255221\n",
      "   macro avg       0.95      0.91      0.93    255221\n",
      "weighted avg       0.97      0.97      0.97    255221\n",
      "\n"
     ]
    }
   ],
   "source": [
    "y_pred = XGB_model.predict(X_test)\n",
    "print(classification_report(y_test,y_pred))"
   ]
  },
  {
   "cell_type": "markdown",
   "id": "8a69b191",
   "metadata": {},
   "source": [
    "We can also review the confusion matrix of the model."
   ]
  },
  {
   "cell_type": "code",
   "execution_count": 122,
   "id": "16b6900e",
   "metadata": {},
   "outputs": [
    {
     "data": {
      "text/plain": [
       "array([[ 29281,   6221],\n",
       "       [  2289, 217430]])"
      ]
     },
     "execution_count": 122,
     "metadata": {},
     "output_type": "execute_result"
    }
   ],
   "source": [
    "from sklearn.metrics import plot_confusion_matrix, confusion_matrix\n",
    "# Generate confusion matrix\n",
    "cf_matrix = confusion_matrix(y_test, y_pred)\n",
    "\n",
    "cf_matrix"
   ]
  },
  {
   "cell_type": "code",
   "execution_count": 124,
   "id": "441af589",
   "metadata": {},
   "outputs": [
    {
     "data": {
      "image/png": "[encoded data removed]",
      "text/plain": [
       "<Figure size 640x480 with 2 Axes>"
      ]
     },
     "metadata": {},
     "output_type": "display_data"
    }
   ],
   "source": [
    "# Plot Confusion Matrix\n",
    "plot_confusion_matrix(XGB_model, X_test, y_test, cmap='Reds');"
   ]
  },
  {
   "cell_type": "markdown",
   "id": "e739c016",
   "metadata": {},
   "source": [
    "Below would be the breakdown for the confusion matrix.\n",
    "1. **True Positive (TP)**: 217,430\n",
    "2. **False Positive (FP)**: 6,221\n",
    "3. **True Negative (TN)**: 29,281\n",
    "4. **False Negative (FN)**: 2,289"
   ]
  },
  {
   "cell_type": "markdown",
   "id": "d0c9db83",
   "metadata": {},
   "source": [
    "# Next Steps"
   ]
  },
  {
   "attachments": {},
   "cell_type": "markdown",
   "id": "7807061d",
   "metadata": {},
   "source": [
    "Further refinements to the data and the model can be taken to help improve the prediction of the model, including adding/removing features to the final dataset used for modeling during pre-processing.  Potential over/under sampling of the data, as there is classification imbalance in the target variable. Altering the target variable is also other option that can be done to help generate better results. Lastly, adjusting more hyperparameters of each model through the ML pipeline can also assist in improving our models even further. "
   ]
  },
  {
   "cell_type": "code",
   "execution_count": null,
   "id": "4d313b2e",
   "metadata": {},
   "outputs": [],
   "source": []
  }
 ],
 "metadata": {
  "kernelspec": {
   "display_name": "Python [conda env:capstone]",
   "language": "python",
   "name": "conda-env-capstone-py"
  },
  "language_info": {
   "codemirror_mode": {
    "name": "ipython",
    "version": 3
   },
   "file_extension": ".py",
   "mimetype": "text/x-python",
   "name": "python",
   "nbconvert_exporter": "python",
   "pygments_lexer": "ipython3",
   "version": "3.8.13"
  }
 },
 "nbformat": 4,
 "nbformat_minor": 5
}
